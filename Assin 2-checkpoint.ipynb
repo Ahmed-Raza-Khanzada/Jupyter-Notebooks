{
 "cells": [
  {
   "cell_type": "code",
   "execution_count": 1,
   "metadata": {},
   "outputs": [],
   "source": [
    "#Q1) List Tuple Dictianary Array you must code and answer the difference"
   ]
  },
  {
   "cell_type": "code",
   "execution_count": 15,
   "metadata": {},
   "outputs": [],
   "source": [
    "#A1) In List we can store multiple type of data and can manage it by deleting or adding something and use \"[]\" square bracket\n",
    "l = list([\"a\",\"1\",\"8.0\"])\n",
    "l.append(\"Ahmed Raza\")\n",
    "#    In Tuple we can store multiple type of data but after creating it we cant able to change any thing and use \"()\" round bracket\n",
    "t = tuple([\"a\",\"1\",\"8.0\"])\n",
    "#    In Dictinary we can store value through its key and and can manage by deleting and adding something and use \"{}\" curly bracket\n",
    "d = {\"Ahmed Raza\":1,2:\"smiu\"}\n",
    "d[\"usama\"] = \"2\"\n",
    "#    In Array we can store only one Type of Data and use \"[]\" square bracket\n",
    "import numpy as np \n",
    "# 5X5 zero array\n",
    "zero_array = np.zeros((5,5))"
   ]
  },
  {
   "cell_type": "code",
   "execution_count": 20,
   "metadata": {},
   "outputs": [
    {
     "name": "stdout",
     "output_type": "stream",
     "text": [
      "5 rows and 5 columns so its shape is (5, 5)\n",
      "length of list is 4\n",
      "length of tuple is 3\n",
      "length of dict is 3\n"
     ]
    }
   ],
   "source": [
    "#Q2) Identify How many rows and columns all of above\n",
    "#Ans2)\n",
    "print(f\"{zero_array.shape[0]} rows and {zero_array.shape[1]} columns so its shape is\",zero_array.shape)\n",
    "print(\"length of list is\",len(l))\n",
    "print(\"length of tuple is\",len(t))\n",
    "print(\"length of dict is\",len(d))"
   ]
  },
  {
   "cell_type": "code",
   "execution_count": 24,
   "metadata": {},
   "outputs": [
    {
     "name": "stdout",
     "output_type": "stream",
     "text": [
      "Element is present at index 3\n",
      "value is found\n"
     ]
    }
   ],
   "source": [
    "#Q3 what is diff bt linear and Binary search ? show with help of example\n",
    "#Ans3)\n",
    "#Binary search requires the input data to be sorted; linear search doesn't\n",
    "#Binary search requires an ordering comparison; linear search only requires equality comparisons\n",
    "def linear_search(array, value):\n",
    "  for element in array:\n",
    "    if element == value:\n",
    "      return 'value is found'\n",
    "  return 'value is not found'\n",
    "def binary_search(arr, low, high, x): \n",
    "  \n",
    "    # Check base case \n",
    "    if high >= low: \n",
    "  \n",
    "        mid = (high + low) // 2\n",
    "  \n",
    "        # If element is present at the middle itself \n",
    "        if arr[mid] == x: \n",
    "            return mid \n",
    "  \n",
    "        # If element is smaller than mid, then it can only \n",
    "        # be present in left subarray \n",
    "        elif arr[mid] > x: \n",
    "            return binary_search(arr, low, mid - 1, x) \n",
    "  \n",
    "        # Else the element can only be present in right sub array \n",
    "        else: \n",
    "            return binary_search(arr, mid + 1, high, x) \n",
    "  \n",
    "    else: \n",
    "        # Element is not present in the array \n",
    "        return -1\n",
    "  \n",
    "# Test array \n",
    "arr = [ 2, 3, 4, 10, 40 ] \n",
    "x = 10\n",
    "  \n",
    "# Function call \n",
    "result = binary_search(arr, 0, len(arr)-1, x) \n",
    "  \n",
    "if result != -1: \n",
    "    print(\"Element is present at index\", str(result)) \n",
    "else: \n",
    "    print(\"Element is not present in array\")\n",
    "a = [3, 5, 11, 6, 9, 23, 12, 13, 4]\n",
    "v = 12\n",
    "print(linear_search(a, v))\n",
    "\n"
   ]
  },
  {
   "cell_type": "code",
   "execution_count": 25,
   "metadata": {},
   "outputs": [],
   "source": [
    "#Q4) how many Taks we can perform with Numpy Library?\n",
    "#Ans) \n",
    "# Term Numpy means \"Numerical Python\". NumPy's operations are divided into three main categories: Fourier Transform and Shape Manipulation,\n",
    "# Mathematical and Logical Operations, and Linear Algebra and Random Number Generation."
   ]
  },
  {
   "cell_type": "code",
   "execution_count": null,
   "metadata": {},
   "outputs": [],
   "source": [
    "#Q5) how many Taks we can perform with Pandas Library?\n",
    "#Ans) \n",
    "#Pandas is tools for data analysis. The package comes with several data structures that can be used for many different data manipulation tasks. It also has a variety of methods that can be invoked for data analysis,\n",
    "#which comes in handy when working on data science and machine learning problems in Python"
   ]
  }
 ],
 "metadata": {
  "kernelspec": {
   "display_name": "Python 3",
   "language": "python",
   "name": "python3"
  },
  "language_info": {
   "codemirror_mode": {
    "name": "ipython",
    "version": 3
   },
   "file_extension": ".py",
   "mimetype": "text/x-python",
   "name": "python",
   "nbconvert_exporter": "python",
   "pygments_lexer": "ipython3",
   "version": "3.7.3"
  }
 },
 "nbformat": 4,
 "nbformat_minor": 2
}
