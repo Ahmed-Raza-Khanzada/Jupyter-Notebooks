{
 "cells": [
  {
   "cell_type": "code",
   "execution_count": 12,
   "metadata": {
    "colab": {},
    "colab_type": "code",
    "id": "8ddjtCwzLylL"
   },
   "outputs": [],
   "source": [
    "import numpy as np\n",
    "import tensorflow as tf\n",
    "from tensorflow import keras\n",
    "from sklearn.model_selection import train_test_split\n",
    "from tensorflow.keras.datasets import imdb"
   ]
  },
  {
   "cell_type": "code",
   "execution_count": 13,
   "metadata": {
    "colab": {
     "base_uri": "https://localhost:8080/",
     "height": 35
    },
    "colab_type": "code",
    "id": "RwLt3XMJL61n",
    "outputId": "6d8fb464-f222-4804-8622-1ed1896e7d06"
   },
   "outputs": [],
   "source": [
    "#from keras.datasets import imdb"
   ]
  },
  {
   "cell_type": "code",
   "execution_count": 27,
   "metadata": {
    "colab": {},
    "colab_type": "code",
    "id": "zNnTpSGUL-t7"
   },
   "outputs": [
    {
     "ename": "TypeError",
     "evalue": "<lambda>() got multiple values for keyword argument 'allow_pickle'",
     "output_type": "error",
     "traceback": [
      "\u001b[1;31m---------------------------------------------------------------------------\u001b[0m",
      "\u001b[1;31mTypeError\u001b[0m                                 Traceback (most recent call last)",
      "\u001b[1;32m<ipython-input-27-2442dc942d11>\u001b[0m in \u001b[0;36m<module>\u001b[1;34m\u001b[0m\n\u001b[0;32m      6\u001b[0m \u001b[1;33m\u001b[0m\u001b[0m\n\u001b[0;32m      7\u001b[0m \u001b[1;31m# call load_data with allow_pickle implicitly set to true\u001b[0m\u001b[1;33m\u001b[0m\u001b[1;33m\u001b[0m\u001b[1;33m\u001b[0m\u001b[0m\n\u001b[1;32m----> 8\u001b[1;33m \u001b[1;33m(\u001b[0m\u001b[0mtrain_data\u001b[0m\u001b[1;33m,\u001b[0m \u001b[0mtrain_labels\u001b[0m\u001b[1;33m)\u001b[0m\u001b[1;33m,\u001b[0m \u001b[1;33m(\u001b[0m\u001b[0mtest_data\u001b[0m\u001b[1;33m,\u001b[0m \u001b[0mtest_labels\u001b[0m\u001b[1;33m)\u001b[0m \u001b[1;33m=\u001b[0m \u001b[0mimdb\u001b[0m\u001b[1;33m.\u001b[0m\u001b[0mload_data\u001b[0m\u001b[1;33m(\u001b[0m\u001b[0mnum_words\u001b[0m\u001b[1;33m=\u001b[0m\u001b[1;36m10000\u001b[0m\u001b[1;33m)\u001b[0m\u001b[1;33m\u001b[0m\u001b[1;33m\u001b[0m\u001b[0m\n\u001b[0m\u001b[0;32m      9\u001b[0m \u001b[1;33m\u001b[0m\u001b[0m\n\u001b[0;32m     10\u001b[0m \u001b[1;31m# restore np.load for future normal usage\u001b[0m\u001b[1;33m\u001b[0m\u001b[1;33m\u001b[0m\u001b[1;33m\u001b[0m\u001b[0m\n",
      "\u001b[1;32mC:\\ProgramData\\Anaconda3\\lib\\site-packages\\tensorflow_core\\python\\keras\\datasets\\imdb.py\u001b[0m in \u001b[0;36mload_data\u001b[1;34m(path, num_words, skip_top, maxlen, seed, start_char, oov_char, index_from, **kwargs)\u001b[0m\n\u001b[0;32m     84\u001b[0m       \u001b[0mfile_hash\u001b[0m\u001b[1;33m=\u001b[0m\u001b[1;33m\u001b[0m\u001b[1;33m\u001b[0m\u001b[0m\n\u001b[0;32m     85\u001b[0m       '69664113be75683a8fe16e3ed0ab59fda8886cb3cd7ada244f7d9544e4676b9f')\n\u001b[1;32m---> 86\u001b[1;33m   \u001b[1;32mwith\u001b[0m \u001b[0mnp\u001b[0m\u001b[1;33m.\u001b[0m\u001b[0mload\u001b[0m\u001b[1;33m(\u001b[0m\u001b[0mpath\u001b[0m\u001b[1;33m,\u001b[0m \u001b[0mallow_pickle\u001b[0m\u001b[1;33m=\u001b[0m\u001b[1;32mTrue\u001b[0m\u001b[1;33m)\u001b[0m \u001b[1;32mas\u001b[0m \u001b[0mf\u001b[0m\u001b[1;33m:\u001b[0m\u001b[1;33m\u001b[0m\u001b[1;33m\u001b[0m\u001b[0m\n\u001b[0m\u001b[0;32m     87\u001b[0m     \u001b[0mx_train\u001b[0m\u001b[1;33m,\u001b[0m \u001b[0mlabels_train\u001b[0m \u001b[1;33m=\u001b[0m \u001b[0mf\u001b[0m\u001b[1;33m[\u001b[0m\u001b[1;34m'x_train'\u001b[0m\u001b[1;33m]\u001b[0m\u001b[1;33m,\u001b[0m \u001b[0mf\u001b[0m\u001b[1;33m[\u001b[0m\u001b[1;34m'y_train'\u001b[0m\u001b[1;33m]\u001b[0m\u001b[1;33m\u001b[0m\u001b[1;33m\u001b[0m\u001b[0m\n\u001b[0;32m     88\u001b[0m     \u001b[0mx_test\u001b[0m\u001b[1;33m,\u001b[0m \u001b[0mlabels_test\u001b[0m \u001b[1;33m=\u001b[0m \u001b[0mf\u001b[0m\u001b[1;33m[\u001b[0m\u001b[1;34m'x_test'\u001b[0m\u001b[1;33m]\u001b[0m\u001b[1;33m,\u001b[0m \u001b[0mf\u001b[0m\u001b[1;33m[\u001b[0m\u001b[1;34m'y_test'\u001b[0m\u001b[1;33m]\u001b[0m\u001b[1;33m\u001b[0m\u001b[1;33m\u001b[0m\u001b[0m\n",
      "\u001b[1;32m<ipython-input-24-cb6a1ea8c8e1>\u001b[0m in \u001b[0;36m<lambda>\u001b[1;34m(*a, **k)\u001b[0m\n\u001b[0;32m      3\u001b[0m \u001b[1;33m\u001b[0m\u001b[0m\n\u001b[0;32m      4\u001b[0m \u001b[1;31m# modify the default parameters of np.load\u001b[0m\u001b[1;33m\u001b[0m\u001b[1;33m\u001b[0m\u001b[1;33m\u001b[0m\u001b[0m\n\u001b[1;32m----> 5\u001b[1;33m \u001b[0mnp\u001b[0m\u001b[1;33m.\u001b[0m\u001b[0mload\u001b[0m \u001b[1;33m=\u001b[0m \u001b[1;32mlambda\u001b[0m \u001b[1;33m*\u001b[0m\u001b[0ma\u001b[0m\u001b[1;33m,\u001b[0m\u001b[1;33m**\u001b[0m\u001b[0mk\u001b[0m\u001b[1;33m:\u001b[0m \u001b[0mnp_load_old\u001b[0m\u001b[1;33m(\u001b[0m\u001b[1;33m*\u001b[0m\u001b[0ma\u001b[0m\u001b[1;33m,\u001b[0m \u001b[0mallow_pickle\u001b[0m\u001b[1;33m=\u001b[0m\u001b[1;32mTrue\u001b[0m\u001b[1;33m,\u001b[0m \u001b[1;33m**\u001b[0m\u001b[0mk\u001b[0m\u001b[1;33m)\u001b[0m\u001b[1;33m\u001b[0m\u001b[1;33m\u001b[0m\u001b[0m\n\u001b[0m\u001b[0;32m      6\u001b[0m \u001b[1;33m\u001b[0m\u001b[0m\n\u001b[0;32m      7\u001b[0m \u001b[1;31m# call load_data with allow_pickle implicitly set to true\u001b[0m\u001b[1;33m\u001b[0m\u001b[1;33m\u001b[0m\u001b[1;33m\u001b[0m\u001b[0m\n",
      "\u001b[1;31mTypeError\u001b[0m: <lambda>() got multiple values for keyword argument 'allow_pickle'"
     ]
    }
   ],
   "source": [
    "# save np.load\n",
    "#np_load_old = np.load\n",
    "\n",
    "# modify the default parameters of np.load\n",
    "#np.load = lambda *a,**k: np_load_old(*a, allow_pickle=True, **k)\n",
    "\n",
    "# call load_data with allow_pickle implicitly set to true\n",
    "(train_data, train_labels), (test_data, test_labels) = imdb.load_data(num_words=10000)\n",
    "\n",
    "# restore np.load for future normal usage\n",
    "#np.load = np_load_old"
   ]
  },
  {
   "cell_type": "code",
   "execution_count": 5,
   "metadata": {
    "colab": {
     "base_uri": "https://localhost:8080/",
     "height": 35
    },
    "colab_type": "code",
    "id": "diGW9-ikA65I",
    "outputId": "3065cd68-6081-4d84-f448-79d8f5fe8387"
   },
   "outputs": [
    {
     "data": {
      "text/plain": [
       "9999"
      ]
     },
     "execution_count": 5,
     "metadata": {
      "tags": []
     },
     "output_type": "execute_result"
    }
   ],
   "source": [
    "max([max(sequence) for sequence in train_data])"
   ]
  },
  {
   "cell_type": "code",
   "execution_count": 1,
   "metadata": {
    "colab": {},
    "colab_type": "code",
    "id": "p0ZsiH6ezpgD"
   },
   "outputs": [
    {
     "ename": "NameError",
     "evalue": "name 'imdb' is not defined",
     "output_type": "error",
     "traceback": [
      "\u001b[1;31m---------------------------------------------------------------------------\u001b[0m",
      "\u001b[1;31mNameError\u001b[0m                                 Traceback (most recent call last)",
      "\u001b[1;32m<ipython-input-1-d01d6f4b28bd>\u001b[0m in \u001b[0;36m<module>\u001b[1;34m\u001b[0m\n\u001b[1;32m----> 1\u001b[1;33m \u001b[0mword_index\u001b[0m\u001b[1;33m=\u001b[0m\u001b[0mimdb\u001b[0m\u001b[1;33m.\u001b[0m\u001b[0mget_word_index\u001b[0m\u001b[1;33m(\u001b[0m\u001b[1;33m)\u001b[0m\u001b[1;33m\u001b[0m\u001b[1;33m\u001b[0m\u001b[0m\n\u001b[0m\u001b[0;32m      2\u001b[0m \u001b[0mwordindex\u001b[0m\u001b[1;33m\u001b[0m\u001b[1;33m\u001b[0m\u001b[0m\n",
      "\u001b[1;31mNameError\u001b[0m: name 'imdb' is not defined"
     ]
    }
   ],
   "source": [
    "word_index=imdb.get_word_index()\n",
    "word_index"
   ]
  },
  {
   "cell_type": "code",
   "execution_count": 0,
   "metadata": {
    "colab": {},
    "colab_type": "code",
    "id": "Ewll1Dff0MNE"
   },
   "outputs": [],
   "source": [
    "reverse_word=dict(\n",
    "[(values,key) for (key,values) in word_index.items()]\n",
    ")\n",
    "decoded_review=' '.join(reverse_word.get(i-3,'?') for i in train_data[0])"
   ]
  },
  {
   "cell_type": "code",
   "execution_count": 8,
   "metadata": {
    "colab": {
     "base_uri": "https://localhost:8080/",
     "height": 55
    },
    "colab_type": "code",
    "id": "tVEwyMZt0lJc",
    "outputId": "e86c397a-aeb9-4a92-9d2d-b9fb97faa4a0"
   },
   "outputs": [
    {
     "data": {
      "text/plain": [
       "\"? this film was just brilliant casting location scenery story direction everyone's really suited the part they played and you could just imagine being there robert ? is an amazing actor and now the same being director ? father came from the same scottish island as myself so i loved the fact there was a real connection with this film the witty remarks throughout the film were great it was just brilliant so much that i bought the film as soon as it was released for ? and would recommend it to everyone to watch and the fly fishing was amazing really cried at the end it was so sad and you know what they say if you cry at a film it must have been good and this definitely was also ? to the two little boy's that played the ? of norman and paul they were just brilliant children are often left out of the ? list i think because the stars that play them all grown up are such a big profile for the whole film but these children are amazing and should be praised for what they have done don't you think the whole story was so lovely because it was true and was someone's life after all that was shared with us all\""
      ]
     },
     "execution_count": 8,
     "metadata": {
      "tags": []
     },
     "output_type": "execute_result"
    }
   ],
   "source": [
    "decoded_review"
   ]
  },
  {
   "cell_type": "code",
   "execution_count": 0,
   "metadata": {
    "colab": {},
    "colab_type": "code",
    "id": "r7IF9ceP0pAd"
   },
   "outputs": [],
   "source": [
    "import numpy as np\n",
    "def vectorize_sequence(sequence,dimension=10000):\n",
    "  results=np.zeros((len(sequence),dimension))\n",
    "  for i,sequence in enumerate(sequence):\n",
    "    results[i,sequence]=1\n",
    "  return results"
   ]
  },
  {
   "cell_type": "code",
   "execution_count": 0,
   "metadata": {
    "colab": {},
    "colab_type": "code",
    "id": "5vTVOHbg1BWQ"
   },
   "outputs": [],
   "source": [
    "x_train=vectorize_sequence(train_data)\n",
    "x_test=vectorize_sequence(test_data)"
   ]
  },
  {
   "cell_type": "code",
   "execution_count": 0,
   "metadata": {
    "colab": {},
    "colab_type": "code",
    "id": "v4cgbYCP1MC8"
   },
   "outputs": [],
   "source": [
    "y_train=np.asarray(train_labels).astype('float32')\n",
    "y_test=np.asarray(test_labels).astype('float32')"
   ]
  },
  {
   "cell_type": "code",
   "execution_count": 0,
   "metadata": {
    "colab": {},
    "colab_type": "code",
    "id": "3pucfrnX1YSX"
   },
   "outputs": [],
   "source": [
    "from keras import models\n",
    "from keras import layers"
   ]
  },
  {
   "cell_type": "code",
   "execution_count": 0,
   "metadata": {
    "colab": {},
    "colab_type": "code",
    "id": "fZHBDomN1fL6"
   },
   "outputs": [],
   "source": [
    "network=models.Sequential()\n",
    "network.add(layers.Dense(16,activation='relu',input_shape=(10000,)))\n",
    "network.add(layers.Dense(16,activation='relu'))\n",
    "network.add(layers.Dense(1,activation='sigmoid'))"
   ]
  },
  {
   "cell_type": "code",
   "execution_count": 0,
   "metadata": {
    "colab": {},
    "colab_type": "code",
    "id": "0FshJW5l1xhM"
   },
   "outputs": [],
   "source": [
    "from keras import optimizers"
   ]
  },
  {
   "cell_type": "code",
   "execution_count": 0,
   "metadata": {
    "colab": {},
    "colab_type": "code",
    "id": "_5SLwWpn7kPp"
   },
   "outputs": [],
   "source": [
    "opt=optimizers.rmsprop()"
   ]
  },
  {
   "cell_type": "code",
   "execution_count": 0,
   "metadata": {
    "colab": {},
    "colab_type": "code",
    "id": "6qPyPjq17u7e"
   },
   "outputs": [],
   "source": [
    "network.compile(optimizer=opt,loss='binary_crossentropy',metrics=['acc'])"
   ]
  },
  {
   "cell_type": "code",
   "execution_count": 59,
   "metadata": {
    "colab": {
     "base_uri": "https://localhost:8080/",
     "height": 35
    },
    "colab_type": "code",
    "id": "BcafHUrG74f_",
    "outputId": "6744453c-1eea-4641-80a4-db95fd4a17c4"
   },
   "outputs": [
    {
     "data": {
      "text/plain": [
       "(25000, 10000)"
      ]
     },
     "execution_count": 59,
     "metadata": {
      "tags": []
     },
     "output_type": "execute_result"
    }
   ],
   "source": [
    "x_train.shape"
   ]
  },
  {
   "cell_type": "code",
   "execution_count": 12,
   "metadata": {
    "colab": {
     "base_uri": "https://localhost:8080/",
     "height": 35
    },
    "colab_type": "code",
    "id": "SjZvfIma8Rjf",
    "outputId": "f585cc1b-8e3c-4bb8-f547-7794837f6ebf"
   },
   "outputs": [
    {
     "data": {
      "text/plain": [
       "numpy.ndarray"
      ]
     },
     "execution_count": 12,
     "metadata": {
      "tags": []
     },
     "output_type": "execute_result"
    }
   ],
   "source": [
    "x_val=x_train[:10000]\n",
    "partial_x_train=x_train[10000:]\n",
    "type(partial_x_train)"
   ]
  },
  {
   "cell_type": "code",
   "execution_count": 13,
   "metadata": {
    "colab": {
     "base_uri": "https://localhost:8080/",
     "height": 35
    },
    "colab_type": "code",
    "id": "Ak3xzyFi8bNG",
    "outputId": "cbbe3d1c-773f-48a5-9bcb-87345ea485b5"
   },
   "outputs": [
    {
     "data": {
      "text/plain": [
       "numpy.ndarray"
      ]
     },
     "execution_count": 13,
     "metadata": {
      "tags": []
     },
     "output_type": "execute_result"
    }
   ],
   "source": [
    "y_val=y_train[:10000]\n",
    "partial_y_train=y_train[10000:]\n",
    "type(partial_y_train)"
   ]
  },
  {
   "cell_type": "code",
   "execution_count": 67,
   "metadata": {
    "colab": {
     "base_uri": "https://localhost:8080/",
     "height": 811
    },
    "colab_type": "code",
    "id": "xb5uBvuV8jzQ",
    "outputId": "da9738b5-e5e3-42c8-c430-a15b21ad38b6"
   },
   "outputs": [
    {
     "name": "stderr",
     "output_type": "stream",
     "text": [
      "W0715 18:50:06.646996 140006800820096 deprecation_wrapper.py:119] From /usr/local/lib/python3.6/dist-packages/keras/backend/tensorflow_backend.py:986: The name tf.assign_add is deprecated. Please use tf.compat.v1.assign_add instead.\n",
      "\n"
     ]
    },
    {
     "name": "stdout",
     "output_type": "stream",
     "text": [
      "Train on 15000 samples, validate on 10000 samples\n",
      "Epoch 1/20\n",
      "15000/15000 [==============================] - 3s 209us/step - loss: 0.5048 - acc: 0.7871 - val_loss: 0.3775 - val_acc: 0.8705\n",
      "Epoch 2/20\n",
      "15000/15000 [==============================] - 2s 155us/step - loss: 0.2992 - acc: 0.9044 - val_loss: 0.3002 - val_acc: 0.8894\n",
      "Epoch 3/20\n",
      "15000/15000 [==============================] - 2s 155us/step - loss: 0.2174 - acc: 0.9281 - val_loss: 0.3083 - val_acc: 0.8715\n",
      "Epoch 4/20\n",
      "15000/15000 [==============================] - 2s 157us/step - loss: 0.1747 - acc: 0.9441 - val_loss: 0.2825 - val_acc: 0.8843\n",
      "Epoch 5/20\n",
      "15000/15000 [==============================] - 2s 156us/step - loss: 0.1422 - acc: 0.9541 - val_loss: 0.2855 - val_acc: 0.8857\n",
      "Epoch 6/20\n",
      "15000/15000 [==============================] - 2s 158us/step - loss: 0.1148 - acc: 0.9651 - val_loss: 0.3152 - val_acc: 0.8774\n",
      "Epoch 7/20\n",
      "15000/15000 [==============================] - 2s 156us/step - loss: 0.0978 - acc: 0.9709 - val_loss: 0.3130 - val_acc: 0.8842\n",
      "Epoch 8/20\n",
      "15000/15000 [==============================] - 2s 157us/step - loss: 0.0806 - acc: 0.9764 - val_loss: 0.3868 - val_acc: 0.8650\n",
      "Epoch 9/20\n",
      "15000/15000 [==============================] - 2s 156us/step - loss: 0.0661 - acc: 0.9820 - val_loss: 0.3638 - val_acc: 0.8777\n",
      "Epoch 10/20\n",
      "15000/15000 [==============================] - 2s 157us/step - loss: 0.0564 - acc: 0.9851 - val_loss: 0.3843 - val_acc: 0.8797\n",
      "Epoch 11/20\n",
      "15000/15000 [==============================] - 2s 156us/step - loss: 0.0434 - acc: 0.9903 - val_loss: 0.4142 - val_acc: 0.8779\n",
      "Epoch 12/20\n",
      "15000/15000 [==============================] - 2s 157us/step - loss: 0.0380 - acc: 0.9921 - val_loss: 0.4563 - val_acc: 0.8684\n",
      "Epoch 13/20\n",
      "15000/15000 [==============================] - 2s 157us/step - loss: 0.0301 - acc: 0.9929 - val_loss: 0.4703 - val_acc: 0.8737\n",
      "Epoch 14/20\n",
      "15000/15000 [==============================] - 2s 158us/step - loss: 0.0249 - acc: 0.9945 - val_loss: 0.5036 - val_acc: 0.8728\n",
      "Epoch 15/20\n",
      "15000/15000 [==============================] - 2s 160us/step - loss: 0.0196 - acc: 0.9967 - val_loss: 0.5311 - val_acc: 0.8706\n",
      "Epoch 16/20\n",
      "15000/15000 [==============================] - 2s 157us/step - loss: 0.0166 - acc: 0.9969 - val_loss: 0.5640 - val_acc: 0.8690\n",
      "Epoch 17/20\n",
      "15000/15000 [==============================] - 2s 158us/step - loss: 0.0126 - acc: 0.9983 - val_loss: 0.5961 - val_acc: 0.8671\n",
      "Epoch 18/20\n",
      "15000/15000 [==============================] - 2s 158us/step - loss: 0.0113 - acc: 0.9978 - val_loss: 0.6270 - val_acc: 0.8669\n",
      "Epoch 19/20\n",
      "15000/15000 [==============================] - 2s 158us/step - loss: 0.0064 - acc: 0.9997 - val_loss: 0.7675 - val_acc: 0.8486\n",
      "Epoch 20/20\n",
      "15000/15000 [==============================] - 2s 156us/step - loss: 0.0062 - acc: 0.9997 - val_loss: 0.6928 - val_acc: 0.8657\n"
     ]
    }
   ],
   "source": [
    "history=network.fit(partial_x_train,partial_y_train,epochs=20,batch_size=512,validation_data=(x_val,y_val))"
   ]
  },
  {
   "cell_type": "code",
   "execution_count": 0,
   "metadata": {
    "colab": {},
    "colab_type": "code",
    "id": "7qlsIqp99DB1"
   },
   "outputs": [],
   "source": [
    "history_dict=history.history"
   ]
  },
  {
   "cell_type": "code",
   "execution_count": 69,
   "metadata": {
    "colab": {
     "base_uri": "https://localhost:8080/",
     "height": 35
    },
    "colab_type": "code",
    "id": "JXrTMyHo-t-D",
    "outputId": "6af6afc1-2a93-4137-bb43-ee4dae8cc560"
   },
   "outputs": [
    {
     "data": {
      "text/plain": [
       "dict_keys(['val_loss', 'val_acc', 'loss', 'acc'])"
      ]
     },
     "execution_count": 69,
     "metadata": {
      "tags": []
     },
     "output_type": "execute_result"
    }
   ],
   "source": [
    "history_dict.keys()"
   ]
  },
  {
   "cell_type": "code",
   "execution_count": 0,
   "metadata": {
    "colab": {},
    "colab_type": "code",
    "id": "ad4JMDKzAETQ"
   },
   "outputs": [],
   "source": [
    "import matplotlib.pyplot as plt"
   ]
  },
  {
   "cell_type": "code",
   "execution_count": 0,
   "metadata": {
    "colab": {},
    "colab_type": "code",
    "id": "bzu_hsaeAIi-"
   },
   "outputs": [],
   "source": [
    "loss_values=history_dict['loss']\n",
    "val_loss_value=history_dict['val_loss']"
   ]
  },
  {
   "cell_type": "code",
   "execution_count": 0,
   "metadata": {
    "colab": {},
    "colab_type": "code",
    "id": "sCnEBBqsAYi8"
   },
   "outputs": [],
   "source": [
    "epochs=range(1,len(history_dict['acc'])+1)"
   ]
  },
  {
   "cell_type": "code",
   "execution_count": 78,
   "metadata": {
    "colab": {
     "base_uri": "https://localhost:8080/",
     "height": 295
    },
    "colab_type": "code",
    "id": "EKig_JdrAcxS",
    "outputId": "fc370994-0eef-40a3-e7cc-6fc208593210"
   },
   "outputs": [
    {
     "data": {
      "image/png": "[encoded data removed]",
      "text/plain": [
       "<Figure size 432x288 with 1 Axes>"
      ]
     },
     "metadata": {
      "tags": []
     },
     "output_type": "display_data"
    }
   ],
   "source": [
    "plt.plot(epochs,loss_values,'bo',label='Training loss')\n",
    "plt.plot(epochs,val_loss_value,'b',label='Validaiton loss')\n",
    "plt.title('Training and Validation')\n",
    "plt.xlabel('Epochs')\n",
    "plt.ylabel('Loss')\n",
    "plt.legend()\n",
    "plt.show()\n",
    "\n"
   ]
  },
  {
   "cell_type": "code",
   "execution_count": 81,
   "metadata": {
    "colab": {
     "base_uri": "https://localhost:8080/",
     "height": 1000
    },
    "colab_type": "code",
    "id": "em17uNUjArAb",
    "outputId": "aef0b908-9f38-4b78-e637-484bbff2e168"
   },
   "outputs": [
    {
     "data": {
      "text/plain": [
       "([0.3774907482624054,\n",
       "  0.3002323747634888,\n",
       "  0.30828311347961423,\n",
       "  0.282540403842926,\n",
       "  0.28549122042655944,\n",
       "  0.3152483657836914,\n",
       "  0.313026383972168,\n",
       "  0.38675295848846436,\n",
       "  0.36378430352211,\n",
       "  0.38434813141822816,\n",
       "  0.4142142786026001,\n",
       "  0.45627807292938233,\n",
       "  0.4702924386024475,\n",
       "  0.5036175738334656,\n",
       "  0.5311254033088684,\n",
       "  0.5640430438041687,\n",
       "  0.5961365398406983,\n",
       "  0.6270194778442383,\n",
       "  0.7675132571220398,\n",
       "  0.6927891805648804],\n",
       " [0.5047858904997508,\n",
       "  0.29920005621910095,\n",
       "  0.21737791844209034,\n",
       "  0.1747355526526769,\n",
       "  0.14221179596583047,\n",
       "  0.11479860395590465,\n",
       "  0.0977747015118599,\n",
       "  0.08055945013364156,\n",
       "  0.06605676200389862,\n",
       "  0.05644447133938472,\n",
       "  0.043372691589593886,\n",
       "  0.038014133123556774,\n",
       "  0.030104004023472467,\n",
       "  0.02488828984548648,\n",
       "  0.019584185399115085,\n",
       "  0.01660194326043129,\n",
       "  0.012552335740129154,\n",
       "  0.011301981575787068,\n",
       "  0.006365914732217788,\n",
       "  0.00623339413801829],\n",
       " [0.7870666668574016,\n",
       "  0.9044000000317891,\n",
       "  0.9280666666030883,\n",
       "  0.9441333332061768,\n",
       "  0.9540666663805644,\n",
       "  0.965066666730245,\n",
       "  0.9708666668256124,\n",
       "  0.976399999777476,\n",
       "  0.9819999999682109,\n",
       "  0.9851333333015442,\n",
       "  0.9902666669209799,\n",
       "  0.9920666664759318,\n",
       "  0.9928666666666667,\n",
       "  0.9944666666666667,\n",
       "  0.9967333333333334,\n",
       "  0.9968666666666667,\n",
       "  0.9982666666666666,\n",
       "  0.9978,\n",
       "  0.9996666665712992,\n",
       "  0.9996666666666667],\n",
       " [0.8704999997138977,\n",
       "  0.8894000003814697,\n",
       "  0.8715000000953674,\n",
       "  0.8843000001907348,\n",
       "  0.8857000002861023,\n",
       "  0.8773999998092651,\n",
       "  0.8841999999046326,\n",
       "  0.8649999998092651,\n",
       "  0.8777000001907349,\n",
       "  0.8797000001907349,\n",
       "  0.8779,\n",
       "  0.8683999999046326,\n",
       "  0.8736999997138977,\n",
       "  0.8727999996185303,\n",
       "  0.8705999998092652,\n",
       "  0.8689999995231629,\n",
       "  0.8671,\n",
       "  0.8668999996185303,\n",
       "  0.8486000004768371,\n",
       "  0.8656999994277954])"
      ]
     },
     "execution_count": 81,
     "metadata": {
      "tags": []
     },
     "output_type": "execute_result"
    }
   ],
   "source": [
    "val_loss_value,loss_values,history_dict['acc'],history_dict['val_acc']"
   ]
  },
  {
   "cell_type": "code",
   "execution_count": 83,
   "metadata": {
    "colab": {
     "base_uri": "https://localhost:8080/",
     "height": 295
    },
    "colab_type": "code",
    "id": "QD2PPlekBZO8",
    "outputId": "6ea011e6-e101-4c13-d616-f3d629a14fa0"
   },
   "outputs": [
    {
     "data": {
      "image/png": "[encoded data removed]",
      "text/plain": [
       "<Figure size 432x288 with 1 Axes>"
      ]
     },
     "metadata": {
      "tags": []
     },
     "output_type": "display_data"
    }
   ],
   "source": [
    "plt.clf() #clears figures\n",
    "acc_value=history_dict['acc']\n",
    "val_acc_value=history_dict['val_acc']\n",
    "plt.plot(epochs,acc_value,'bo',label='Training Accuracy')\n",
    "plt.plot(epochs,val_acc_value,'b',label='Validation Accuracy')\n",
    "plt.title('Training and validation Accuracy')\n",
    "plt.xlabel('Epochs')\n",
    "plt.ylabel('Loss')\n",
    "plt.legend()\n",
    "plt.show()"
   ]
  },
  {
   "cell_type": "markdown",
   "metadata": {
    "colab_type": "text",
    "id": "4FoY7hzxEaEi"
   },
   "source": [
    "# You can see validation Accuracy decreases as very epochs then you should re-build your model then test it"
   ]
  },
  {
   "cell_type": "code",
   "execution_count": 0,
   "metadata": {
    "colab": {},
    "colab_type": "code",
    "id": "GACSJhGQC8We"
   },
   "outputs": [],
   "source": [
    "#RETRAINING THE MODEL\n",
    "model=models.Sequential()\n",
    "model.add(layers.Dense(16,activation='relu',input_shape=(10000,)))\n",
    "model.add(layers.Dense(16,activation='relu'))\n",
    "model.add(layers.Dense(1,activation='sigmoid'))\n",
    "\n",
    "model.compile(optimizer='rmsprop',loss='binary_crossentropy',metrics=['accuracy'])"
   ]
  },
  {
   "cell_type": "code",
   "execution_count": 85,
   "metadata": {
    "colab": {
     "base_uri": "https://localhost:8080/",
     "height": 179
    },
    "colab_type": "code",
    "id": "mwWmrDAgFJVd",
    "outputId": "e3290201-c79c-4ee8-a4c6-cca00f6fd959"
   },
   "outputs": [
    {
     "name": "stdout",
     "output_type": "stream",
     "text": [
      "Epoch 1/4\n",
      "25000/25000 [==============================] - 3s 132us/step - loss: 0.4737 - acc: 0.8219\n",
      "Epoch 2/4\n",
      "25000/25000 [==============================] - 3s 117us/step - loss: 0.2674 - acc: 0.9092\n",
      "Epoch 3/4\n",
      "25000/25000 [==============================] - 3s 115us/step - loss: 0.2033 - acc: 0.9282\n",
      "Epoch 4/4\n",
      "25000/25000 [==============================] - 3s 114us/step - loss: 0.1714 - acc: 0.9388\n"
     ]
    },
    {
     "data": {
      "text/plain": [
       "<keras.callbacks.History at 0x7f559911c7f0>"
      ]
     },
     "execution_count": 85,
     "metadata": {
      "tags": []
     },
     "output_type": "execute_result"
    }
   ],
   "source": [
    "model.fit(x_train,y_train,epochs=4,batch_size=512)"
   ]
  },
  {
   "cell_type": "code",
   "execution_count": 86,
   "metadata": {
    "colab": {
     "base_uri": "https://localhost:8080/",
     "height": 35
    },
    "colab_type": "code",
    "id": "yiJZeeWNFZZx",
    "outputId": "ab279ed1-af13-423e-83c7-6f17e935edff"
   },
   "outputs": [
    {
     "name": "stdout",
     "output_type": "stream",
     "text": [
      "25000/25000 [==============================] - 2s 89us/step\n"
     ]
    }
   ],
   "source": [
    "results=model.evaluate(x_test,y_test)"
   ]
  },
  {
   "cell_type": "code",
   "execution_count": 87,
   "metadata": {
    "colab": {
     "base_uri": "https://localhost:8080/",
     "height": 35
    },
    "colab_type": "code",
    "id": "rXYSgkZ1Fihw",
    "outputId": "6c4ea3d8-ef41-4f10-e860-f100fa4cfe92"
   },
   "outputs": [
    {
     "data": {
      "text/plain": [
       "[0.31160013078689575, 0.8758]"
      ]
     },
     "execution_count": 87,
     "metadata": {
      "tags": []
     },
     "output_type": "execute_result"
    }
   ],
   "source": [
    "results #after testing the accuracy is 87%"
   ]
  },
  {
   "cell_type": "markdown",
   "metadata": {
    "colab_type": "text",
    "id": "RCD1MpbpF5LU"
   },
   "source": [
    "#Again Building the model"
   ]
  },
  {
   "cell_type": "code",
   "execution_count": 0,
   "metadata": {
    "colab": {},
    "colab_type": "code",
    "id": "0N0h0ZQBFkkg"
   },
   "outputs": [],
   "source": [
    "#RETRAINING THE MODEL\n",
    "model=models.Sequential()\n",
    "model.add(layers.Dense(20,activation='relu',input_shape=(10000,)))\n",
    "model.add(layers.Dense(20,activation='relu'))\n",
    "model.add(layers.Dense(1,activation='sigmoid'))\n",
    "\n",
    "model.compile(optimizer='rmsprop',loss='binary_crossentropy',metrics=['accuracy'])"
   ]
  },
  {
   "cell_type": "code",
   "execution_count": 90,
   "metadata": {
    "colab": {
     "base_uri": "https://localhost:8080/",
     "height": 773
    },
    "colab_type": "code",
    "id": "9Ht4q8MGGDvr",
    "outputId": "4ee2b31d-8b07-437e-c62f-390d0c341bec"
   },
   "outputs": [
    {
     "name": "stdout",
     "output_type": "stream",
     "text": [
      "Train on 15000 samples, validate on 10000 samples\n",
      "Epoch 1/20\n",
      "15000/15000 [==============================] - 3s 198us/step - loss: 0.4939 - acc: 0.7785 - val_loss: 0.3826 - val_acc: 0.8526\n",
      "Epoch 2/20\n",
      "15000/15000 [==============================] - 3s 170us/step - loss: 0.2778 - acc: 0.9094 - val_loss: 0.2893 - val_acc: 0.8926\n",
      "Epoch 3/20\n",
      "15000/15000 [==============================] - 3s 169us/step - loss: 0.2081 - acc: 0.9292 - val_loss: 0.2890 - val_acc: 0.8857\n",
      "Epoch 4/20\n",
      "15000/15000 [==============================] - 3s 170us/step - loss: 0.1604 - acc: 0.9480 - val_loss: 0.3250 - val_acc: 0.8716\n",
      "Epoch 5/20\n",
      "15000/15000 [==============================] - 3s 171us/step - loss: 0.1314 - acc: 0.9571 - val_loss: 0.3207 - val_acc: 0.8768\n",
      "Epoch 6/20\n",
      "15000/15000 [==============================] - 3s 171us/step - loss: 0.1097 - acc: 0.9657 - val_loss: 0.3089 - val_acc: 0.8849\n",
      "Epoch 7/20\n",
      "15000/15000 [==============================] - 3s 180us/step - loss: 0.0889 - acc: 0.9729 - val_loss: 0.3311 - val_acc: 0.8782\n",
      "Epoch 8/20\n",
      "15000/15000 [==============================] - 3s 173us/step - loss: 0.0740 - acc: 0.9787 - val_loss: 0.3478 - val_acc: 0.8815\n",
      "Epoch 9/20\n",
      "15000/15000 [==============================] - 3s 177us/step - loss: 0.0594 - acc: 0.9839 - val_loss: 0.3759 - val_acc: 0.8757\n",
      "Epoch 10/20\n",
      "15000/15000 [==============================] - 3s 169us/step - loss: 0.0479 - acc: 0.9885 - val_loss: 0.4119 - val_acc: 0.8723\n",
      "Epoch 11/20\n",
      "15000/15000 [==============================] - 3s 177us/step - loss: 0.0396 - acc: 0.9908 - val_loss: 0.4354 - val_acc: 0.8756\n",
      "Epoch 12/20\n",
      "15000/15000 [==============================] - 3s 179us/step - loss: 0.0323 - acc: 0.9920 - val_loss: 0.4599 - val_acc: 0.8746\n",
      "Epoch 13/20\n",
      "15000/15000 [==============================] - 3s 183us/step - loss: 0.0279 - acc: 0.9938 - val_loss: 0.5002 - val_acc: 0.8699\n",
      "Epoch 14/20\n",
      "15000/15000 [==============================] - 3s 181us/step - loss: 0.0231 - acc: 0.9949 - val_loss: 0.5274 - val_acc: 0.8687\n",
      "Epoch 15/20\n",
      "15000/15000 [==============================] - 3s 183us/step - loss: 0.0173 - acc: 0.9962 - val_loss: 0.5626 - val_acc: 0.8656\n",
      "Epoch 16/20\n",
      "15000/15000 [==============================] - 3s 181us/step - loss: 0.0092 - acc: 0.9996 - val_loss: 0.5890 - val_acc: 0.8669\n",
      "Epoch 17/20\n",
      "15000/15000 [==============================] - 3s 179us/step - loss: 0.0122 - acc: 0.9978 - val_loss: 0.6153 - val_acc: 0.8669\n",
      "Epoch 18/20\n",
      "15000/15000 [==============================] - 3s 170us/step - loss: 0.0113 - acc: 0.9977 - val_loss: 0.6513 - val_acc: 0.8657\n",
      "Epoch 19/20\n",
      "15000/15000 [==============================] - 3s 169us/step - loss: 0.0042 - acc: 0.9998 - val_loss: 0.6800 - val_acc: 0.8630\n",
      "Epoch 20/20\n",
      "15000/15000 [==============================] - 3s 169us/step - loss: 0.0058 - acc: 0.9991 - val_loss: 0.7092 - val_acc: 0.8639\n"
     ]
    },
    {
     "data": {
      "text/plain": [
       "<keras.callbacks.History at 0x7f5598f208d0>"
      ]
     },
     "execution_count": 90,
     "metadata": {
      "tags": []
     },
     "output_type": "execute_result"
    }
   ],
   "source": [
    "model.fit(partial_x_train,partial_y_train,epochs=20,batch_size=512,validation_data=(x_val,y_val))"
   ]
  },
  {
   "cell_type": "code",
   "execution_count": 0,
   "metadata": {
    "colab": {},
    "colab_type": "code",
    "id": "HteWaV-9HcoB"
   },
   "outputs": [],
   "source": []
  },
  {
   "cell_type": "markdown",
   "metadata": {
    "colab_type": "text",
    "id": "cVZmEfI6HwZB"
   },
   "source": [
    "# Just By Increasing the number of neurons doesn't effects the Validation accuracy of the network"
   ]
  },
  {
   "cell_type": "markdown",
   "metadata": {
    "colab_type": "text",
    "id": "VMlkmpbvH7gn"
   },
   "source": [
    "# Again Building the  model"
   ]
  },
  {
   "cell_type": "code",
   "execution_count": 0,
   "metadata": {
    "colab": {},
    "colab_type": "code",
    "id": "ohogG7qrH6Ed"
   },
   "outputs": [],
   "source": [
    "#RETRAINING THE MODEL\n",
    "model=models.Sequential()\n",
    "model.add(layers.Dense(20,activation='relu',input_shape=(10000,)))\n",
    "model.add(layers.Dense(20,activation='relu'))\n",
    "model.add(layers.Dense(1,activation='sigmoid'))\n",
    "\n",
    "model.compile(optimizer='Adam',loss='binary_crossentropy',metrics=['accuracy'])"
   ]
  },
  {
   "cell_type": "code",
   "execution_count": 96,
   "metadata": {
    "colab": {
     "base_uri": "https://localhost:8080/",
     "height": 755
    },
    "colab_type": "code",
    "id": "o8mi1PY6IH5N",
    "outputId": "20c39729-b346-44cd-8f39-9df17614de2a"
   },
   "outputs": [
    {
     "name": "stdout",
     "output_type": "stream",
     "text": [
      "Train on 15000 samples, validate on 10000 samples\n",
      "Epoch 1/20\n",
      "15000/15000 [==============================] - 4s 262us/step - loss: 0.5619 - acc: 0.7599 - val_loss: 0.4033 - val_acc: 0.8477\n",
      "Epoch 2/20\n",
      "15000/15000 [==============================] - 3s 208us/step - loss: 0.2898 - acc: 0.9006 - val_loss: 0.2888 - val_acc: 0.8863\n",
      "Epoch 3/20\n",
      "15000/15000 [==============================] - 3s 210us/step - loss: 0.1879 - acc: 0.9385 - val_loss: 0.2848 - val_acc: 0.8853\n",
      "Epoch 4/20\n",
      "15000/15000 [==============================] - 3s 214us/step - loss: 0.1353 - acc: 0.9594 - val_loss: 0.2994 - val_acc: 0.8832\n",
      "Epoch 5/20\n",
      "15000/15000 [==============================] - 3s 215us/step - loss: 0.1017 - acc: 0.9725 - val_loss: 0.3089 - val_acc: 0.8847\n",
      "Epoch 6/20\n",
      "15000/15000 [==============================] - 3s 211us/step - loss: 0.0750 - acc: 0.9821 - val_loss: 0.3362 - val_acc: 0.8815\n",
      "Epoch 7/20\n",
      "15000/15000 [==============================] - 3s 209us/step - loss: 0.0543 - acc: 0.9899 - val_loss: 0.3628 - val_acc: 0.8793\n",
      "Epoch 8/20\n",
      "15000/15000 [==============================] - 3s 211us/step - loss: 0.0392 - acc: 0.9943 - val_loss: 0.3927 - val_acc: 0.8750\n",
      "Epoch 9/20\n",
      "15000/15000 [==============================] - 3s 217us/step - loss: 0.0281 - acc: 0.9973 - val_loss: 0.4287 - val_acc: 0.8760\n",
      "Epoch 10/20\n",
      "15000/15000 [==============================] - 3s 216us/step - loss: 0.0200 - acc: 0.9984 - val_loss: 0.4502 - val_acc: 0.8738\n",
      "Epoch 11/20\n",
      "15000/15000 [==============================] - 3s 213us/step - loss: 0.0142 - acc: 0.9994 - val_loss: 0.4795 - val_acc: 0.8731\n",
      "Epoch 12/20\n",
      "15000/15000 [==============================] - 3s 220us/step - loss: 0.0104 - acc: 0.9997 - val_loss: 0.5016 - val_acc: 0.8714\n",
      "Epoch 13/20\n",
      "15000/15000 [==============================] - 3s 207us/step - loss: 0.0079 - acc: 0.9999 - val_loss: 0.5223 - val_acc: 0.8718\n",
      "Epoch 14/20\n",
      "15000/15000 [==============================] - 3s 211us/step - loss: 0.0061 - acc: 0.9999 - val_loss: 0.5441 - val_acc: 0.8712\n",
      "Epoch 15/20\n",
      "15000/15000 [==============================] - 3s 215us/step - loss: 0.0048 - acc: 1.0000 - val_loss: 0.5611 - val_acc: 0.8710\n",
      "Epoch 16/20\n",
      "15000/15000 [==============================] - 3s 214us/step - loss: 0.0040 - acc: 1.0000 - val_loss: 0.5779 - val_acc: 0.8698\n",
      "Epoch 17/20\n",
      "15000/15000 [==============================] - 3s 212us/step - loss: 0.0033 - acc: 1.0000 - val_loss: 0.5920 - val_acc: 0.8697\n",
      "Epoch 18/20\n",
      "15000/15000 [==============================] - 3s 210us/step - loss: 0.0028 - acc: 1.0000 - val_loss: 0.6058 - val_acc: 0.8691\n",
      "Epoch 19/20\n",
      "15000/15000 [==============================] - 3s 205us/step - loss: 0.0024 - acc: 1.0000 - val_loss: 0.6191 - val_acc: 0.8683\n",
      "Epoch 20/20\n",
      "15000/15000 [==============================] - 3s 206us/step - loss: 0.0021 - acc: 1.0000 - val_loss: 0.6305 - val_acc: 0.8686\n"
     ]
    }
   ],
   "source": [
    "results=model.fit(partial_x_train,partial_y_train,epochs=20,batch_size=512,validation_data=(x_val,y_val))"
   ]
  },
  {
   "cell_type": "markdown",
   "metadata": {
    "colab_type": "text",
    "id": "BrjMcQATJh32"
   },
   "source": [
    "# ADAM shows a bit a more accuracy in the starting but then it again reaches to the same validation accuracy"
   ]
  },
  {
   "cell_type": "code",
   "execution_count": 0,
   "metadata": {
    "colab": {},
    "colab_type": "code",
    "id": "FQJQXonZIP0a"
   },
   "outputs": [],
   "source": [
    "#RETRAINING THE MODEL\n",
    "model=models.Sequential()\n",
    "model.add(layers.Dense(16,activation='relu',input_shape=(10000,)))\n",
    "model.add(layers.Dense(16,activation='relu'))\n",
    "model.add(layers.Dense(1,activation='sigmoid'))\n",
    "\n",
    "model.compile(optimizer='Adam',loss='binary_crossentropy',metrics=['accuracy'])"
   ]
  },
  {
   "cell_type": "code",
   "execution_count": 102,
   "metadata": {
    "colab": {
     "base_uri": "https://localhost:8080/",
     "height": 755
    },
    "colab_type": "code",
    "id": "AP6XyaqCKJm8",
    "outputId": "1e0fbc73-56cf-44ac-e6aa-d2e1ae27611b"
   },
   "outputs": [
    {
     "name": "stdout",
     "output_type": "stream",
     "text": [
      "Train on 15000 samples, validate on 10000 samples\n",
      "Epoch 1/20\n",
      "15000/15000 [==============================] - 4s 260us/step - loss: 0.5304 - acc: 0.7727 - val_loss: 0.3775 - val_acc: 0.8640\n",
      "Epoch 2/20\n",
      "15000/15000 [==============================] - 4s 243us/step - loss: 0.2836 - acc: 0.9064 - val_loss: 0.2943 - val_acc: 0.8858\n",
      "Epoch 3/20\n",
      "15000/15000 [==============================] - 4s 246us/step - loss: 0.1972 - acc: 0.9335 - val_loss: 0.2786 - val_acc: 0.8889\n",
      "Epoch 4/20\n",
      "15000/15000 [==============================] - 4s 242us/step - loss: 0.1468 - acc: 0.9560 - val_loss: 0.2802 - val_acc: 0.8876\n",
      "Epoch 5/20\n",
      "15000/15000 [==============================] - 4s 233us/step - loss: 0.1123 - acc: 0.9681 - val_loss: 0.2961 - val_acc: 0.8849\n",
      "Epoch 6/20\n",
      "15000/15000 [==============================] - 4s 238us/step - loss: 0.0867 - acc: 0.9777 - val_loss: 0.3188 - val_acc: 0.8796\n",
      "Epoch 7/20\n",
      "15000/15000 [==============================] - 4s 236us/step - loss: 0.0664 - acc: 0.9863 - val_loss: 0.3437 - val_acc: 0.8793\n",
      "Epoch 8/20\n",
      "15000/15000 [==============================] - 3s 220us/step - loss: 0.0512 - acc: 0.9911 - val_loss: 0.3745 - val_acc: 0.8775\n",
      "Epoch 9/20\n",
      "15000/15000 [==============================] - 3s 220us/step - loss: 0.0389 - acc: 0.9945 - val_loss: 0.4027 - val_acc: 0.8763\n",
      "Epoch 10/20\n",
      "15000/15000 [==============================] - 3s 218us/step - loss: 0.0297 - acc: 0.9970 - val_loss: 0.4341 - val_acc: 0.8729\n",
      "Epoch 11/20\n",
      "15000/15000 [==============================] - 3s 216us/step - loss: 0.0224 - acc: 0.9981 - val_loss: 0.4634 - val_acc: 0.8717\n",
      "Epoch 12/20\n",
      "15000/15000 [==============================] - 3s 215us/step - loss: 0.0169 - acc: 0.9993 - val_loss: 0.4897 - val_acc: 0.8711\n",
      "Epoch 13/20\n",
      "15000/15000 [==============================] - 4s 243us/step - loss: 0.0129 - acc: 0.9997 - val_loss: 0.5151 - val_acc: 0.8709\n",
      "Epoch 14/20\n",
      "15000/15000 [==============================] - 4s 251us/step - loss: 0.0101 - acc: 0.9997 - val_loss: 0.5390 - val_acc: 0.8698\n",
      "Epoch 15/20\n",
      "15000/15000 [==============================] - 4s 256us/step - loss: 0.0078 - acc: 0.9999 - val_loss: 0.5627 - val_acc: 0.8692\n",
      "Epoch 16/20\n",
      "15000/15000 [==============================] - 4s 245us/step - loss: 0.0063 - acc: 0.9999 - val_loss: 0.5811 - val_acc: 0.8681\n",
      "Epoch 17/20\n",
      "15000/15000 [==============================] - 3s 221us/step - loss: 0.0050 - acc: 0.9999 - val_loss: 0.5992 - val_acc: 0.8694\n",
      "Epoch 18/20\n",
      "15000/15000 [==============================] - 3s 228us/step - loss: 0.0040 - acc: 0.9999 - val_loss: 0.6209 - val_acc: 0.8693\n",
      "Epoch 19/20\n",
      "15000/15000 [==============================] - 4s 250us/step - loss: 0.0031 - acc: 0.9999 - val_loss: 0.6459 - val_acc: 0.8674\n",
      "Epoch 20/20\n",
      "15000/15000 [==============================] - 4s 246us/step - loss: 0.0024 - acc: 1.0000 - val_loss: 0.6713 - val_acc: 0.8670\n"
     ]
    }
   ],
   "source": [
    "results=model.fit(partial_x_train,partial_y_train,epochs=20,batch_size=400,validation_data=(x_val,y_val))"
   ]
  },
  {
   "cell_type": "code",
   "execution_count": 0,
   "metadata": {
    "colab": {},
    "colab_type": "code",
    "id": "CXDwkk7YKdJ4"
   },
   "outputs": [],
   "source": []
  },
  {
   "cell_type": "markdown",
   "metadata": {
    "colab_type": "text",
    "id": "Q81cPD9HKx3R"
   },
   "source": [
    "# Same Old REsult"
   ]
  },
  {
   "cell_type": "markdown",
   "metadata": {
    "colab_type": "text",
    "id": "LAcmP-k8MiQb"
   },
   "source": [
    "#Training The model Again"
   ]
  },
  {
   "cell_type": "code",
   "execution_count": 0,
   "metadata": {
    "colab": {},
    "colab_type": "code",
    "id": "DrY5oqjkK0ob"
   },
   "outputs": [],
   "source": [
    "from keras import models\n",
    "from keras import layers\n",
    "#RETRAINING THE MODEL\n",
    "model=models.Sequential()\n",
    "model.add(layers.Dense(16,activation='relu',input_shape=(10000,)))\n",
    "model.add(layers.Dense(16,activation='relu'))\n",
    "model.add(layers.Dense(1,activation='sigmoid'))\n",
    "\n",
    "model.compile(optimizer='SGD',loss='binary_crossentropy',metrics=['accuracy']) #OPTIMER CHAGNED TO SGD"
   ]
  },
  {
   "cell_type": "code",
   "execution_count": 17,
   "metadata": {
    "colab": {
     "base_uri": "https://localhost:8080/",
     "height": 811
    },
    "colab_type": "code",
    "id": "7U88U85QMuwp",
    "outputId": "02de5477-9426-45b7-fd6f-40da78663dcc"
   },
   "outputs": [
    {
     "name": "stderr",
     "output_type": "stream",
     "text": [
      "W0715 19:55:04.067756 139944469264256 deprecation_wrapper.py:119] From /usr/local/lib/python3.6/dist-packages/keras/backend/tensorflow_backend.py:986: The name tf.assign_add is deprecated. Please use tf.compat.v1.assign_add instead.\n",
      "\n"
     ]
    },
    {
     "name": "stdout",
     "output_type": "stream",
     "text": [
      "Train on 15000 samples, validate on 10000 samples\n",
      "Epoch 1/20\n",
      "15000/15000 [==============================] - 2s 157us/step - loss: 0.6928 - acc: 0.5115 - val_loss: 0.6915 - val_acc: 0.5308\n",
      "Epoch 2/20\n",
      "15000/15000 [==============================] - 2s 134us/step - loss: 0.6889 - acc: 0.5565 - val_loss: 0.6875 - val_acc: 0.5701\n",
      "Epoch 3/20\n",
      "15000/15000 [==============================] - 2s 133us/step - loss: 0.6830 - acc: 0.6042 - val_loss: 0.6805 - val_acc: 0.6159\n",
      "Epoch 4/20\n",
      "15000/15000 [==============================] - 2s 129us/step - loss: 0.6735 - acc: 0.6540 - val_loss: 0.6697 - val_acc: 0.6563\n",
      "Epoch 5/20\n",
      "15000/15000 [==============================] - 2s 126us/step - loss: 0.6602 - acc: 0.6911 - val_loss: 0.6553 - val_acc: 0.6976\n",
      "Epoch 6/20\n",
      "15000/15000 [==============================] - 2s 125us/step - loss: 0.6435 - acc: 0.7313 - val_loss: 0.6378 - val_acc: 0.7243\n",
      "Epoch 7/20\n",
      "15000/15000 [==============================] - 2s 126us/step - loss: 0.6247 - acc: 0.7551 - val_loss: 0.6193 - val_acc: 0.7488\n",
      "Epoch 8/20\n",
      "15000/15000 [==============================] - 2s 125us/step - loss: 0.6049 - acc: 0.7721 - val_loss: 0.5998 - val_acc: 0.7648\n",
      "Epoch 9/20\n",
      "15000/15000 [==============================] - 2s 129us/step - loss: 0.5845 - acc: 0.7852 - val_loss: 0.5797 - val_acc: 0.7795\n",
      "Epoch 10/20\n",
      "15000/15000 [==============================] - 2s 129us/step - loss: 0.5632 - acc: 0.7951 - val_loss: 0.5589 - val_acc: 0.7890\n",
      "Epoch 11/20\n",
      "15000/15000 [==============================] - 2s 129us/step - loss: 0.5415 - acc: 0.8041 - val_loss: 0.5385 - val_acc: 0.7973\n",
      "Epoch 12/20\n",
      "15000/15000 [==============================] - 2s 130us/step - loss: 0.5198 - acc: 0.8124 - val_loss: 0.5176 - val_acc: 0.8031\n",
      "Epoch 13/20\n",
      "15000/15000 [==============================] - 2s 133us/step - loss: 0.4988 - acc: 0.8210 - val_loss: 0.4979 - val_acc: 0.8084\n",
      "Epoch 14/20\n",
      "15000/15000 [==============================] - 2s 128us/step - loss: 0.4787 - acc: 0.8278 - val_loss: 0.4796 - val_acc: 0.8147\n",
      "Epoch 15/20\n",
      "15000/15000 [==============================] - 2s 126us/step - loss: 0.4596 - acc: 0.8332 - val_loss: 0.4627 - val_acc: 0.8214\n",
      "Epoch 16/20\n",
      "15000/15000 [==============================] - 2s 131us/step - loss: 0.4421 - acc: 0.8379 - val_loss: 0.4471 - val_acc: 0.8259\n",
      "Epoch 17/20\n",
      "15000/15000 [==============================] - 2s 139us/step - loss: 0.4261 - acc: 0.8437 - val_loss: 0.4329 - val_acc: 0.8311\n",
      "Epoch 18/20\n",
      "15000/15000 [==============================] - 2s 137us/step - loss: 0.4114 - acc: 0.8479 - val_loss: 0.4202 - val_acc: 0.8355\n",
      "Epoch 19/20\n",
      "15000/15000 [==============================] - 2s 129us/step - loss: 0.3979 - acc: 0.8515 - val_loss: 0.4088 - val_acc: 0.8374\n",
      "Epoch 20/20\n",
      "15000/15000 [==============================] - 2s 126us/step - loss: 0.3857 - acc: 0.8539 - val_loss: 0.3987 - val_acc: 0.8388\n"
     ]
    }
   ],
   "source": [
    "results=model.fit(partial_x_train,partial_y_train,epochs=20,batch_size=400,validation_data=(x_val,y_val)) "
   ]
  },
  {
   "cell_type": "markdown",
   "metadata": {
    "colab_type": "text",
    "id": "9LLv4gY8Spr5"
   },
   "source": [
    "# AGAIN BUILDING THE MODEL"
   ]
  },
  {
   "cell_type": "code",
   "execution_count": 0,
   "metadata": {
    "colab": {},
    "colab_type": "code",
    "id": "MHCmcVpIM-sl"
   },
   "outputs": [],
   "source": [
    "from keras import models\n",
    "from keras import layers\n",
    "#RETRAINING THE MODEL\n",
    "model=models.Sequential()\n",
    "model.add(layers.Dense(25,activation='relu',input_shape=(10000,)))\n",
    "model.add(layers.Dense(25,activation='relu'))\n",
    "model.add(layers.Dense(1,activation='sigmoid'))\n",
    "\n",
    "model.compile(optimizer='rmsprop',loss='binary_crossentropy',metrics=['accuracy']) #OPTIMER CHAGNED TO RMSPROP"
   ]
  },
  {
   "cell_type": "code",
   "execution_count": 22,
   "metadata": {
    "colab": {
     "base_uri": "https://localhost:8080/",
     "height": 755
    },
    "colab_type": "code",
    "id": "Q4ZVzOyqPbOv",
    "outputId": "d68160d6-629d-4ec0-96de-b4664a0e99aa"
   },
   "outputs": [
    {
     "name": "stdout",
     "output_type": "stream",
     "text": [
      "Train on 15000 samples, validate on 10000 samples\n",
      "Epoch 1/20\n",
      "15000/15000 [==============================] - 4s 240us/step - loss: 0.4546 - acc: 0.8171 - val_loss: 0.3205 - val_acc: 0.8816\n",
      "Epoch 2/20\n",
      "15000/15000 [==============================] - 2s 150us/step - loss: 0.2456 - acc: 0.9141 - val_loss: 0.2767 - val_acc: 0.8884\n",
      "Epoch 3/20\n",
      "15000/15000 [==============================] - 2s 150us/step - loss: 0.1777 - acc: 0.9374 - val_loss: 0.2742 - val_acc: 0.8885\n",
      "Epoch 4/20\n",
      "15000/15000 [==============================] - 2s 150us/step - loss: 0.1378 - acc: 0.9531 - val_loss: 0.3264 - val_acc: 0.8777\n",
      "Epoch 5/20\n",
      "15000/15000 [==============================] - 2s 151us/step - loss: 0.1054 - acc: 0.9644 - val_loss: 0.3143 - val_acc: 0.8838\n",
      "Epoch 6/20\n",
      "15000/15000 [==============================] - 2s 150us/step - loss: 0.0789 - acc: 0.9759 - val_loss: 0.3853 - val_acc: 0.8749\n",
      "Epoch 7/20\n",
      "15000/15000 [==============================] - 2s 148us/step - loss: 0.0623 - acc: 0.9803 - val_loss: 0.3842 - val_acc: 0.8792\n",
      "Epoch 8/20\n",
      "15000/15000 [==============================] - 2s 148us/step - loss: 0.0428 - acc: 0.9885 - val_loss: 0.4249 - val_acc: 0.8771\n",
      "Epoch 9/20\n",
      "15000/15000 [==============================] - 2s 148us/step - loss: 0.0293 - acc: 0.9923 - val_loss: 0.4730 - val_acc: 0.8766\n",
      "Epoch 10/20\n",
      "15000/15000 [==============================] - 2s 148us/step - loss: 0.0208 - acc: 0.9955 - val_loss: 0.5168 - val_acc: 0.8733\n",
      "Epoch 11/20\n",
      "15000/15000 [==============================] - 2s 149us/step - loss: 0.0126 - acc: 0.9974 - val_loss: 0.5698 - val_acc: 0.8711\n",
      "Epoch 12/20\n",
      "15000/15000 [==============================] - 2s 147us/step - loss: 0.0089 - acc: 0.9987 - val_loss: 0.6286 - val_acc: 0.8687\n",
      "Epoch 13/20\n",
      "15000/15000 [==============================] - 2s 148us/step - loss: 0.0070 - acc: 0.9985 - val_loss: 0.6663 - val_acc: 0.8679\n",
      "Epoch 14/20\n",
      "15000/15000 [==============================] - 2s 150us/step - loss: 0.0045 - acc: 0.9990 - val_loss: 0.7126 - val_acc: 0.8693\n",
      "Epoch 15/20\n",
      "15000/15000 [==============================] - 2s 153us/step - loss: 0.0032 - acc: 0.9992 - val_loss: 0.7588 - val_acc: 0.8685\n",
      "Epoch 16/20\n",
      "15000/15000 [==============================] - 2s 151us/step - loss: 0.0013 - acc: 0.9999 - val_loss: 0.8283 - val_acc: 0.8650\n",
      "Epoch 17/20\n",
      "15000/15000 [==============================] - 2s 151us/step - loss: 0.0026 - acc: 0.9997 - val_loss: 0.8544 - val_acc: 0.8656\n",
      "Epoch 18/20\n",
      "15000/15000 [==============================] - 2s 150us/step - loss: 4.7557e-04 - acc: 0.9999 - val_loss: 0.8867 - val_acc: 0.8663\n",
      "Epoch 19/20\n",
      "15000/15000 [==============================] - 2s 147us/step - loss: 0.0047 - acc: 0.9987 - val_loss: 0.9298 - val_acc: 0.8650\n",
      "Epoch 20/20\n",
      "15000/15000 [==============================] - 2s 151us/step - loss: 2.2884e-04 - acc: 0.9999 - val_loss: 0.9506 - val_acc: 0.8646\n"
     ]
    }
   ],
   "source": [
    "results=model.fit(partial_x_train,partial_y_train,epochs=20,batch_size=300,validation_data=(x_val,y_val))"
   ]
  },
  {
   "cell_type": "markdown",
   "metadata": {
    "colab_type": "text",
    "id": "Ub_sO0eJSe2O"
   },
   "source": [
    "#BUILDING THE MODEL WITH ADAGRAD OPTIMIZER WITH LESS EPOCHS AND MORE BATCH SIZE"
   ]
  },
  {
   "cell_type": "code",
   "execution_count": 0,
   "metadata": {
    "colab": {},
    "colab_type": "code",
    "id": "7cTeczcaQdh3"
   },
   "outputs": [],
   "source": [
    "from keras import models\n",
    "from keras import layers\n",
    "#RETRAINING THE MODEL\n",
    "model=models.Sequential()\n",
    "model.add(layers.Dense(25,activation='relu',input_shape=(10000,)))\n",
    "model.add(layers.Dense(25,activation='relu'))\n",
    "model.add(layers.Dense(1,activation='sigmoid'))\n",
    "opt=optimizers.Adagrad(0.01) #USING ADAGRAD OPTIMIZATION\n",
    "\n",
    "model.compile(optimizer=opt,loss='binary_crossentropy',metrics=['accuracy']) #OPTIMER CHAGNED TO RMSPROP"
   ]
  },
  {
   "cell_type": "code",
   "execution_count": 27,
   "metadata": {
    "colab": {
     "base_uri": "https://localhost:8080/",
     "height": 215
    },
    "colab_type": "code",
    "id": "uIslE5jlRPw9",
    "outputId": "8ad99fc0-7e6a-4a4d-f4ec-109c8cfb3485"
   },
   "outputs": [
    {
     "name": "stdout",
     "output_type": "stream",
     "text": [
      "Train on 15000 samples, validate on 10000 samples\n",
      "Epoch 1/5\n",
      "15000/15000 [==============================] - 3s 174us/step - loss: 0.5139 - acc: 0.7432 - val_loss: 0.3470 - val_acc: 0.8647\n",
      "Epoch 2/5\n",
      "15000/15000 [==============================] - 2s 137us/step - loss: 0.2656 - acc: 0.9037 - val_loss: 0.2835 - val_acc: 0.8896\n",
      "Epoch 3/5\n",
      "15000/15000 [==============================] - 2s 137us/step - loss: 0.1782 - acc: 0.9419 - val_loss: 0.2822 - val_acc: 0.8886\n",
      "Epoch 4/5\n",
      "15000/15000 [==============================] - 2s 138us/step - loss: 0.1354 - acc: 0.9599 - val_loss: 0.2813 - val_acc: 0.8887\n",
      "Epoch 5/5\n",
      "15000/15000 [==============================] - 2s 137us/step - loss: 0.1072 - acc: 0.9709 - val_loss: 0.2910 - val_acc: 0.8869\n"
     ]
    }
   ],
   "source": [
    "results=model.fit(partial_x_train,partial_y_train,epochs=5,batch_size=700,validation_data=(x_val,y_val))"
   ]
  },
  {
   "cell_type": "code",
   "execution_count": 30,
   "metadata": {
    "colab": {
     "base_uri": "https://localhost:8080/",
     "height": 35
    },
    "colab_type": "code",
    "id": "sUMbvEV2RVOb",
    "outputId": "62df9937-102d-44b6-a706-3f87de41704e"
   },
   "outputs": [
    {
     "name": "stdout",
     "output_type": "stream",
     "text": [
      "25000/25000 [==============================] - 5s 185us/step\n"
     ]
    }
   ],
   "source": [
    "get_acc=model.evaluate(x_test,y_test)"
   ]
  },
  {
   "cell_type": "code",
   "execution_count": 31,
   "metadata": {
    "colab": {
     "base_uri": "https://localhost:8080/",
     "height": 35
    },
    "colab_type": "code",
    "id": "4gdQL9B4RrNQ",
    "outputId": "3637bcb6-8002-46a2-e52f-29000b6151fb"
   },
   "outputs": [
    {
     "data": {
      "text/plain": [
       "[0.3142130323266983, 0.87624]"
      ]
     },
     "execution_count": 31,
     "metadata": {
      "tags": []
     },
     "output_type": "execute_result"
    }
   ],
   "source": [
    "get_acc"
   ]
  },
  {
   "cell_type": "code",
   "execution_count": 0,
   "metadata": {
    "colab": {},
    "colab_type": "code",
    "id": "8uKjt98sSOzo"
   },
   "outputs": [],
   "source": [
    "from keras import models\n",
    "from keras import layers\n",
    "#RETRAINING THE MODEL\n",
    "model=models.Sequential()\n",
    "model.add(layers.Dense(25,activation='relu',input_shape=(10000,)))\n",
    "model.add(layers.Dense(25,activation='relu'))\n",
    "model.add(layers.Dense(1,activation='sigmoid'))\n",
    "opt=optimizers.Adagrad(0.01) #USING ADAGRAD OPTIMIZATION\n",
    "\n",
    "model.compile(optimizer=opt,loss='binary_crossentropy',metrics=['accuracy']) #OPTIMER CHAGNED TO ADAGRAD"
   ]
  },
  {
   "cell_type": "code",
   "execution_count": 36,
   "metadata": {
    "colab": {
     "base_uri": "https://localhost:8080/",
     "height": 557
    },
    "colab_type": "code",
    "id": "vF8gMNGFT7ta",
    "outputId": "d4ab9e4d-6d2f-4cff-cd2b-478e5ad8c31f"
   },
   "outputs": [
    {
     "name": "stdout",
     "output_type": "stream",
     "text": [
      "Epoch 1/15\n",
      "25000/25000 [==============================] - 3s 121us/step - loss: 0.4102 - acc: 0.8183\n",
      "Epoch 2/15\n",
      "25000/25000 [==============================] - 3s 104us/step - loss: 0.2149 - acc: 0.9231\n",
      "Epoch 3/15\n",
      "25000/25000 [==============================] - 3s 104us/step - loss: 0.1668 - acc: 0.9424\n",
      "Epoch 4/15\n",
      "25000/25000 [==============================] - 3s 103us/step - loss: 0.1395 - acc: 0.9535\n",
      "Epoch 5/15\n",
      "25000/25000 [==============================] - 3s 103us/step - loss: 0.1187 - acc: 0.9626\n",
      "Epoch 6/15\n",
      "25000/25000 [==============================] - 3s 104us/step - loss: 0.0998 - acc: 0.9699\n",
      "Epoch 7/15\n",
      "25000/25000 [==============================] - 3s 104us/step - loss: 0.0840 - acc: 0.9768\n",
      "Epoch 8/15\n",
      "25000/25000 [==============================] - 3s 104us/step - loss: 0.0695 - acc: 0.9825\n",
      "Epoch 9/15\n",
      "25000/25000 [==============================] - 3s 105us/step - loss: 0.0571 - acc: 0.9872\n",
      "Epoch 10/15\n",
      "25000/25000 [==============================] - 3s 104us/step - loss: 0.0461 - acc: 0.9909\n",
      "Epoch 11/15\n",
      "25000/25000 [==============================] - 3s 103us/step - loss: 0.0366 - acc: 0.9940\n",
      "Epoch 12/15\n",
      "25000/25000 [==============================] - 3s 103us/step - loss: 0.0291 - acc: 0.9959\n",
      "Epoch 13/15\n",
      "25000/25000 [==============================] - 3s 104us/step - loss: 0.0232 - acc: 0.9972\n",
      "Epoch 14/15\n",
      "25000/25000 [==============================] - 3s 103us/step - loss: 0.0185 - acc: 0.9982\n",
      "Epoch 15/15\n",
      "25000/25000 [==============================] - 3s 104us/step - loss: 0.0150 - acc: 0.9988\n"
     ]
    }
   ],
   "source": [
    "results=model.fit(x_train,y_train,epochs=15,batch_size=512)"
   ]
  },
  {
   "cell_type": "code",
   "execution_count": 37,
   "metadata": {
    "colab": {
     "base_uri": "https://localhost:8080/",
     "height": 35
    },
    "colab_type": "code",
    "id": "aWLixi2LUFhj",
    "outputId": "3b1e5556-30ee-43a6-ff41-308b2d4a4cb3"
   },
   "outputs": [
    {
     "name": "stdout",
     "output_type": "stream",
     "text": [
      "25000/25000 [==============================] - 3s 116us/step\n"
     ]
    }
   ],
   "source": [
    "get_the_result=model.evaluate(x_test,y_test)"
   ]
  },
  {
   "cell_type": "code",
   "execution_count": 38,
   "metadata": {
    "colab": {
     "base_uri": "https://localhost:8080/",
     "height": 35
    },
    "colab_type": "code",
    "id": "COfSmXtvVU2o",
    "outputId": "5ef8b5da-3041-4674-a584-6fa8f00687b6"
   },
   "outputs": [
    {
     "data": {
      "text/plain": [
       "[0.49997178339004517, 0.8634]"
      ]
     },
     "execution_count": 38,
     "metadata": {
      "tags": []
     },
     "output_type": "execute_result"
    }
   ],
   "source": [
    "get_the_result"
   ]
  },
  {
   "cell_type": "code",
   "execution_count": 0,
   "metadata": {
    "colab": {},
    "colab_type": "code",
    "id": "xoRgg0HZVWvz"
   },
   "outputs": [],
   "source": []
  }
 ],
 "metadata": {
  "colab": {
   "name": "IMDB DATASET NEURAL NETWORK TESTING.ipynb",
   "provenance": [],
   "version": "0.3.2"
  },
  "kernelspec": {
   "display_name": "Python 3",
   "language": "python",
   "name": "python3"
  },
  "language_info": {
   "codemirror_mode": {
    "name": "ipython",
    "version": 3
   },
   "file_extension": ".py",
   "mimetype": "text/x-python",
   "name": "python",
   "nbconvert_exporter": "python",
   "pygments_lexer": "ipython3",
   "version": "3.7.3"
  }
 },
 "nbformat": 4,
 "nbformat_minor": 1
}
