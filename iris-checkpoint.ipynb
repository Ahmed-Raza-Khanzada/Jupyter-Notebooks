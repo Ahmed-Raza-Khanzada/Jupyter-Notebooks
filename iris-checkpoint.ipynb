{
 "cells": [
  {
   "cell_type": "code",
   "execution_count": 2,
   "metadata": {},
   "outputs": [],
   "source": [
    "import tensorflow as tf\n",
    "from tensorflow.keras.optimizers import Adam\n",
    "from sklearn.datasets import load_iris\n",
    " \n",
    " \n",
    "data = load_iris()"
   ]
  },
  {
   "cell_type": "code",
   "execution_count": 3,
   "metadata": {},
   "outputs": [],
   "source": [
    "x = data.data\n",
    "y = data.target.reshape(-1, 1)"
   ]
  },
  {
   "cell_type": "code",
   "execution_count": 4,
   "metadata": {},
   "outputs": [
    {
     "name": "stderr",
     "output_type": "stream",
     "text": [
      "C:\\ProgramData\\Anaconda3\\lib\\site-packages\\sklearn\\preprocessing\\_encoders.py:415: FutureWarning: The handling of integer data will change in version 0.22. Currently, the categories are determined based on the range [0, max(values)], while in the future they will be determined based on the unique values.\n",
      "If you want the future behaviour and silence this warning, you can specify \"categories='auto'\".\n",
      "In case you used a LabelEncoder before this OneHotEncoder to convert the categories to integers, then you can now use the OneHotEncoder directly.\n",
      "  warnings.warn(msg, FutureWarning)\n"
     ]
    }
   ],
   "source": [
    "from sklearn.preprocessing import OneHotEncoder\n",
    "encoder = OneHotEncoder(sparse=False)\n",
    "y = encoder.fit_transform(y)"
   ]
  },
  {
   "cell_type": "code",
   "execution_count": 5,
   "metadata": {},
   "outputs": [],
   "source": [
    "from sklearn.model_selection import train_test_split\n",
    "train_x, test_x, train_y, test_y = train_test_split(x, y, test_size=0.20,shuffle=True)"
   ]
  },
  {
   "cell_type": "code",
   "execution_count": 18,
   "metadata": {},
   "outputs": [
    {
     "name": "stdout",
     "output_type": "stream",
     "text": [
      "Model: \"sequential_2\"\n",
      "_________________________________________________________________\n",
      "Layer (type)                 Output Shape              Param #   \n",
      "=================================================================\n",
      "dense_4 (Dense)              (None, 10)                50        \n",
      "_________________________________________________________________\n",
      "dense_5 (Dense)              (None, 10)                110       \n",
      "_________________________________________________________________\n",
      "output (Dense)               (None, 3)                 33        \n",
      "=================================================================\n",
      "Total params: 193\n",
      "Trainable params: 193\n",
      "Non-trainable params: 0\n",
      "_________________________________________________________________\n"
     ]
    }
   ],
   "source": [
    "import tensorflow\n",
    "from tensorflow.keras.models import Sequential\n",
    "from tensorflow.keras.layers import Dense\n",
    "from tensorflow.keras.optimizers import Adam\n",
    "model = Sequential()\n",
    "model.add(Dense(10, input_shape=(4,), activation='relu'))\n",
    "model.add(Dense(10, activation='relu'))\n",
    "model.add(Dense(3, activation='softmax', name='output'))\n",
    "model.summary()"
   ]
  },
  {
   "cell_type": "code",
   "execution_count": 19,
   "metadata": {},
   "outputs": [],
   "source": [
    "model.compile(optimizer=\"adam\", loss='categorical_crossentropy', metrics=['accuracy'])"
   ]
  },
  {
   "cell_type": "code",
   "execution_count": 20,
   "metadata": {},
   "outputs": [
    {
     "name": "stdout",
     "output_type": "stream",
     "text": [
      "Train on 108 samples, validate on 12 samples\n",
      "Epoch 1/40\n",
      "108/108 [==============================] - 0s 4ms/sample - loss: 1.0235 - accuracy: 0.3704 - val_loss: 1.1630 - val_accuracy: 0.0833\n",
      "Epoch 2/40\n",
      "108/108 [==============================] - 0s 444us/sample - loss: 0.9873 - accuracy: 0.3704 - val_loss: 1.1327 - val_accuracy: 0.0833\n",
      "Epoch 3/40\n",
      "108/108 [==============================] - 0s 352us/sample - loss: 0.9555 - accuracy: 0.3704 - val_loss: 1.1033 - val_accuracy: 0.0833\n",
      "Epoch 4/40\n",
      "108/108 [==============================] - 0s 359us/sample - loss: 0.9295 - accuracy: 0.4444 - val_loss: 1.0467 - val_accuracy: 0.5000\n",
      "Epoch 5/40\n",
      "108/108 [==============================] - 0s 407us/sample - loss: 0.8933 - accuracy: 0.6296 - val_loss: 1.0111 - val_accuracy: 0.5000\n",
      "Epoch 6/40\n",
      "108/108 [==============================] - 0s 426us/sample - loss: 0.8560 - accuracy: 0.6667 - val_loss: 0.9633 - val_accuracy: 0.5000\n",
      "Epoch 7/40\n",
      "108/108 [==============================] - 0s 372us/sample - loss: 0.8136 - accuracy: 0.6667 - val_loss: 0.9064 - val_accuracy: 0.5000\n",
      "Epoch 8/40\n",
      "108/108 [==============================] - 0s 371us/sample - loss: 0.7736 - accuracy: 0.6667 - val_loss: 0.8572 - val_accuracy: 0.5000\n",
      "Epoch 9/40\n",
      "108/108 [==============================] - 0s 435us/sample - loss: 0.7312 - accuracy: 0.6667 - val_loss: 0.8085 - val_accuracy: 0.5000\n",
      "Epoch 10/40\n",
      "108/108 [==============================] - 0s 385us/sample - loss: 0.6925 - accuracy: 0.6667 - val_loss: 0.7637 - val_accuracy: 0.5000\n",
      "Epoch 11/40\n",
      "108/108 [==============================] - 0s 339us/sample - loss: 0.6547 - accuracy: 0.6667 - val_loss: 0.7260 - val_accuracy: 0.5000\n",
      "Epoch 12/40\n",
      "108/108 [==============================] - 0s 463us/sample - loss: 0.6216 - accuracy: 0.6667 - val_loss: 0.6800 - val_accuracy: 0.5000\n",
      "Epoch 13/40\n",
      "108/108 [==============================] - 0s 354us/sample - loss: 0.5906 - accuracy: 0.6667 - val_loss: 0.6370 - val_accuracy: 0.5000\n",
      "Epoch 14/40\n",
      "108/108 [==============================] - 0s 369us/sample - loss: 0.5636 - accuracy: 0.6759 - val_loss: 0.5974 - val_accuracy: 0.5833\n",
      "Epoch 15/40\n",
      "108/108 [==============================] - 0s 371us/sample - loss: 0.5388 - accuracy: 0.7315 - val_loss: 0.5719 - val_accuracy: 0.5833\n",
      "Epoch 16/40\n",
      "108/108 [==============================] - 0s 384us/sample - loss: 0.5172 - accuracy: 0.7407 - val_loss: 0.5535 - val_accuracy: 0.5833\n",
      "Epoch 17/40\n",
      "108/108 [==============================] - 0s 379us/sample - loss: 0.5009 - accuracy: 0.7685 - val_loss: 0.4994 - val_accuracy: 0.8333\n",
      "Epoch 18/40\n",
      "108/108 [==============================] - 0s 453us/sample - loss: 0.4793 - accuracy: 0.8333 - val_loss: 0.4998 - val_accuracy: 0.7500\n",
      "Epoch 19/40\n",
      "108/108 [==============================] - 0s 417us/sample - loss: 0.4661 - accuracy: 0.7870 - val_loss: 0.4775 - val_accuracy: 0.8333\n",
      "Epoch 20/40\n",
      "108/108 [==============================] - 0s 463us/sample - loss: 0.4489 - accuracy: 0.8333 - val_loss: 0.4595 - val_accuracy: 0.8333\n",
      "Epoch 21/40\n",
      "108/108 [==============================] - 0s 407us/sample - loss: 0.4355 - accuracy: 0.8796 - val_loss: 0.4299 - val_accuracy: 0.9167\n",
      "Epoch 22/40\n",
      "108/108 [==============================] - 0s 315us/sample - loss: 0.4237 - accuracy: 0.8889 - val_loss: 0.4233 - val_accuracy: 0.9167\n",
      "Epoch 23/40\n",
      "108/108 [==============================] - 0s 453us/sample - loss: 0.4147 - accuracy: 0.9074 - val_loss: 0.3889 - val_accuracy: 1.0000\n",
      "Epoch 24/40\n",
      "108/108 [==============================] - 0s 380us/sample - loss: 0.3999 - accuracy: 0.9074 - val_loss: 0.4042 - val_accuracy: 0.9167\n",
      "Epoch 25/40\n",
      "108/108 [==============================] - 0s 389us/sample - loss: 0.3934 - accuracy: 0.8704 - val_loss: 0.3743 - val_accuracy: 1.0000\n",
      "Epoch 26/40\n",
      "108/108 [==============================] - 0s 435us/sample - loss: 0.3800 - accuracy: 0.9444 - val_loss: 0.3796 - val_accuracy: 0.9167\n",
      "Epoch 27/40\n",
      "108/108 [==============================] - 0s 374us/sample - loss: 0.3716 - accuracy: 0.8704 - val_loss: 0.3706 - val_accuracy: 0.9167\n",
      "Epoch 28/40\n",
      "108/108 [==============================] - 0s 401us/sample - loss: 0.3614 - accuracy: 0.9259 - val_loss: 0.3520 - val_accuracy: 1.0000\n",
      "Epoch 29/40\n",
      "108/108 [==============================] - 0s 407us/sample - loss: 0.3515 - accuracy: 0.9537 - val_loss: 0.3291 - val_accuracy: 1.0000\n",
      "Epoch 30/40\n",
      "108/108 [==============================] - 0s 383us/sample - loss: 0.3415 - accuracy: 0.9537 - val_loss: 0.3273 - val_accuracy: 1.0000\n",
      "Epoch 31/40\n",
      "108/108 [==============================] - 0s 414us/sample - loss: 0.3367 - accuracy: 0.9352 - val_loss: 0.3306 - val_accuracy: 1.0000\n",
      "Epoch 32/40\n",
      "108/108 [==============================] - 0s 361us/sample - loss: 0.3303 - accuracy: 0.9444 - val_loss: 0.2989 - val_accuracy: 1.0000\n",
      "Epoch 33/40\n",
      "108/108 [==============================] - 0s 392us/sample - loss: 0.3198 - accuracy: 0.9259 - val_loss: 0.3163 - val_accuracy: 1.0000\n",
      "Epoch 34/40\n",
      "108/108 [==============================] - 0s 451us/sample - loss: 0.3120 - accuracy: 0.9444 - val_loss: 0.2946 - val_accuracy: 1.0000\n",
      "Epoch 35/40\n",
      "108/108 [==============================] - 0s 389us/sample - loss: 0.3050 - accuracy: 0.9630 - val_loss: 0.2811 - val_accuracy: 1.0000\n",
      "Epoch 36/40\n",
      "108/108 [==============================] - 0s 463us/sample - loss: 0.2991 - accuracy: 0.9167 - val_loss: 0.2893 - val_accuracy: 1.0000\n",
      "Epoch 37/40\n",
      "108/108 [==============================] - 0s 481us/sample - loss: 0.2958 - accuracy: 0.9537 - val_loss: 0.2495 - val_accuracy: 1.0000\n",
      "Epoch 38/40\n",
      "108/108 [==============================] - 0s 352us/sample - loss: 0.3024 - accuracy: 0.9167 - val_loss: 0.2676 - val_accuracy: 1.0000\n",
      "Epoch 39/40\n",
      "108/108 [==============================] - 0s 305us/sample - loss: 0.2792 - accuracy: 0.9630 - val_loss: 0.2546 - val_accuracy: 1.0000\n",
      "Epoch 40/40\n",
      "108/108 [==============================] - 0s 361us/sample - loss: 0.2741 - accuracy: 0.9630 - val_loss: 0.2508 - val_accuracy: 1.0000\n"
     ]
    }
   ],
   "source": [
    "history = model.fit(train_x,train_y,batch_size=5,epochs=40,validation_split=0.1)"
   ]
  },
  {
   "cell_type": "code",
   "execution_count": 21,
   "metadata": {},
   "outputs": [
    {
     "name": "stdout",
     "output_type": "stream",
     "text": [
      "\r",
      "30/1 [====================================================================================================================================================================================================================================================================================================================================================================================================================================================================================================================================================================================================================================================================================================================================================================================================================================================================================================================================] - 0s 133us/sample - loss: 0.2187 - accuracy: 0.9667\n"
     ]
    }
   ],
   "source": [
    "score = model.evaluate(test_x, test_y)"
   ]
  },
  {
   "cell_type": "code",
   "execution_count": 22,
   "metadata": {},
   "outputs": [
    {
     "data": {
      "text/plain": [
       "[0.21867211163043976, 0.96666664]"
      ]
     },
     "execution_count": 22,
     "metadata": {},
     "output_type": "execute_result"
    }
   ],
   "source": [
    "score"
   ]
  },
  {
   "cell_type": "code",
   "execution_count": null,
   "metadata": {},
   "outputs": [],
   "source": []
  }
 ],
 "metadata": {
  "kernelspec": {
   "display_name": "Python 3",
   "language": "python",
   "name": "python3"
  },
  "language_info": {
   "codemirror_mode": {
    "name": "ipython",
    "version": 3
   },
   "file_extension": ".py",
   "mimetype": "text/x-python",
   "name": "python",
   "nbconvert_exporter": "python",
   "pygments_lexer": "ipython3",
   "version": "3.7.3"
  }
 },
 "nbformat": 4,
 "nbformat_minor": 2
}
