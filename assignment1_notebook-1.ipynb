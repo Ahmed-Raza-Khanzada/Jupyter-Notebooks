{
 "cells": [
  {
   "cell_type": "markdown",
   "metadata": {},
   "source": [
    "### <span style=\"color:#0b486b\">Instructions</span>\n",
    "\n",
    "This notebook has been prepared for you to complete Assignment 1. Some sections have been pre-filled  to help you get started. **The total mark for this programming task is 65**.\n",
    "\n",
    "1. Before you start, read the entire notebook carefully to understand what you need to do. You should also refer to the main instructions in *Assignment1_instructions.pdf*  to know what else you need to complete for this assignment.\n",
    "2. For each cell marked with *#INSERT YOUR CODE HERE*, you must write your own code in this cell.\n",
    "3. For each cell marked with *#INSERT YOUR COMMENT HERE*, you must write your own explanatory comment in this cell.\n",
    "4. At the end, you must run the entire notebook and submit two files:\n",
    " 1. The source of your solution notebook: [YourID]_assignment1_solution.ipynb\n",
    " 2. And an exported version of your output: [YourID]_assignment1_output.html  \n",
    "       \n",
    "For example, if your student ID is 123456, then you need submit two files:\n",
    "\n",
    "1. **123456_assignment1_solution.ipynb**\n",
    "2. and **123456_assignment1_output.html**\n",
    "\n",
    "As you go through this notebook:\n",
    "\n",
    "* markdown cells marked with **Note** mean description sections.\n",
    "* markdown cells marked with **Instructions** mean the instructions given to you to complete the sections.\n",
    "\n",
    "***If an instruction is not clear, please contact the unit chair or the teaching team as soon as possible.***\n"
   ]
  },
  {
   "cell_type": "code",
   "execution_count": 1,
   "metadata": {},
   "outputs": [],
   "source": [
    "#\n",
    "# Import packages needed for processing\n",
    "#\n",
    "import numpy as np   # import the numpy package\n",
    "import csv           # this package needed for processing csv file\n",
    "from collections import Counter  # this is for dictionary construction with counting functionality\n",
    "import matplotlib.pyplot as plt  # this is for plotting and other descriptive statistics\n",
    "import datetime      # this package is for handling time\n",
    "#\n",
    "# If you need add any additional packages, then add them below this line\n",
    "#\n",
    "\n"
   ]
  },
  {
   "cell_type": "markdown",
   "metadata": {},
   "source": [
    "**Note**: you must place your data file in the same folder with your python notebook."
   ]
  },
  {
   "cell_type": "code",
   "execution_count": 4,
   "metadata": {},
   "outputs": [],
   "source": [
    "# Declare the path to the data file\n",
    "DATA_FILE = \"owid-covid-data.csv\""
   ]
  },
  {
   "cell_type": "markdown",
   "metadata": {},
   "source": [
    "**Note**. The following segment of codes is to load the data from the .csv file using csv package. It has been provided for you to get started. Please **do not** change this piece of code as well the variable names as we will need these variables to complete subsequent tasks. "
   ]
  },
  {
   "cell_type": "code",
   "execution_count": 5,
   "metadata": {},
   "outputs": [
    {
     "name": "stdout",
     "output_type": "stream",
     "text": [
      "dict_keys(['iso_code', 'continent', 'location', 'date', 'total_cases', 'new_cases', 'new_cases_smoothed', 'total_deaths', 'new_deaths', 'new_deaths_smoothed', 'total_cases_per_million', 'new_cases_per_million', 'new_cases_smoothed_per_million', 'total_deaths_per_million', 'new_deaths_per_million', 'new_deaths_smoothed_per_million', 'reproduction_rate', 'icu_patients', 'icu_patients_per_million', 'hosp_patients', 'hosp_patients_per_million', 'weekly_icu_admissions', 'weekly_icu_admissions_per_million', 'weekly_hosp_admissions', 'weekly_hosp_admissions_per_million', 'new_tests', 'total_tests', 'total_tests_per_thousand', 'new_tests_per_thousand', 'new_tests_smoothed', 'new_tests_smoothed_per_thousand', 'positive_rate', 'tests_per_case', 'tests_units', 'total_vaccinations', 'people_vaccinated', 'people_fully_vaccinated', 'new_vaccinations', 'new_vaccinations_smoothed', 'total_vaccinations_per_hundred', 'people_vaccinated_per_hundred', 'people_fully_vaccinated_per_hundred', 'new_vaccinations_smoothed_per_million', 'stringency_index', 'population', 'population_density', 'median_age', 'aged_65_older', 'aged_70_older', 'gdp_per_capita', 'extreme_poverty', 'cardiovasc_death_rate', 'diabetes_prevalence', 'female_smokers', 'male_smokers', 'handwashing_facilities', 'hospital_beds_per_thousand', 'life_expectancy', 'human_development_index'])\n"
     ]
    }
   ],
   "source": [
    "# Load CSV file using DictReader\n",
    "input_file = csv.DictReader(open(DATA_FILE))\n",
    "fieldnames = input_file.fieldnames\n",
    "data_dict = {fn: [] for fn in fieldnames}\n",
    "print(data_dict.keys())\n",
    "for line in input_file:\n",
    "    for k, v in line.items():\n",
    "        if (v == ''): #quick fix for missing values\n",
    "            v=0\n",
    "        try:\n",
    "            data_dict[k].append(int(v))\n",
    "        except ValueError:\n",
    "            try:\n",
    "                data_dict[k].append(float(v))\n",
    "            except ValueError:\n",
    "                data_dict[k].append(v)\n",
    "                \n",
    "for k, v in data_dict.items():\n",
    "    data_dict[k] = np.array(v)"
   ]
  },
  {
   "cell_type": "markdown",
   "metadata": {},
   "source": [
    "---\n",
    "## **Instruction 1**\n",
    "We first examine the variables and the overall data size. The tasks:\n",
    "\n",
    "1. Write your code to print the type for the following variables (**4 marks**):\n",
    "    * input_file\n",
    "    * data_dict\n",
    "    * data_dict['iso_code']\n",
    "    * data_dict['reproduction_rate']\n",
    "\n",
    "\n",
    "2. Write your code to print out the number of data records (**1 mark**):\n",
    "\n",
    "[**Total mark: 5**]"
   ]
  },
  {
   "cell_type": "code",
   "execution_count": 6,
   "metadata": {
    "scrolled": true
   },
   "outputs": [
    {
     "name": "stdout",
     "output_type": "stream",
     "text": [
      "input_file <class 'csv.DictReader'>\n",
      "data_dict <class 'dict'>\n",
      "data_dict['iso_code'] <class 'numpy.ndarray'>\n",
      "data_dict['reproduction_rate'] <class 'numpy.ndarray'>\n"
     ]
    }
   ],
   "source": [
    "# INSERT YOUR CODE HERE\n",
    "\n",
    "print(\"input_file\", type(input_file))\n",
    "print(\"data_dict\", type(data_dict))\n",
    "print(\"data_dict['iso_code']\", type(data_dict['iso_code']))\n",
    "print(\"data_dict['reproduction_rate']\", type(data_dict['reproduction_rate']))\n",
    "\n",
    "#1. Write you code to print the type for the following variables:\n",
    "#    * input_file\n",
    "#    * data_dict\n",
    "#    * data_dict['iso_code']\n",
    "#    * data_dict['reproduction_rate']\n",
    "#\n"
   ]
  },
  {
   "cell_type": "code",
   "execution_count": 7,
   "metadata": {},
   "outputs": [
    {
     "name": "stdout",
     "output_type": "stream",
     "text": [
      "79866\n",
      "79866\n"
     ]
    }
   ],
   "source": [
    "# INSERT YOUR CODE HERE\n",
    "\n",
    "num_data_records = 0\n",
    "\n",
    "for data_records in (data_dict['iso_code']):\n",
    "    num_data_records += 1\n",
    "\n",
    "print(num_data_records)\n",
    "\n",
    "print(len(data_dict['iso_code']))\n",
    "\n",
    "# 2. Write your code to print out the number of data records\n",
    "#"
   ]
  },
  {
   "cell_type": "markdown",
   "metadata": {},
   "source": [
    "---\n",
    "## Instruction 2\n",
    "The following code segment is designed to calculate some basic statistics from the data for a recent date. The data is stored in **data_filtered_by_date** dictionary.\n",
    "\n",
    "**Your task:**\n",
    "1. Learn how the code, which extracts the data for all countries at a required date, works. Why **try-except** construction is required in this code? Provide the answer. (**2 marks**)\n",
    "1. Write your code to find and print the minimum and the maximum values of mortality per million in the **total_deaths_per_million** column. (**1 mark**)\n",
    "2. Write your code to find and print the minimum and the maximum values of cases per million in the **total_cases_per_million** column. (**1 mark**)\n",
    "3. Write your code to find and print the mean and median mortality per million, and the standard deviation from the **total_deaths_per_million** column. (**2 marks**)\n",
    "4. Write your code to construct a box plot for the **total_deaths_per_million**. (**2 marks**) \n",
    "4. You will find that mean and median values for mortality are quite different. Briefly describe the meaning of the difference between the mean and median mortality per million. Why are they different? (**2 marks**)\n",
    "\n",
    "**[Total mark: 10]**"
   ]
  },
  {
   "cell_type": "code",
   "execution_count": 10,
   "metadata": {},
   "outputs": [],
   "source": [
    "# THIS PART EXTRACTS THE DATA FOR ALL COUNTRIES AT A REQUIRED DATE.\n",
    "# LEARN HOW IT WORKS.\n",
    "# data_filtered_by_date DICTIONARY CONTAINS ALL DATA FOR ALL COUNTRIES AT required_date\n",
    "\n",
    "required_date = '2021-03-09'\n",
    "\n",
    "index_for_date = (data_dict['date'] == required_date)\n",
    "data_filtered_by_date = {}\n",
    "for key in data_dict.keys():\n",
    "    try:\n",
    "        data_filtered_by_date[key] = np.float_(data_dict[key][index_for_date])\n",
    "    except:\n",
    "        data_filtered_by_date[key] = data_dict[key][index_for_date]"
   ]
  },
  {
   "cell_type": "code",
   "execution_count": 11,
   "metadata": {},
   "outputs": [],
   "source": [
    "# 1. Why **try-except** construction is required in this code? (2 marks)\n",
    "# INSERT YOUR ANSWER HERE\n",
    "#"
   ]
  },
  {
   "cell_type": "code",
   "execution_count": 12,
   "metadata": {},
   "outputs": [
    {
     "ename": "NameError",
     "evalue": "name 'data_filtered_by_required_date' is not defined",
     "output_type": "error",
     "traceback": [
      "\u001b[1;31m---------------------------------------------------------------------------\u001b[0m",
      "\u001b[1;31mNameError\u001b[0m                                 Traceback (most recent call last)",
      "\u001b[1;32m<ipython-input-12-0dcaf167c8c7>\u001b[0m in \u001b[0;36m<module>\u001b[1;34m\u001b[0m\n\u001b[0;32m      5\u001b[0m \u001b[1;31m#\u001b[0m\u001b[1;33m\u001b[0m\u001b[1;33m\u001b[0m\u001b[1;33m\u001b[0m\u001b[0m\n\u001b[0;32m      6\u001b[0m \u001b[1;33m\u001b[0m\u001b[0m\n\u001b[1;32m----> 7\u001b[1;33m \u001b[0mtotal_deaths_per_million\u001b[0m \u001b[1;33m=\u001b[0m \u001b[0mdata_filtered_by_required_date\u001b[0m\u001b[1;33m[\u001b[0m\u001b[1;34m'total_deaths_per_million'\u001b[0m\u001b[1;33m]\u001b[0m\u001b[1;33m\u001b[0m\u001b[1;33m\u001b[0m\u001b[0m\n\u001b[0m\u001b[0;32m      8\u001b[0m \u001b[1;33m\u001b[0m\u001b[0m\n\u001b[0;32m      9\u001b[0m \u001b[1;32mdef\u001b[0m \u001b[0mmin_max\u001b[0m\u001b[1;33m(\u001b[0m\u001b[0mtotal_deaths_per_million\u001b[0m\u001b[1;33m)\u001b[0m\u001b[1;33m:\u001b[0m\u001b[1;33m\u001b[0m\u001b[1;33m\u001b[0m\u001b[0m\n",
      "\u001b[1;31mNameError\u001b[0m: name 'data_filtered_by_required_date' is not defined"
     ]
    }
   ],
   "source": [
    "# INSERT YOUR CODE HERE\n",
    "#\n",
    "# 2. Write your code to find and print the minimum and the maximum values of mortality \n",
    "#    per million (key name 'total_deaths_per_million'). (1 mark)\n",
    "#\n",
    "\n",
    "total_deaths_per_million = data_filtered_by_required_date['total_deaths_per_million']\n",
    "\n",
    "def min_max(total_deaths_per_million):\n",
    "    return min(total_deaths_per_million), max(total_deaths_per_million)\n",
    "print(min_max(total_deaths_per_million))\n"
   ]
  },
  {
   "cell_type": "code",
   "execution_count": null,
   "metadata": {},
   "outputs": [],
   "source": [
    "# INSERT YOUR CODE HERE\n",
    "#\n",
    "# 3. Write your code to find and print the minimum and the maximum values of cases per million \n",
    "# in the total_cases_per_million column. (1 mark)\n",
    "#\n"
   ]
  },
  {
   "cell_type": "code",
   "execution_count": null,
   "metadata": {},
   "outputs": [],
   "source": [
    "# INSERT YOUR CODE HERE\n",
    "# Write your code to find and print the mean and median mortality per million, and the standard \n",
    "# deviation from the total_deaths_per_million column. (2 marks)\n"
   ]
  },
  {
   "cell_type": "code",
   "execution_count": null,
   "metadata": {},
   "outputs": [],
   "source": [
    "# INSERT YOUR CODE HERE\n",
    "#\n",
    "# Write your code to construct a box plot for the COVID mortality per million.\n",
    "#\n"
   ]
  },
  {
   "cell_type": "code",
   "execution_count": null,
   "metadata": {},
   "outputs": [],
   "source": [
    "# INSERT YOUR COMMENT HERE\n",
    "#\n",
    "# Briefly describe the meaning of the difference between the mean and median COVID mortality per million.\n",
    "# Why are they different? (2 marks)\n",
    "#\n"
   ]
  },
  {
   "cell_type": "markdown",
   "metadata": {},
   "source": [
    "---\n",
    "## **Instruction 3**\n",
    "This part of the assignment is designed to examine COVID cases and mortality data for different countries. The countries are given by their ISO alpha-3 codes, given here: https://en.wikipedia.org/wiki/ISO_3166-1_alpha-3 .\n",
    "As in the previous task, we will be using **total_cases_per_million** and **total_deaths_per_million** columns.\n",
    "\n",
    "**Your tasks**:\n",
    "\n",
    "1. Write your code to find and print out the number of countries in the dataset. (**1 mark**)\n",
    "2. Population mortality from seasonal influenza is generally thought to be about 0.01% (1 death per 10000 people). Write your code to find and print out the list of countries with the population mortality greater than ten times of the population mortality of seasonal influenza. (**2 marks**)\n",
    "3. Write your code to find and print out the country with the highest population mortality. Both the country code and the mortality value for this country need to be printed out (**2 marks**)\n",
    "4. Write your code to construct a dictionary variable ***data_large_countries*** whose keys are **iso_code**, **total_cases_per_million**, **total_deaths_per_million**, **population**, **population_density**. You can start from the original dataset **data_dict**. You can adapt the code given to you in Instruction 2. Print the dictionary. (**2 marks**)\n",
    "5. Using the new dictionary ***data_large_countries***, plot a bar chart of mortality sorted in descending order of values for the countries with **population** more than 1 million, achieving first twenty places of leadership in exterminating their own population. (**3 marks**)\n",
    "6. Using the same dictionary, plot a bar chart of population density for the mortality leaders. Use the same order of countries as in Task 5. (**3 marks**)\n",
    "7. Discuss the bar charts. Which conclusion you can draw, if you look at all of them together? (**2 marks**)\n",
    "\n",
    "[**Total mark: 15**]"
   ]
  },
  {
   "cell_type": "code",
   "execution_count": null,
   "metadata": {},
   "outputs": [],
   "source": [
    "# INSERT YOUR CODE HERE \n",
    "# Write your code to find and print out the number of countries in the dataset. (1 mark)\n",
    "# To be sure that you get a list of unique countries, you may want to use np.unique\n"
   ]
  },
  {
   "cell_type": "code",
   "execution_count": null,
   "metadata": {},
   "outputs": [],
   "source": [
    "# INSERT YOUR CODE HERE \n",
    "#\n",
    "# 2. Population mortality from seasonal influenza is generally thought to be about 0.01% \n",
    "# (1 death per 10000 people). Write your code to find and print out the list of countries \n",
    "# with the population mortality is more than ten times of the seasonal influenza. (2 marks)\n",
    "#\n"
   ]
  },
  {
   "cell_type": "code",
   "execution_count": null,
   "metadata": {},
   "outputs": [],
   "source": [
    "# INSERT YOUR CODE HERE \n",
    "# Write your code to find and print out the country with the highest population mortality. \n",
    "# Both the country code and the mortality value for this country need to be printed out (2 marks)\n",
    "# HINT: You can use np.where or np.argmax functions.\n"
   ]
  },
  {
   "cell_type": "code",
   "execution_count": null,
   "metadata": {},
   "outputs": [],
   "source": [
    "# INSERT YOUR CODE HERE \n",
    "# 4. Write your code to construct a dictionary variable ***data_large_countries*** whose keys are **iso_code**,\n",
    "# **total_cases_per_million**, **total_deaths_per_million**, **population**, **population_density**.\n",
    "# You can start from the original dataset **data_dict**.\n",
    "# You can adapt the code given to you in Instruction 2.\n",
    "# Print the dictionary.\n",
    "# (**2 marks**)\n"
   ]
  },
  {
   "cell_type": "code",
   "execution_count": null,
   "metadata": {
    "scrolled": true
   },
   "outputs": [],
   "source": [
    "# INSERT YOUR CODE HERE \n",
    "# 5. Using the new dictionary ***data_large_countries***, plot a bar chart of mortality\n",
    "# sorted in descending order of values for the countries with **population** more than 1 million, \n",
    "# achieving first twenty places in exterminating their own population. (**3 marks**)\n",
    "#\n",
    "# HINT: You can use np.argsort.\n"
   ]
  },
  {
   "cell_type": "code",
   "execution_count": null,
   "metadata": {
    "scrolled": true
   },
   "outputs": [],
   "source": [
    "# INSERT YOUR CODE HERE \n",
    "# 6. Using the same dictionary, plot a of total cases and population density for the mortality leaders.\n",
    "# Use the same order of countries as in Task 5. (**3 marks**)\n",
    "#\n",
    "# HINT: you want to plot these side by side.\n"
   ]
  },
  {
   "cell_type": "code",
   "execution_count": null,
   "metadata": {},
   "outputs": [],
   "source": [
    "# 7. Discuss the bar charts. Which conclusion you can draw, if you look at all of them together? (**2 marks**)\n",
    "# INSERT YOUR COMMENT HERE\n",
    "#"
   ]
  },
  {
   "cell_type": "markdown",
   "metadata": {},
   "source": [
    "---\n",
    "## **Instruction 4**\n",
    "Let's now look at the other end of the COVID spread - at the countries with large populations (more than 1 million) and with the minimal number of cases and deaths. We can use the same dataset ***data_large_countries*** we have prepared in the previous task.\n",
    "\n",
    "**Your tasks here are:**\n",
    "1. Using the new dictionary ***data_large_countries***, plot bar charts of mortality per million, cases per million and population density for the 20 countries with **population** more than 1 million and minimal mortality. (**3 marks**)\n",
    "2. In the bar charts you have got you should see a very clear exception. Describe its properties. What makes it exceptional? (**2 marks**)\n",
    "\n",
    "[**Total mark: 5**]"
   ]
  },
  {
   "cell_type": "code",
   "execution_count": null,
   "metadata": {},
   "outputs": [],
   "source": [
    "# 1. Using the new dictionary ***data_large_countries***, plot bar charts of mortality per million, \n",
    "# cases per million and population density for the 20 countries with **population** more than 1 \n",
    "# million and minimal mortality. (**3 marks**)\n",
    "#INSERT YOUR CODE HERE\n"
   ]
  },
  {
   "cell_type": "code",
   "execution_count": null,
   "metadata": {},
   "outputs": [],
   "source": [
    "# 2. In the bar charts you have got you should see a very clear exception. Describe its properties. \n",
    "# What makes it exceptional? (**2 marks**)\n",
    "# INSERT YOUR COMMENT HERE\n",
    "#"
   ]
  },
  {
   "cell_type": "markdown",
   "metadata": {},
   "source": [
    "---\n",
    "## **Instruction 5 (D/HD level)**\n",
    "\n",
    "We will return back to the differences between the countries in their ways of dealinig with epidemics in Instruction 6. Now, however, we shall look at the basics of epidemiological processes from the point of view\n",
    "of real data. Generally, epidemics evolve exponentially until they are either stopped by some measures (lockdowns, vaccinations) or saturate (population dies out and/or gets naturally immune).\n",
    "\n",
    "**Your tasks**:\n",
    "\n",
    "1. Define a function called **convert_date** that takes date string (in the format as it is given in the dataset csv file) as the input and returns the number of days from that date until now. The number should be negative. For example, today is 14/3/21. The input date is 3/3/21. The function should compute the difference between the input date and today's date and return -13. If the function argument is in incorrect form, the function should return 0. Don't forget to test it. (**4 marks**)\n",
    "2. Pick three countries, which may be interesting or relevant for you. For me they are the UK, Ukraine and Australia (iso codes GBR, UKR, AUS). For demonstration purpose you want to include Australia or another country, which was able to deal with the COVID epidemics more or less successfully, and a country with large number of cases. Make a new list **country_list**, which contains iso codes of the countries. (**1 mark**)\n",
    "3. Plot how **total_cases** for the countries you have picked, grow in time. All three curves have to be on the same plot with the horizontal axis of \"Number of days before today\". Don't forget the legend. (**4 marks**)\n",
    "4. If you have chosen the countries appropriately, you will see that the plot you have produced is not very informative. Why is it so? What can you do to make it more informative and to reveal the true dynamics? Note there are **two** reasons, you need to provide both. (**1 mark**)\n",
    "5. Implement the idea from Task 4 and make a plot, similar to task 3. (**1 mark**)\n",
    "6. Explain what you see in the new plot. Do you see specific regions of interest in the epidemic curves? Discuss them. (**4 marks**)\n",
    "\n",
    "[**Total mark: 15**]\n",
    "\n",
    "\n",
    "NB: There are many more interesting dependencies you can produce in this part, and you are welcome to do so. Also, if you implement everything correctly, you don't need to limit yourself to three countries only."
   ]
  },
  {
   "cell_type": "code",
   "execution_count": null,
   "metadata": {},
   "outputs": [],
   "source": [
    "# 1. Define a function called **convert_date** that takes date string (in the format as it is given \n",
    "# in the dataset csv file) as the input and returns the number of days from that date until now. The \n",
    "# number should be negative. For example, today is 14/3/21. The input date is 3/3/21. The function \n",
    "# should return -13. If the function argument is in incorrect form, the function should return 0. \n",
    "# (**4 marks**)\n",
    "#    \n",
    "# Hint: you might want to use datetime package.\n",
    "#\n",
    "# INSERT YOUR CODE HERE\n"
   ]
  },
  {
   "cell_type": "code",
   "execution_count": null,
   "metadata": {
    "scrolled": true
   },
   "outputs": [],
   "source": [
    "# 2. Pick three countries, which may be interesting or relevant for you. For me they are the UK, \n",
    "# Ukraine and Australia (iso codes GBR, UKR, AUS). However, for demonstration purpose you want \n",
    "# to include Australia or another country, which was able to deal with the COVID epidemics more \n",
    "# or less successfully, and a country with large number of cases. Make a new list **country_list**, \n",
    "# which contains iso codes of the countries. (**1 mark**)\n",
    "#\n",
    "# INSERT YOUR CODE HERE\n"
   ]
  },
  {
   "cell_type": "code",
   "execution_count": null,
   "metadata": {},
   "outputs": [],
   "source": [
    "# 3. Plot how **total_cases** for the countries you have picked, grow in time. All three curves \n",
    "# have to be on the same plot with the horizontal axis of \"Number of days before today\". Don't \n",
    "# forget the legend. (**4 marks**)\n",
    "#\n",
    "# INSERT YOUR CODE HERE\n"
   ]
  },
  {
   "cell_type": "code",
   "execution_count": null,
   "metadata": {},
   "outputs": [],
   "source": [
    "# 4. If you have chosen the countries appropriately, you will see that the plot you have produced \n",
    "# is not very informative. Why is it so? What can you do to make it more informative and to reveal\n",
    "# the true dynamics? Note there are **two** reasons, you need to provide both. (**1 mark**)\n",
    "#\n"
   ]
  },
  {
   "cell_type": "code",
   "execution_count": null,
   "metadata": {},
   "outputs": [],
   "source": [
    "# 5. Implement the idea from Task 4 and make a plot, similar to task 3. (**4 marks**)\n",
    "#\n",
    "# INSERT YOUR CODE HERE\n",
    "\n"
   ]
  },
  {
   "cell_type": "code",
   "execution_count": null,
   "metadata": {},
   "outputs": [],
   "source": [
    "# 6. Explain what you see in the new plot. Do you see specific regions of interest in the \n",
    "# epidemic curves? Discuss them. (**4 marks**)\n",
    "#\n",
    "# INSERT YOUR COMMENT HERE\n",
    "#"
   ]
  },
  {
   "cell_type": "markdown",
   "metadata": {},
   "source": [
    "---\n",
    "## **Instruction 6** (D/HD level)\n",
    "In this part of the assignment, we go back to the current state of affairs with COVID and look deeper into the dependencies between the parameters of the COVID epidemic and population parameters. We get back to the dataset we have created, namely **data_filtered_by_date**. This dataset also contains population parameters, for example, population and population density, median age, GDP per capita, human development index, and so on.\n",
    "\n",
    "NOTE: If you are curious, you may want to limit the number of countries you plot by some condition (similar to what we did above by limiting countries to ones with population above 1 million. The mark will not be affected if you don't.\n",
    "\n",
    "1. First of all, let's confirm what we saw before in Instructions 3 and 4, namely, counterintuitvely weak or no dependence of the number of cases and mortality on average population density. You need to plot two scatter plots of total mortality and total case numbers per million on population density. Take logarithm base 10 of the population density. (**2 marks**)\n",
    "2. Annotate the scatter plots with the iso codes of countries. (**1 mark**)\n",
    "3. Discuss the results you can see in the scatter plots. (**2 marks**) \n",
    "4. Make scatter plots of the mortality and case numbers on GDP per capita. (**2 marks**)\n",
    "5. Annotate the scatter plots with the iso codes of countries. (**1 mark**)\n",
    "6. Discuss what you see in these scatter plots. Strange, isn't it? What do you think are the reasons? There can be many. (**2 marks**)\n",
    "7. Make and annotate scatter plot of median age vs mortality and meadian age vs log10 of gdp per capita. (**1 mark**)\n",
    "8. Use numpy **polyfit** or **polynomial** function to fit a straight line in the last scatter plot (median age vs gdp per capita. Overplot the line. Note - IT CAN BE HARD! (**2 marks**)\n",
    "9. Discuss the last scatter plots. (**2 marks**)\n",
    "\n",
    "[**Total mark: 15**]"
   ]
  },
  {
   "cell_type": "code",
   "execution_count": null,
   "metadata": {},
   "outputs": [],
   "source": [
    "# 1. First of all, let's confirm what we saw before in Instructions 3 and 4, namely, \n",
    "# counterintuitvely weak or no dependence of the number of cases and mortality on average \n",
    "# population density. You need to plot two scatter plots of total mortality and total \n",
    "# case numbers per million on population density. Take logarithm base 10 of the population \n",
    "# density. (**2 marks**)\n",
    "# 2. Annotate the scatter plots with the iso codes of countries. (**1 mark**)\n",
    "\n",
    "# INSERT YOUR CODE HERE\n"
   ]
  },
  {
   "cell_type": "code",
   "execution_count": null,
   "metadata": {},
   "outputs": [],
   "source": [
    "# 3. Discuss what you see in the scatter plots. (**2 mark**)\n",
    "#\n",
    "# INSERT YOUR COMMENT HERE\n",
    "# "
   ]
  },
  {
   "cell_type": "code",
   "execution_count": null,
   "metadata": {},
   "outputs": [],
   "source": [
    "# 4. Make scatter plots of the mortality and case numbers on GDP per capita. (**2 marks**)\n",
    "# 5. Annotate the scatter plots with the iso codes of countries. (**1 mark**)\n",
    "# INSERT YOUR CODE HERE\n"
   ]
  },
  {
   "cell_type": "code",
   "execution_count": null,
   "metadata": {},
   "outputs": [],
   "source": [
    "# 6. Discuss what you see in these scatter plots. Strange, isn't it? What do you think are \n",
    "# the reasons? There can be many. (**2 marks**)\n",
    "#\n",
    "# INSERT YOUR COMMENT HERE\n",
    "# \n"
   ]
  },
  {
   "cell_type": "code",
   "execution_count": null,
   "metadata": {},
   "outputs": [],
   "source": [
    "# 7. Make and annotate scatter plot of median age vs mortality and meadian age vs gdp per capita. \n",
    "# Use log10 if it makes plot clearer. (**1 mark**)\n",
    "# INSERT YOUR CODE HERE\n",
    "\n",
    "    \n",
    "\n",
    "# 8. Use numpy polyfit function to fit a straight line in the last scatter plot (median age vs gdp per \n",
    "# capita. Overplot the line. (**2 marks**)\n",
    "# INSERT YOUR CODE HERE\n",
    "\n"
   ]
  },
  {
   "cell_type": "code",
   "execution_count": null,
   "metadata": {},
   "outputs": [],
   "source": [
    "# 9. Discuss the last scatter plots. (**2 marks**)\n",
    "#\n",
    "# INSERT YOUR COMMENT HERE\n",
    "#\n",
    "# "
   ]
  },
  {
   "cell_type": "code",
   "execution_count": null,
   "metadata": {},
   "outputs": [],
   "source": []
  }
 ],
 "metadata": {
  "kernelspec": {
   "display_name": "Python 3",
   "language": "python",
   "name": "python3"
  },
  "language_info": {
   "codemirror_mode": {
    "name": "ipython",
    "version": 3
   },
   "file_extension": ".py",
   "mimetype": "text/x-python",
   "name": "python",
   "nbconvert_exporter": "python",
   "pygments_lexer": "ipython3",
   "version": "3.8.5"
  }
 },
 "nbformat": 4,
 "nbformat_minor": 1
}
