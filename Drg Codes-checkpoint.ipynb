{
 "cells": [
  {
   "cell_type": "code",
   "execution_count": 4,
   "metadata": {
    "execution": {
     "iopub.execute_input": "2021-07-12T21:03:26.146325Z",
     "iopub.status.busy": "2021-07-12T21:03:26.145889Z",
     "iopub.status.idle": "2021-07-12T21:03:26.153089Z",
     "shell.execute_reply": "2021-07-12T21:03:26.152158Z",
     "shell.execute_reply.started": "2021-07-12T21:03:26.146286Z"
    }
   },
   "outputs": [],
   "source": [
    "import pandas as pd\n",
    "import requests\n"
   ]
  },
  {
   "cell_type": "code",
   "execution_count": 5,
   "metadata": {
    "execution": {
     "iopub.execute_input": "2021-07-12T21:12:05.406013Z",
     "iopub.status.busy": "2021-07-12T21:12:05.405565Z",
     "iopub.status.idle": "2021-07-12T21:12:05.411536Z",
     "shell.execute_reply": "2021-07-12T21:12:05.410543Z",
     "shell.execute_reply.started": "2021-07-12T21:12:05.405973Z"
    }
   },
   "outputs": [],
   "source": [
    "my_rt='json'\n",
    "my_token='3932f3b0-cfab-11dc-95ff-0800200c9a663932f3b0-cfab-11dc-95ff-0800200c9a66'"
   ]
  },
  {
   "cell_type": "code",
   "execution_count": 27,
   "metadata": {
    "execution": {
     "iopub.execute_input": "2021-07-12T21:19:23.459967Z",
     "iopub.status.busy": "2021-07-12T21:19:23.459410Z",
     "iopub.status.idle": "2021-07-12T21:19:23.466315Z",
     "shell.execute_reply": "2021-07-12T21:19:23.464710Z",
     "shell.execute_reply.started": "2021-07-12T21:19:23.459920Z"
    }
   },
   "outputs": [],
   "source": [
    "def get_drg_codes(icd_codes):\n",
    "    str_icd = str(icd_codes)\n",
    "    x = requests.get('https://www.hipaaspace.com/api/drg/search?q='+str_icd+'&rt=json&token=3932f3b0-cfab-11dc-95ff-0800200c9a663932f3b0-cfab-11dc-95ff-0800200c9a66')\n",
    "    #x1 = requests.get('https://www.hipaaspace.com/api/drg/search?q=024&rt=json&token=3932f3b0-cfab-11dc-95ff-0800200c9a663932f3b0-cfab-11dc-95ff-0800200c9a66')\n",
    "\n",
    "    return(x)"
   ]
  },
  {
   "cell_type": "code",
   "execution_count": 160,
   "metadata": {
    "execution": {
     "iopub.execute_input": "2021-07-12T21:19:24.993939Z",
     "iopub.status.busy": "2021-07-12T21:19:24.993330Z",
     "iopub.status.idle": "2021-07-12T21:19:24.999506Z",
     "shell.execute_reply": "2021-07-12T21:19:24.998449Z",
     "shell.execute_reply.started": "2021-07-12T21:19:24.993888Z"
    }
   },
   "outputs": [
    {
     "name": "stdout",
     "output_type": "stream",
     "text": [
      "['024', '042', '093']\n"
     ]
    }
   ],
   "source": [
    "#adding code with leading 0 number\n",
    "responses = []\n",
    "def print_codes():\n",
    "    my_icd_codes = []\n",
    "    a_numbers=[24,42,93]\n",
    "    for a_number in a_numbers:\n",
    "        number_str = str(a_number)\n",
    "        my_icd_code = number_str.zfill(3)\n",
    "        my_icd_codes.append(my_icd_code)\n",
    "    print(my_icd_codes)\n",
    "    return my_icd_codes\n",
    "my_icd_codes= print_codes()"
   ]
  },
  {
   "cell_type": "code",
   "execution_count": 162,
   "metadata": {},
   "outputs": [
    {
     "data": {
      "text/plain": [
       "['024', '042', '093']"
      ]
     },
     "execution_count": 162,
     "metadata": {},
     "output_type": "execute_result"
    }
   ],
   "source": [
    "my_icd_codes"
   ]
  },
  {
   "cell_type": "code",
   "execution_count": 134,
   "metadata": {
    "execution": {
     "iopub.execute_input": "2021-07-12T21:19:27.113026Z",
     "iopub.status.busy": "2021-07-12T21:19:27.112459Z",
     "iopub.status.idle": "2021-07-12T21:19:27.239895Z",
     "shell.execute_reply": "2021-07-12T21:19:27.239137Z",
     "shell.execute_reply.started": "2021-07-12T21:19:27.112993Z"
    }
   },
   "outputs": [],
   "source": [
    "for my_icd_code in my_icd_codes:\n",
    "    p=get_drg_codes(my_icd_code)\n",
    "    responses.append(p)"
   ]
  },
  {
   "cell_type": "code",
   "execution_count": 135,
   "metadata": {},
   "outputs": [
    {
     "name": "stdout",
     "output_type": "stream",
     "text": [
      "\r\n",
      "      \"DRGDescription\": \"PERIPHERAL, CRANIAL NERVE AND OTHER NERVOUS SYSTEM PROCEDURES WITHOUT CC/MCC\"\n"
     ]
    }
   ],
   "source": [
    "print(responses[1].text[28:-15].split('\",')[-1])"
   ]
  },
  {
   "cell_type": "code",
   "execution_count": 136,
   "metadata": {},
   "outputs": [
    {
     "data": {
      "text/plain": [
       "'{\\r\\n  \"DRG\": [\\r\\n    {\\r\\n      \"MDC\": \"01\",\\r\\n      \"MDCDescription\": \"Diseases and Disorders of the Nervous System\",\\r\\n      \"DRGType\": \"M\",\\r\\n      \"DRGTypeDescription\": \"Medical\",\\r\\n      \"DRG\": \"093\",\\r\\n      \"DRGDescription\": \"OTHER DISORDERS OF NERVOUS SYSTEM WITHOUT CC/MCC\"\\r\\n    }\\r\\n  ]\\r\\n}'"
      ]
     },
     "execution_count": 136,
     "metadata": {},
     "output_type": "execute_result"
    }
   ],
   "source": [
    "responses[-1].text"
   ]
  },
  {
   "cell_type": "code",
   "execution_count": 137,
   "metadata": {},
   "outputs": [],
   "source": [
    "df = pd.DataFrame()"
   ]
  },
  {
   "cell_type": "code",
   "execution_count": 154,
   "metadata": {
    "execution": {
     "iopub.execute_input": "2021-07-12T21:33:26.108654Z",
     "iopub.status.busy": "2021-07-12T21:33:26.108215Z",
     "iopub.status.idle": "2021-07-12T21:33:26.156679Z",
     "shell.execute_reply": "2021-07-12T21:33:26.155612Z",
     "shell.execute_reply.started": "2021-07-12T21:33:26.108621Z"
    }
   },
   "outputs": [],
   "source": [
    "responses2 = {}\n",
    "des2 = []\n",
    "des = []\n",
    "for i in responses:\n",
    "    res = i.text[28:-15].split('\",')\n",
    "    res = res[-2:]\n",
    "    a = 0\n",
    "    for j in res:\n",
    "        if a==0:\n",
    "            des.append(j.split(\":\")[-1][2:])\n",
    "        else:\n",
    "            des2.append(j.split(\":\")[-1][2:-2])\n",
    "        a +=1"
   ]
  },
  {
   "cell_type": "code",
   "execution_count": 155,
   "metadata": {},
   "outputs": [
    {
     "data": {
      "text/plain": [
       "['CRANIOTOMY WITH MAJOR DEVICE IMPLANT OR ACUTE COMPLEX CNS PDX WITHOUT MC',\n",
       " 'PERIPHERAL, CRANIAL NERVE AND OTHER NERVOUS SYSTEM PROCEDURES WITHOUT CC/MC',\n",
       " 'OTHER DISORDERS OF NERVOUS SYSTEM WITHOUT CC/MC']"
      ]
     },
     "execution_count": 155,
     "metadata": {},
     "output_type": "execute_result"
    }
   ],
   "source": [
    "des2"
   ]
  },
  {
   "cell_type": "code",
   "execution_count": 156,
   "metadata": {},
   "outputs": [],
   "source": [
    "df[\"Names\"] =des\n",
    "df[\"Descriptions\"] = des2"
   ]
  },
  {
   "cell_type": "code",
   "execution_count": 157,
   "metadata": {},
   "outputs": [
    {
     "data": {
      "text/html": [
       "<div>\n",
       "<style scoped>\n",
       "    .dataframe tbody tr th:only-of-type {\n",
       "        vertical-align: middle;\n",
       "    }\n",
       "\n",
       "    .dataframe tbody tr th {\n",
       "        vertical-align: top;\n",
       "    }\n",
       "\n",
       "    .dataframe thead th {\n",
       "        text-align: right;\n",
       "    }\n",
       "</style>\n",
       "<table border=\"1\" class=\"dataframe\">\n",
       "  <thead>\n",
       "    <tr style=\"text-align: right;\">\n",
       "      <th></th>\n",
       "      <th>Names</th>\n",
       "      <th>Descriptions</th>\n",
       "    </tr>\n",
       "  </thead>\n",
       "  <tbody>\n",
       "    <tr>\n",
       "      <th>0</th>\n",
       "      <td>024</td>\n",
       "      <td>CRANIOTOMY WITH MAJOR DEVICE IMPLANT OR ACUTE ...</td>\n",
       "    </tr>\n",
       "    <tr>\n",
       "      <th>1</th>\n",
       "      <td>042</td>\n",
       "      <td>PERIPHERAL, CRANIAL NERVE AND OTHER NERVOUS SY...</td>\n",
       "    </tr>\n",
       "    <tr>\n",
       "      <th>2</th>\n",
       "      <td>093</td>\n",
       "      <td>OTHER DISORDERS OF NERVOUS SYSTEM WITHOUT CC/MC</td>\n",
       "    </tr>\n",
       "  </tbody>\n",
       "</table>\n",
       "</div>"
      ],
      "text/plain": [
       "  Names                                       Descriptions\n",
       "0   024  CRANIOTOMY WITH MAJOR DEVICE IMPLANT OR ACUTE ...\n",
       "1   042  PERIPHERAL, CRANIAL NERVE AND OTHER NERVOUS SY...\n",
       "2   093    OTHER DISORDERS OF NERVOUS SYSTEM WITHOUT CC/MC"
      ]
     },
     "execution_count": 157,
     "metadata": {},
     "output_type": "execute_result"
    }
   ],
   "source": [
    "df.head()"
   ]
  },
  {
   "cell_type": "code",
   "execution_count": null,
   "metadata": {},
   "outputs": [],
   "source": [
    "#written by\n",
    "#A.R.Khanzada"
   ]
  },
  {
   "cell_type": "code",
   "execution_count": null,
   "metadata": {},
   "outputs": [],
   "source": []
  },
  {
   "cell_type": "code",
   "execution_count": null,
   "metadata": {},
   "outputs": [],
   "source": []
  },
  {
   "cell_type": "code",
   "execution_count": null,
   "metadata": {},
   "outputs": [],
   "source": []
  },
  {
   "cell_type": "code",
   "execution_count": null,
   "metadata": {},
   "outputs": [],
   "source": []
  },
  {
   "cell_type": "code",
   "execution_count": 15,
   "metadata": {
    "execution": {
     "iopub.execute_input": "2021-07-12T20:55:13.256295Z",
     "iopub.status.busy": "2021-07-12T20:55:13.255927Z",
     "iopub.status.idle": "2021-07-12T20:55:13.261907Z",
     "shell.execute_reply": "2021-07-12T20:55:13.260788Z",
     "shell.execute_reply.started": "2021-07-12T20:55:13.256266Z"
    }
   },
   "outputs": [],
   "source": [
    "\n"
   ]
  },
  {
   "cell_type": "code",
   "execution_count": null,
   "metadata": {},
   "outputs": [],
   "source": []
  },
  {
   "cell_type": "code",
   "execution_count": null,
   "metadata": {},
   "outputs": [],
   "source": []
  },
  {
   "cell_type": "code",
   "execution_count": null,
   "metadata": {},
   "outputs": [],
   "source": []
  }
 ],
 "metadata": {
  "kernelspec": {
   "display_name": "Python 3",
   "language": "python",
   "name": "python3"
  },
  "language_info": {
   "codemirror_mode": {
    "name": "ipython",
    "version": 3
   },
   "file_extension": ".py",
   "mimetype": "text/x-python",
   "name": "python",
   "nbconvert_exporter": "python",
   "pygments_lexer": "ipython3",
   "version": "3.7.3"
  }
 },
 "nbformat": 4,
 "nbformat_minor": 4
}
