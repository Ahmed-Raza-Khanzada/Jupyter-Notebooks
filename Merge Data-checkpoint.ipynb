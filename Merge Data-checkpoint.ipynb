{
 "cells": [
  {
   "cell_type": "code",
   "execution_count": 78,
   "metadata": {},
   "outputs": [
    {
     "data": {
      "text/html": [
       "<div>\n",
       "<style scoped>\n",
       "    .dataframe tbody tr th:only-of-type {\n",
       "        vertical-align: middle;\n",
       "    }\n",
       "\n",
       "    .dataframe tbody tr th {\n",
       "        vertical-align: top;\n",
       "    }\n",
       "\n",
       "    .dataframe thead th {\n",
       "        text-align: right;\n",
       "    }\n",
       "</style>\n",
       "<table border=\"1\" class=\"dataframe\">\n",
       "  <thead>\n",
       "    <tr style=\"text-align: right;\">\n",
       "      <th></th>\n",
       "      <th>ID</th>\n",
       "      <th>details</th>\n",
       "      <th>class</th>\n",
       "    </tr>\n",
       "  </thead>\n",
       "  <tbody>\n",
       "    <tr>\n",
       "      <th>1489</th>\n",
       "      <td>تفریح</td>\n",
       "      <td>’’ ابھی تو 25 سال کی ہوں اور ۔ ۔ ۔ ‘‘ اداکارہ ...</td>\n",
       "      <td>Entertaiment</td>\n",
       "    </tr>\n",
       "    <tr>\n",
       "      <th>1490</th>\n",
       "      <td>تفریح</td>\n",
       "      <td>’’ آپ اپنی انڈسٹری بند کردیں، قوم کا نقصان نہ...</td>\n",
       "      <td>Entertaiment</td>\n",
       "    </tr>\n",
       "    <tr>\n",
       "      <th>1491</th>\n",
       "      <td>تفریح</td>\n",
       "      <td>’’ اس ٹی وی چینل کی سرمایہ کاری ہی کالا دھن ہے...</td>\n",
       "      <td>Entertaiment</td>\n",
       "    </tr>\n",
       "    <tr>\n",
       "      <th>1492</th>\n",
       "      <td>تفریح</td>\n",
       "      <td>’’ لوگوں کو لگتا ہے ماڈلنگ بہت زبردست نوکری ہے...</td>\n",
       "      <td>Entertaiment</td>\n",
       "    </tr>\n",
       "    <tr>\n",
       "      <th>1493</th>\n",
       "      <td>تفریح</td>\n",
       "      <td>’’عہد حاضر میں میڈیا کی طاقت کا کو ئی مدمقابل ...</td>\n",
       "      <td>Entertaiment</td>\n",
       "    </tr>\n",
       "  </tbody>\n",
       "</table>\n",
       "</div>"
      ],
      "text/plain": [
       "         ID                                            details         class\n",
       "1489  تفریح  ’’ ابھی تو 25 سال کی ہوں اور ۔ ۔ ۔ ‘‘ اداکارہ ...  Entertaiment\n",
       "1490  تفریح  ’’ آپ اپنی انڈسٹری بند کردیں، قوم کا نقصان نہ...  Entertaiment\n",
       "1491  تفریح  ’’ اس ٹی وی چینل کی سرمایہ کاری ہی کالا دھن ہے...  Entertaiment\n",
       "1492  تفریح  ’’ لوگوں کو لگتا ہے ماڈلنگ بہت زبردست نوکری ہے...  Entertaiment\n",
       "1493  تفریح  ’’عہد حاضر میں میڈیا کی طاقت کا کو ئی مدمقابل ...  Entertaiment"
      ]
     },
     "execution_count": 78,
     "metadata": {},
     "output_type": "execute_result"
    }
   ],
   "source": [
    "import pandas as pd\n",
    "df = pd.read_csv(\"combine1.csv\", sep=',',names = [\"ID\",\"details\", \"class\"])\n",
    "delete = ['Weather','Entertaiment','International','Education','Accident']\n",
    "df2 = df.loc[df['class'].isin(delete)]\n",
    "df2.head()\n",
    "#df.head(10)\n",
    "#df.tail()\n",
    "#df.shape\n",
    "#df['word_count'] = df['details'].apply(lambda x: len(str(x).split(\" \")))\n",
    "#df['char_count'] = df['details'].str.len()\n",
    "#df[['details','class','word_count','char_count']].head()\n"
   ]
  },
  {
   "cell_type": "code",
   "execution_count": 79,
   "metadata": {},
   "outputs": [
    {
     "data": {
      "text/html": [
       "<div>\n",
       "<style scoped>\n",
       "    .dataframe tbody tr th:only-of-type {\n",
       "        vertical-align: middle;\n",
       "    }\n",
       "\n",
       "    .dataframe tbody tr th {\n",
       "        vertical-align: top;\n",
       "    }\n",
       "\n",
       "    .dataframe thead th {\n",
       "        text-align: right;\n",
       "    }\n",
       "</style>\n",
       "<table border=\"1\" class=\"dataframe\">\n",
       "  <thead>\n",
       "    <tr style=\"text-align: right;\">\n",
       "      <th></th>\n",
       "      <th>ID</th>\n",
       "      <th>details</th>\n",
       "      <th>class</th>\n",
       "    </tr>\n",
       "  </thead>\n",
       "  <tbody>\n",
       "    <tr>\n",
       "      <th>1489</th>\n",
       "      <td>تفریح</td>\n",
       "      <td>’’ ابھی تو 25 سال کی ہوں اور ۔ ۔ ۔ ‘‘ اداکارہ ...</td>\n",
       "      <td>Entertaiment</td>\n",
       "    </tr>\n",
       "    <tr>\n",
       "      <th>1490</th>\n",
       "      <td>تفریح</td>\n",
       "      <td>’’ آپ اپنی انڈسٹری بند کردیں، قوم کا نقصان نہ...</td>\n",
       "      <td>Entertaiment</td>\n",
       "    </tr>\n",
       "    <tr>\n",
       "      <th>1491</th>\n",
       "      <td>تفریح</td>\n",
       "      <td>’’ اس ٹی وی چینل کی سرمایہ کاری ہی کالا دھن ہے...</td>\n",
       "      <td>Entertaiment</td>\n",
       "    </tr>\n",
       "    <tr>\n",
       "      <th>1492</th>\n",
       "      <td>تفریح</td>\n",
       "      <td>’’ لوگوں کو لگتا ہے ماڈلنگ بہت زبردست نوکری ہے...</td>\n",
       "      <td>Entertaiment</td>\n",
       "    </tr>\n",
       "    <tr>\n",
       "      <th>1493</th>\n",
       "      <td>تفریح</td>\n",
       "      <td>’’عہد حاضر میں میڈیا کی طاقت کا کو ئی مدمقابل ...</td>\n",
       "      <td>Entertaiment</td>\n",
       "    </tr>\n",
       "  </tbody>\n",
       "</table>\n",
       "</div>"
      ],
      "text/plain": [
       "         ID                                            details         class\n",
       "1489  تفریح  ’’ ابھی تو 25 سال کی ہوں اور ۔ ۔ ۔ ‘‘ اداکارہ ...  Entertaiment\n",
       "1490  تفریح  ’’ آپ اپنی انڈسٹری بند کردیں، قوم کا نقصان نہ...  Entertaiment\n",
       "1491  تفریح  ’’ اس ٹی وی چینل کی سرمایہ کاری ہی کالا دھن ہے...  Entertaiment\n",
       "1492  تفریح  ’’ لوگوں کو لگتا ہے ماڈلنگ بہت زبردست نوکری ہے...  Entertaiment\n",
       "1493  تفریح  ’’عہد حاضر میں میڈیا کی طاقت کا کو ئی مدمقابل ...  Entertaiment"
      ]
     },
     "execution_count": 79,
     "metadata": {},
     "output_type": "execute_result"
    }
   ],
   "source": [
    "df2.head()"
   ]
  },
  {
   "cell_type": "code",
   "execution_count": 80,
   "metadata": {},
   "outputs": [
    {
     "name": "stderr",
     "output_type": "stream",
     "text": [
      "C:\\ProgramData\\Anaconda3\\lib\\site-packages\\ipykernel_launcher.py:2: SettingWithCopyWarning: \n",
      "A value is trying to be set on a copy of a slice from a DataFrame.\n",
      "Try using .loc[row_indexer,col_indexer] = value instead\n",
      "\n",
      "See the caveats in the documentation: http://pandas.pydata.org/pandas-docs/stable/indexing.html#indexing-view-versus-copy\n",
      "  \n"
     ]
    },
    {
     "data": {
      "text/plain": [
       "1489    0\n",
       "1490    0\n",
       "1491    0\n",
       "1492    0\n",
       "1493    0\n",
       "1494    0\n",
       "1495    0\n",
       "1496    0\n",
       "1497    0\n",
       "1498    0\n",
       "Name: category_id, dtype: int32"
      ]
     },
     "execution_count": 80,
     "metadata": {},
     "output_type": "execute_result"
    }
   ],
   "source": [
    "# Associate Category names with numerical index and save it in new column category_id\n",
    "df2['category_id'] = df2['class'].factorize()[0]\n",
    "\n",
    "#View first 10 entries of category_id, as a sanity check\n",
    "df2['category_id'][0:10]"
   ]
  },
  {
   "cell_type": "code",
   "execution_count": 81,
   "metadata": {},
   "outputs": [
    {
     "data": {
      "text/html": [
       "<div>\n",
       "<style scoped>\n",
       "    .dataframe tbody tr th:only-of-type {\n",
       "        vertical-align: middle;\n",
       "    }\n",
       "\n",
       "    .dataframe tbody tr th {\n",
       "        vertical-align: top;\n",
       "    }\n",
       "\n",
       "    .dataframe thead th {\n",
       "        text-align: right;\n",
       "    }\n",
       "</style>\n",
       "<table border=\"1\" class=\"dataframe\">\n",
       "  <thead>\n",
       "    <tr style=\"text-align: right;\">\n",
       "      <th></th>\n",
       "      <th>class</th>\n",
       "      <th>category_id</th>\n",
       "    </tr>\n",
       "  </thead>\n",
       "  <tbody>\n",
       "    <tr>\n",
       "      <th>1489</th>\n",
       "      <td>Entertaiment</td>\n",
       "      <td>0</td>\n",
       "    </tr>\n",
       "    <tr>\n",
       "      <th>4554</th>\n",
       "      <td>International</td>\n",
       "      <td>1</td>\n",
       "    </tr>\n",
       "    <tr>\n",
       "      <th>5179</th>\n",
       "      <td>Weather</td>\n",
       "      <td>2</td>\n",
       "    </tr>\n",
       "    <tr>\n",
       "      <th>6463</th>\n",
       "      <td>Education</td>\n",
       "      <td>3</td>\n",
       "    </tr>\n",
       "    <tr>\n",
       "      <th>7030</th>\n",
       "      <td>Accident</td>\n",
       "      <td>4</td>\n",
       "    </tr>\n",
       "  </tbody>\n",
       "</table>\n",
       "</div>"
      ],
      "text/plain": [
       "              class  category_id\n",
       "1489   Entertaiment            0\n",
       "4554  International            1\n",
       "5179        Weather            2\n",
       "6463      Education            3\n",
       "7030       Accident            4"
      ]
     },
     "execution_count": 81,
     "metadata": {},
     "output_type": "execute_result"
    }
   ],
   "source": [
    "category_id_df = df2[['class', 'category_id']].drop_duplicates().sort_values('category_id')\n",
    "category_id_df"
   ]
  },
  {
   "cell_type": "code",
   "execution_count": 82,
   "metadata": {},
   "outputs": [],
   "source": [
    "category_to_id = dict(category_id_df.values)\n",
    "\n",
    "id_to_category = dict(category_id_df[['category_id','class']].values)"
   ]
  },
  {
   "cell_type": "code",
   "execution_count": 83,
   "metadata": {},
   "outputs": [
    {
     "data": {
      "text/plain": [
       "{0: 'Entertaiment',\n",
       " 1: 'International',\n",
       " 2: 'Weather',\n",
       " 3: 'Education',\n",
       " 4: 'Accident'}"
      ]
     },
     "execution_count": 83,
     "metadata": {},
     "output_type": "execute_result"
    }
   ],
   "source": [
    "id_to_category"
   ]
  },
  {
   "cell_type": "code",
   "execution_count": 86,
   "metadata": {},
   "outputs": [
    {
     "data": {
      "text/plain": [
       "class\n",
       "Accident         1651\n",
       "Education         567\n",
       "Entertaiment      186\n",
       "International     461\n",
       "Weather          1284\n",
       "Name: category_id, dtype: int64"
      ]
     },
     "execution_count": 86,
     "metadata": {},
     "output_type": "execute_result"
    }
   ],
   "source": [
    "df2.groupby('class').category_id.count()"
   ]
  },
  {
   "cell_type": "code",
   "execution_count": 10,
   "metadata": {},
   "outputs": [],
   "source": [
    "#delete = ['Weather','Sports','Education','International','Entertaiment','Accident','کھیل','موسم','حادثات','تفریح','تعلیم','بین الاقوامی']\n",
    "#df2 = df.loc[df['class'].isin(delete)]\n",
    "#df.loc[df['class']]\n",
    "#df.head(10)"
   ]
  },
  {
   "cell_type": "code",
   "execution_count": 88,
   "metadata": {},
   "outputs": [
    {
     "data": {
      "image/png": "[encoded data removed]",
      "text/plain": [
       "<matplotlib.figure.Figure at 0xfb6a5d0>"
      ]
     },
     "metadata": {},
     "output_type": "display_data"
    }
   ],
   "source": [
    "import matplotlib.pyplot as plt\n",
    "fig = plt.figure(figsize=(8,6))\n",
    "df2.groupby('class').details.count().plot.bar(ylim=0)\n",
    "\n",
    "plt.title(\"Total Count\")\n",
    "plt.xlabel('Classes', fontsize=20)\n",
    "plt.ylabel('Total Count', fontsize=20)\n",
    "#plt.show()\n",
    "plt.show()"
   ]
  },
  {
   "cell_type": "code",
   "execution_count": 89,
   "metadata": {},
   "outputs": [
    {
     "data": {
      "text/plain": [
       "[o'c    2909\n",
       "ke      1220\n",
       "none    1007\n",
       "mein     913\n",
       "ki       742\n",
       "dtype: int64"
      ]
     },
     "execution_count": 89,
     "metadata": {},
     "output_type": "execute_result"
    }
   ],
   "source": [
    "freq = pd.Series(' '.join(df2['details']).lower().split()).value_counts()[:5]\n",
    "freq"
   ]
  },
  {
   "cell_type": "code",
   "execution_count": 90,
   "metadata": {},
   "outputs": [
    {
     "data": {
      "text/plain": [
       "موغادیشو       1\n",
       "112            1\n",
       "چھری           1\n",
       "افسوس          1\n",
       "-Sindh-Qazi    1\n",
       "dtype: int64"
      ]
     },
     "execution_count": 90,
     "metadata": {},
     "output_type": "execute_result"
    }
   ],
   "source": [
    "freq1 =  pd.Series(' '.join(df \n",
    "         ['details']).split()).value_counts()[-5:]\n",
    "freq1"
   ]
  },
  {
   "cell_type": "code",
   "execution_count": 16,
   "metadata": {},
   "outputs": [],
   "source": [
    "#df.class."
   ]
  },
  {
   "cell_type": "code",
   "execution_count": 91,
   "metadata": {},
   "outputs": [
    {
     "data": {
      "text/html": [
       "<div>\n",
       "<style scoped>\n",
       "    .dataframe tbody tr th:only-of-type {\n",
       "        vertical-align: middle;\n",
       "    }\n",
       "\n",
       "    .dataframe tbody tr th {\n",
       "        vertical-align: top;\n",
       "    }\n",
       "\n",
       "    .dataframe thead th {\n",
       "        text-align: right;\n",
       "    }\n",
       "</style>\n",
       "<table border=\"1\" class=\"dataframe\">\n",
       "  <thead>\n",
       "    <tr style=\"text-align: right;\">\n",
       "      <th></th>\n",
       "      <th>details</th>\n",
       "      <th>class</th>\n",
       "    </tr>\n",
       "  </thead>\n",
       "  <tbody>\n",
       "    <tr>\n",
       "      <th>8680</th>\n",
       "      <td>ہنگو: بارش سے مکان کی چھت گر گئی</td>\n",
       "      <td>Accident</td>\n",
       "    </tr>\n",
       "    <tr>\n",
       "      <th>7572</th>\n",
       "      <td>Karachi : Hawksbay Sahil Par Soneri Point Ke Q...</td>\n",
       "      <td>Accident</td>\n",
       "    </tr>\n",
       "    <tr>\n",
       "      <th>7573</th>\n",
       "      <td>Karachi : Hoxbai Mein Dubne Wale Ek Shaks Ki L...</td>\n",
       "      <td>Accident</td>\n",
       "    </tr>\n",
       "    <tr>\n",
       "      <th>7574</th>\n",
       "      <td>Karachi : Hoxbay Par Dubne Wale Naujawano Ka M...</td>\n",
       "      <td>Accident</td>\n",
       "    </tr>\n",
       "    <tr>\n",
       "      <th>7575</th>\n",
       "      <td>Karachi : Ibrahim Hyderi Redhi Goth Ke Qareb 3...</td>\n",
       "      <td>Accident</td>\n",
       "    </tr>\n",
       "  </tbody>\n",
       "</table>\n",
       "</div>"
      ],
      "text/plain": [
       "                                                details     class\n",
       "8680                   ہنگو: بارش سے مکان کی چھت گر گئی  Accident\n",
       "7572  Karachi : Hawksbay Sahil Par Soneri Point Ke Q...  Accident\n",
       "7573  Karachi : Hoxbai Mein Dubne Wale Ek Shaks Ki L...  Accident\n",
       "7574  Karachi : Hoxbay Par Dubne Wale Naujawano Ka M...  Accident\n",
       "7575  Karachi : Ibrahim Hyderi Redhi Goth Ke Qareb 3...  Accident"
      ]
     },
     "execution_count": 91,
     "metadata": {},
     "output_type": "execute_result"
    }
   ],
   "source": [
    "category_id_df = df2[['details', 'class']].drop_duplicates().sort_values('class')\n",
    "category_id_df.head()"
   ]
  },
  {
   "cell_type": "code",
   "execution_count": 96,
   "metadata": {},
   "outputs": [],
   "source": [
    "new_stopwords = ('a', \"a's\", 'able', 'about', 'above', 'according', 'accordingly',\n",
    "              'across', 'actually', 'after', 'afterwards', 'again', 'against',\n",
    "              \"ain't\", 'all', 'allow', 'allows', 'almost', 'alone', 'along',\n",
    "              'already', 'also', 'although', 'always', 'am', 'among', 'amongst',\n",
    "              'an', 'and', 'another', 'any', 'anybody', 'anyhow', 'anyone',\n",
    "              'anything', 'anyway', 'anyways', 'anywhere', 'apart', 'appear',\n",
    "              'appreciate', 'appropriate', 'are', \"aren't\", 'around', 'as',\n",
    "              'aside', 'ask', 'asking', 'associated', 'at', 'available', 'away',\n",
    "              'awfully', 'b', 'be', 'became', 'because', 'become', 'becomes',\n",
    "              'becoming', 'been', 'before', 'beforehand', 'behind', 'being',\n",
    "              'believe', 'below', 'beside', 'besides', 'best', 'better',\n",
    "              'between', 'beyond', 'both', 'brief', 'but', 'by', 'c', \"c'mon\",\n",
    "              \"c's\", 'came', 'can', \"can't\", 'cannot', 'cant', 'cause',\n",
    "              'causes', 'certain', 'certainly', 'changes', 'clearly', 'co',\n",
    "              'com', 'come', 'comes', 'concerning', 'consequently', 'consider',\n",
    "              'considering', 'contain', 'containing', 'contains',\n",
    "              'corresponding', 'could', \"couldn't\", 'course', 'currently', 'd',\n",
    "              'definitely', 'described', 'despite', 'did', \"didn't\",\n",
    "              'different', 'do', 'does', \"doesn't\", 'doing', \"don't\", 'done',\n",
    "              'down', 'downwards', 'during', 'e', 'each', 'edu', 'eg', 'eight',\n",
    "              'either', 'else', 'elsewhere', 'enough', 'entirely', 'especially',\n",
    "              'et', 'etc', 'even', 'ever', 'every', 'everybody', 'everyone',\n",
    "              'everything', 'everywhere', 'ex', 'exactly', 'example', 'except',\n",
    "              'f', 'far', 'few', 'fifth', 'first', 'five', 'followed',\n",
    "              'following', 'follows', 'for', 'former', 'formerly', 'forth',\n",
    "              'four', 'from', 'further', 'furthermore', 'g', 'get', 'gets',\n",
    "              'getting', 'given', 'gives', 'go', 'goes', 'going', 'gone', 'got',\n",
    "              'gotten', 'greetings', 'h', 'had', \"hadn't\", 'happens', 'hardly',\n",
    "              'has', \"hasn't\", 'have', \"haven't\", 'having', 'he', \"he's\",\n",
    "              'hello', 'help', 'hence', 'her', 'here', \"here's\", 'hereafter',\n",
    "              'hereby', 'herein', 'hereupon', 'hers', 'herself', 'hi', 'him',\n",
    "              'himself', 'his', 'hither', 'hopefully', 'how', 'howbeit',\n",
    "              'however', 'i', \"i'd\", \"i'll\", \"i'm\", \"i've\", 'ie', 'if',\n",
    "              'ignored', 'immediate', 'in', 'inasmuch', 'inc', 'indeed',\n",
    "              'indicate', 'indicated', 'indicates', 'inner', 'insofar',\n",
    "              'instead', 'into', 'inward', 'is', \"isn't\", 'it', \"it'd\", \"it'll\",\n",
    "              \"it's\", 'its', 'itself', 'j', 'just', 'k', 'keep', 'keeps',\n",
    "              'kept', 'know', 'knows', 'known', 'l', 'last', 'lately', 'later',\n",
    "              'latter', 'latterly', 'least', 'less', 'lest', 'let', \"let's\",\n",
    "              'like', 'liked', 'likely', 'little', 'look', 'looking', 'looks',\n",
    "              'ltd', 'm', 'mainly', 'many', 'may', 'maybe', 'me', 'mean',\n",
    "              'meanwhile', 'merely', 'might', 'more', 'moreover', 'most',\n",
    "              'mostly', 'much', 'must', 'my', 'myself', 'n', 'name', 'namely',\n",
    "              'nd', 'near', 'nearly', 'necessary', 'need', 'needs', 'neither',\n",
    "              'never', 'nevertheless', 'new', 'next', 'nine', 'no', 'nobody',\n",
    "              'non', 'none', 'noone', 'nor', 'normally', 'not', 'nothing',\n",
    "              'novel', 'now', 'nowhere', 'o', 'obviously', 'of', 'off', 'often',\n",
    "              'oh', 'ok', 'okay', 'old', 'on', 'once', 'one', 'ones', 'only',\n",
    "              'onto', 'or', 'other', 'others', 'otherwise', 'ought', 'our',\n",
    "              'ours', 'ourselves', 'out', 'outside', 'over', 'overall', 'own',\n",
    "              'p', 'particular', 'particularly', 'per', 'perhaps', 'placed',\n",
    "              'please', 'plus', 'possible', 'presumably', 'probably',\n",
    "              'provides', 'q', 'que', 'quite', 'qv', 'r', 'rather', 'rd', 're',\n",
    "              'really', 'reasonably', 'regarding', 'regardless', 'regards',\n",
    "              'relatively', 'respectively', 'right', 's', 'said', 'same', 'saw',\n",
    "              'say', 'saying', 'says', 'second', 'secondly', 'see', 'seeing',\n",
    "              'seem', 'seemed', 'seeming', 'seems', 'seen', 'self', 'selves',\n",
    "              'sensible', 'sent', 'serious', 'seriously', 'seven', 'several',\n",
    "              'shall', 'she', 'should', \"shouldn't\", 'since', 'six', 'so',\n",
    "              'some', 'somebody', 'somehow', 'someone', 'something', 'sometime',\n",
    "              'sometimes', 'somewhat', 'somewhere', 'soon', 'sorry',\n",
    "              'specified', 'specify', 'specifying', 'still', 'sub', 'such',\n",
    "              'sup', 'sure', 't', \"t's\", 'take', 'taken', 'tell', 'tends', 'th',\n",
    "              'than', 'thank', 'thanks', 'thanx', 'that', \"that's\", 'thats',\n",
    "              'the', 'their', 'theirs', 'them', 'themselves', 'then', 'thence',\n",
    "              'there', \"there's\", 'thereafter', 'thereby', 'therefore',\n",
    "              'therein', 'theres', 'thereupon', 'these', 'they', \"they'd\",\n",
    "              \"they'll\", \"they're\", \"they've\", 'think', 'third', 'this',\n",
    "              'thorough', 'thoroughly', 'those', 'though', 'three', 'through',\n",
    "              'throughout', 'thru', 'thus', 'to', 'together', 'too', 'took',\n",
    "              'toward', 'towards', 'tried', 'tries', 'truly', 'try', 'trying',\n",
    "              'twice', 'two', 'u', 'un', 'under', 'unfortunately', 'unless',\n",
    "              'unlikely', 'until', 'unto', 'up', 'upon', 'us', 'use', 'used',\n",
    "              'useful', 'uses', 'using', 'usually', 'uucp', 'v', 'value',\n",
    "              'various', 'very', 'via', 'viz', 'vs', 'w', 'want', 'wants',\n",
    "              'was', \"wasn't\", 'way', 'we', \"we'd\", \"we'll\", \"we're\", \"we've\",\n",
    "              'welcome', 'well', 'went', 'were', \"weren't\", 'what', \"what's\",\n",
    "              'whatever', 'when', 'whence', 'whenever', 'where', \"where's\",\n",
    "              'whereafter', 'whereas', 'whereby', 'wherein', 'whereupon',\n",
    "              'wherever', 'whether', 'which', 'while', 'whither', 'who',\n",
    "              \"who's\", 'whoever', 'whole', 'whom', 'whose', 'why', 'will',\n",
    "              'willing', 'wish', 'with', 'within', 'without', \"won't\", 'wonder',\n",
    "              'would', 'would', \"wouldn't\", 'x', 'y', 'yes', 'yet', 'you',\n",
    "              \"you'd\", \"you'll\", \"you're\", \"you've\", 'your', 'yours',\n",
    "              'yourself', 'yourselves', 'z', 'zero', '')\n",
    "\n",
    "sw = (\"kia\",\"ho\",\"rahy\",\"o'c\",\"_\",\"mai\",\"gaya\",\"ga\",\"kis\",\"mere\",\"tum\",\"nai\",\"tha\",\"muje\",\"kha\",\"dil\",\"dard\",\"pata\",\"nain\",\"ai\",\"aye\",\"aj\",\"ajj\",\"akhir\",\"akhirkab\",\"kab\",\"tuc\",\"adhi\",\"ab\",\"uth\",\"aib\",\"aha\",\"akirat\",\"iktitam\",\"idhar\",\"irdh\",\"girdh\",\"irdhgirdh\",\"iss\",\"iski\",\"aitraf\",\"ghaib\",\"afrat\",\"alag\",\"aur\",\"ajeb\",\"achi\",\"buri\",\"achay\",\"aksar\",\"ikhati\",\"aikala\",\"akali\",\"agarchy\",\"aik\",\"tarbiyat\",\"tadat\",\"tuhi\",\"thora\",\"thori\"\n",
    ")\n",
    "sw1= (\"آ\", \"آئی\", \"آئیں\", \"آئے\", \"آتا\", \"آتی\", \"آتے\", \"آخری\", \"آس\", \"آنا\", \"آنی\", \"آنے\", \"آپ\", \"آگے\", \"آیا\", \"ابھی\", \"اجنبی\", \"از\", \"اس\", \"استعمال\", \"اسی\", \"اسے\", \"البتہ\", \"الف\", \"ان\", \"اندر\", \"انہوں\", \"انہی\", \"انہیں\", \"اور\", \"اوپر\", \"اپ\", \"اپنا\", \"اپنی\", \"اپنے\", \"اکثر\", \"اگر\", \"اگرچہ\", \"اگلے\", \"ایسا\", \"ایسی\", \"ایسے\", \"ایک\", \"اے\", \"بار\", \"بارے\", \"باوجود\", \"باہر\", \"بظاہر\", \"بعد\", \"بعض\", \"بغیر\", \"بلکہ\", \"بن\", \"بنا\", \"بناؤ\", \"بند\", \"بننا\", \"بھر\", \"بھریں\", \"بھی\", \"بہت\", \"بیس\", \"بے\", \"تا\", \"تاکہ\", \"تب\", \"تجھ\", \"تجھے\", \"تحت\", \"تر\", \"تم\", \"تمام\", \"تمہارا\", \"تمہاری\", \"تمہارے\", \"تمہیں\", \"تو\", \"تک\", \"تھا\", \"تھی\", \"تھیں\", \"تھے\", \"تیری\", \"جا\", \"جاؤ\", \"جائیں\", \"جائے\", \"جاتا\", \"جاتی\", \"جاتے\", \"جانی\", \"جانے\", \"جب\", \"جبکہ\", \"جس\", \"جن\", \"جنہوں\", \"جنہیں\", \"جو\", \"جگہ\", \"جہاں\", \"جیسا\", \"جیسوں\", \"جیسی\", \"جیسے\", \"حاصل\", \"حالانکہ\", \"حالاں\", \"حصہ\", \"خالی\", \"ختم\", \"خلاف\", \"خود\", \"درمیان\", \"دسترس\", \"دلچسپی\", \"دو\", \"دوبارہ\", \"دوران\", \"دوسرا\", \"دوسروں\", \"دوسری\", \"دوسرے\", \"دونوں\", \"دوں\", \"دکھائیں\", \"دی\", \"دیئے\", \"دیا\", \"دیتا\", \"دیتی\", \"دیتے\", \"دیر\", \"دینا\", \"دینی\", \"دینے\", \"دیکھو\", \"دیں\", \"دیے\", \"دے\", \"ذریعے\", \"رکھا\", \"رکھتا\", \"رکھتی\", \"رکھتے\", \"رکھنا\", \"رکھنی\", \"رکھنے\", \"رکھو\", \"رکھی\", \"رکھے\", \"رہ\", \"رہا\", \"رہتا\", \"رہتی\", \"رہتے\", \"رہنا\", \"رہنی\", \"رہنے\", \"رہو\", \"رہی\", \"رہیں\", \"رہے\", \"زیادہ\", \"سا\", \"ساتھ\", \"سامنے\", \"سب\", \"سو\", \"سکا\", \"سکتا\", \"سکتے\", \"سی\", \"سے\", \"شان\", \"شاید\", \"صرف\", \"صورت\", \"ضرورت\", \"ضروری\", \"طرح\", \"طرف\", \"طور\", \"علاوہ\", \"عین\", \"غیر\", \"لئے\", \"لا\", \"لائی\", \"لائے\", \"لاتا\", \"لاتی\", \"لاتے\", \"لانا\", \"لانی\", \"لانے\", \"لایا\", \"لو\", \"لگ\", \"لگا\", \"لگتا\", \"لگی\", \"لگیں\", \"لگے\", \"لہذا\", \"لی\", \"لیا\", \"لیتا\", \"لیتی\", \"لیتے\", \"لیکن\", \"لیں\", \"لیے\", \"لے\", \"مجھ\", \"مجھے\", \"مزید\", \"مقابلے\", \"مل\", \"مکمل\", \"مگر\", \"میرا\", \"میری\", \"میرے\", \"میں\", \"نا\", \"نہ\", \"نہیں\", \"نیچے\", \"نے\", \"واقعی\", \"والا\", \"والوں\", \"والی\", \"والے\", \"وجہ\", \"وغیرہ\", \"وہ\", \"وہاں\", \"وہی\", \"وہیں\", \"وی\", \"ویسے\", \"پاس\", \"پایا\", \"پر\", \"پوری\", \"پھر\", \"پہلا\", \"پہلے\", \"پیچھے\", \"چاہئے\", \"چاہتے\", \"چاہیئے\", \"چاہے\", \"چونکہ\", \"چکی\", \"ڈالا\", \"ڈالنا\", \"ڈالنی\", \"ڈالنے\", \"ڈالی\", \"ڈالیں\", \"ڈالے\", \"کئے\", \"کا\", \"کافی\", \"کب\", \"کبھی\", \"کر\", \"کرتا\", \"کرتی\", \"کرتے\", \"کرنا\", \"کرنے\", \"کرو\", \"کریں\", \"کرے\", \"کس\", \"کسی\", \"کسے\", \"کم\", \"کو\", \"کوئی\", \"کون\", \"کونسا\", \"کچھ\", \"کہ\", \"کہا\", \"کہاں\", \"کہہ\", \"کہیں\", \"کہے\", \"کی\", \"کیا\", \"کیسے\", \"کیونکہ\", \"کیوں\", \"کیے\", \"کے\", \"گئی\", \"گئے\", \"گا\", \"گویا\", \"گی\", \"گیا\", \"گے\", \"ہاں\", \"ہر\", \"ہم\", \"ہمارا\", \"ہماری\", \"ہمارے\", \"ہمیشہ\", \"ہو\", \"ہوئی\", \"ہوئیں\", \"ہوئے\", \"ہوا\", \"ہوتا\", \"ہوتی\", \"ہوتیں\", \"ہوتے\", \"ہونا\", \"ہونگے\", \"ہونی\", \"ہونے\", \"ہوں\", \"ہی\", \"ہیں\", \"ہے\", \"یا\", \"یات\", \"یعنی\", \"یقینا\", \"یہ\", \"یہاں\", \"یہی\", \"یہیں\")\n",
    "punctuation = ('!','#','$','%','&','(',')','*','+','-','/','.',':',';','}','{',']','[','=','`','~','<','>','\"','|','_',';')\n",
    "\n",
    "preprocessing=new_stopwords + sw + sw1 + punctuation"
   ]
  },
  {
   "cell_type": "code",
   "execution_count": 99,
   "metadata": {},
   "outputs": [
    {
     "name": "stdout",
     "output_type": "stream",
     "text": [
      "[[0. 0. 0. ... 0. 0. 0.]\n",
      " [0. 0. 0. ... 0. 0. 0.]\n",
      " [0. 0. 0. ... 0. 0. 0.]\n",
      " ...\n",
      " [0. 0. 0. ... 0. 0. 0.]\n",
      " [0. 0. 0. ... 0. 0. 0.]\n",
      " [0. 0. 0. ... 0. 0. 0.]]\n"
     ]
    }
   ],
   "source": [
    "from sklearn.model_selection import train_test_split\n",
    "#sw = [\"kia\",\"ho\",\"rahy\",\"o'c\",\"_\",\"mai\",\"gaya\",\"ga\",\"kis\",\"mere\",\"tum\",\"nai\",\"tha\",\"muje\",\"kha\",\"dil\",\"dard\",\"pata\",\"nain\"]\n",
    "from sklearn.feature_extraction.text import TfidfVectorizer\n",
    "X_train, X_test, y_train, y_test = train_test_split(df2['details'], df2['class'],test_size=0.3,random_state = 0)\n",
    "tfidf = TfidfVectorizer(sublinear_tf=True, use_idf=True ,smooth_idf=False, min_df=3, norm='l2', encoding='utf-8', ngram_range=(1, 3), stop_words=preprocessing,max_features=1000)\n",
    "\n",
    "#features = tfidf.fit_transform(X_train).toarray()\n",
    "#features = tfidf.fit_transform(df2.Descrption)\n",
    "#features = np.array(features, dtype=object) \n",
    "#features = tfidf.fit_transform(df2.Descrption).toarray()\n",
    "features = tfidf.fit_transform(X_train).toarray()\n",
    "#features=tfidf.fit_transform(X_train)\n",
    "labels = y_train\n",
    "#labels = df2.category_id\n",
    "#X_train.toarray()\n",
    "#print(features)\n",
    "#print(y_train)\n",
    "print(features)"
   ]
  },
  {
   "cell_type": "code",
   "execution_count": null,
   "metadata": {},
   "outputs": [],
   "source": []
  },
  {
   "cell_type": "code",
   "execution_count": 100,
   "metadata": {},
   "outputs": [],
   "source": [
    "from sklearn.model_selection import ShuffleSplit\n",
    "#from imblearn.over_sampling import SMOTE\n",
    "from sklearn.feature_extraction.text import CountVectorizer\n",
    "from sklearn.naive_bayes import MultinomialNB\n",
    "from sklearn.feature_extraction.text import TfidfTransformer\n",
    "from sklearn.svm import LinearSVC\n",
    "count_vect = CountVectorizer()\n",
    "X_train_counts = count_vect.fit_transform(X_train)\n",
    "tfidf_transformer = TfidfTransformer()\n",
    "X_train_tfidf = tfidf_transformer.fit_transform(X_train_counts)\n",
    "\n",
    "#clf = MultinomialNB().fit(X_train_tfidf, y_train)\n",
    "#clf = LogisticRegression().fit(X_train_tfidf, y_train)\n",
    "clf = LinearSVC().fit(X_train_tfidf, y_train)"
   ]
  },
  {
   "cell_type": "code",
   "execution_count": 101,
   "metadata": {},
   "outputs": [
    {
     "name": "stdout",
     "output_type": "stream",
     "text": [
      "['International']\n",
      "['International']\n",
      "['Entertaiment']\n"
     ]
    }
   ],
   "source": [
    "#print(clf.predict(count_vect.transform([\"Darja Hararat 44 Degree Tak Janay Ka Imkaan\"])))\n",
    "#print(clf.predict(count_vect.transform([\"Aj afridi nai 50 run score kiye\"])))\n",
    "#print(clf.predict(count_vect.transform([\"Karachi mai zor dar dhamaka\"])))\n",
    "#print(clf.predict(count_vect.transform([\"Karachi mai aj Taiz Hawaon chalin\"])))\n",
    "#print(clf.predict(count_vect.transform([\"Karachi mai hadsa 3 log mar gaye\"])))\n",
    "### URDU\n",
    "\n",
    "print(clf.predict(count_vect.transform([\"تحریک انصاف کا وفد چین روانہ، کس کس کو ساتھ لے گئے ؟ میرٹ کی دھجیاں اڑ گئیں\"])))\n",
    "print(clf.predict(count_vect.transform([\"پشاور فٹ بال لیگ میںصوابی رائل نے کوارٹر فائنل مراحل کیلئے کوالیفائی کرلی\"])))\n",
    "print(clf.predict(count_vect.transform([\"ماضی کی معروف اداکارہ روحی بانو کے لاپتہ ہونے کی اطلاعات لیکن دراصل وہ کہاں او\"])))\n",
    "#print(clf.predict(count_vect.transform([\"Karachi mai aj Taiz Hawaon chalin\"])))\n",
    "#print(clf.predict(count_vect.transform([\"Karachi mai hadsa 3 log mar gaye\"])))\n"
   ]
  },
  {
   "cell_type": "code",
   "execution_count": 102,
   "metadata": {},
   "outputs": [
    {
     "name": "stdout",
     "output_type": "stream",
     "text": [
      "(2904, 1000) (2904,)\n"
     ]
    }
   ],
   "source": [
    "print(features.shape,labels.shape)"
   ]
  },
  {
   "cell_type": "code",
   "execution_count": 103,
   "metadata": {},
   "outputs": [
    {
     "data": {
      "text/plain": [
       "(2904, 1000)"
      ]
     },
     "execution_count": 103,
     "metadata": {},
     "output_type": "execute_result"
    }
   ],
   "source": [
    "features.shape"
   ]
  },
  {
   "cell_type": "code",
   "execution_count": 104,
   "metadata": {},
   "outputs": [
    {
     "data": {
      "text/plain": [
       "dict_items([('Entertaiment', 0), ('International', 1), ('Weather', 2), ('Education', 3), ('Accident', 4)])"
      ]
     },
     "execution_count": 104,
     "metadata": {},
     "output_type": "execute_result"
    }
   ],
   "source": [
    "category_to_id.items()"
   ]
  },
  {
   "cell_type": "code",
   "execution_count": 105,
   "metadata": {},
   "outputs": [
    {
     "data": {
      "text/plain": [
       "[('Accident', 4),\n",
       " ('Education', 3),\n",
       " ('Entertaiment', 0),\n",
       " ('International', 1),\n",
       " ('Weather', 2)]"
      ]
     },
     "execution_count": 105,
     "metadata": {},
     "output_type": "execute_result"
    }
   ],
   "source": [
    "sorted(category_to_id.items())"
   ]
  },
  {
   "cell_type": "code",
   "execution_count": 106,
   "metadata": {},
   "outputs": [
    {
     "name": "stdout",
     "output_type": "stream",
     "text": [
      "[[0. 0. 0. ... 0. 0. 0.]\n",
      " [0. 0. 0. ... 0. 0. 0.]\n",
      " [0. 0. 0. ... 0. 0. 0.]\n",
      " ...\n",
      " [0. 0. 0. ... 0. 0. 0.]\n",
      " [0. 0. 0. ... 0. 0. 0.]\n",
      " [0. 0. 0. ... 0. 0. 0.]]\n",
      "# 'Accident':\n",
      "  . Most correlated unigrams:\n",
      "       . karachi\n",
      "       . kaan\n",
      "       . یونیورسٹی\n",
      "  . Most correlated bigrams:\n",
      "       . karachi ke\n",
      "       . karachi main\n",
      "       . karachi mein\n",
      "# 'Education':\n",
      "  . Most correlated unigrams:\n",
      "       . karachi\n",
      "       . kaan\n",
      "       . یونیورسٹی\n",
      "  . Most correlated bigrams:\n",
      "       . karachi ke\n",
      "       . karachi main\n",
      "       . karachi mein\n",
      "# 'Entertaiment':\n",
      "  . Most correlated unigrams:\n",
      "       . karachi\n",
      "       . kaan\n",
      "       . یونیورسٹی\n",
      "  . Most correlated bigrams:\n",
      "       . karachi ke\n",
      "       . karachi main\n",
      "       . karachi mein\n",
      "# 'International':\n",
      "  . Most correlated unigrams:\n",
      "       . karachi\n",
      "       . kaan\n",
      "       . یونیورسٹی\n",
      "  . Most correlated bigrams:\n",
      "       . karachi ke\n",
      "       . karachi main\n",
      "       . karachi mein\n",
      "# 'Weather':\n",
      "  . Most correlated unigrams:\n",
      "       . karachi\n",
      "       . kaan\n",
      "       . یونیورسٹی\n",
      "  . Most correlated bigrams:\n",
      "       . karachi ke\n",
      "       . karachi main\n",
      "       . karachi mein\n"
     ]
    }
   ],
   "source": [
    "# Use chi-square analysis to find corelation between features (importantce of words) and labels(news category) \n",
    "from sklearn.feature_selection import chi2\n",
    "import numpy as np\n",
    "N = 3  # We are going to look for top 3 categories\n",
    "print(features)\n",
    "#For each category, find words that are highly corelated to it\n",
    "for Category, category_id in sorted(category_to_id.items()):\n",
    "  features_chi2 = chi2(features, labels == category_id)                   # Do chi2 analyses of all items in this category\n",
    "  indices = np.argsort(features_chi2[0])                                  # Sorts the indices of features_chi2[0] - the chi-squared stats of each feature\n",
    "  feature_names = np.array(tfidf.get_feature_names())[indices]            # Converts indices to feature names ( in increasing order of chi-squared stat values)\n",
    "  unigrams = [v for v in feature_names if len(v.split(' ')) == 1]         # List of single word features ( in increasing order of chi-squared stat values)\n",
    "  bigrams = [v for v in feature_names if len(v.split(' ')) == 2]          # List for two-word features ( in increasing order of chi-squared stat values)\n",
    "    \n",
    "  print(\"# '{}':\".format(Category))\n",
    "  print(\"  . Most correlated unigrams:\\n       . {}\".format('\\n       . '.join(unigrams[-N:]))) # Print 3 unigrams with highest Chi squared stat\n",
    "  print(\"  . Most correlated bigrams:\\n       . {}\".format('\\n       . '.join(bigrams[-N:]))) # Print 3 bigrams with highest Chi squared stat  "
   ]
  },
  {
   "cell_type": "code",
   "execution_count": 107,
   "metadata": {},
   "outputs": [
    {
     "data": {
      "text/plain": [
       "(array([nan, nan, nan, nan, nan, nan, nan, nan, nan, nan, nan, nan, nan,\n",
       "        nan, nan, nan, nan, nan, nan, nan, nan, nan, nan, nan, nan, nan,\n",
       "        nan, nan, nan, nan, nan, nan, nan, nan, nan, nan, nan, nan, nan,\n",
       "        nan, nan, nan, nan, nan, nan, nan, nan, nan, nan, nan, nan, nan,\n",
       "        nan, nan, nan, nan, nan, nan, nan, nan, nan, nan, nan, nan, nan,\n",
       "        nan, nan, nan, nan, nan, nan, nan, nan, nan, nan, nan, nan, nan,\n",
       "        nan, nan, nan, nan, nan, nan, nan, nan, nan, nan, nan, nan, nan,\n",
       "        nan, nan, nan, nan, nan, nan, nan, nan, nan, nan, nan, nan, nan,\n",
       "        nan, nan, nan, nan, nan, nan, nan, nan, nan, nan, nan, nan, nan,\n",
       "        nan, nan, nan, nan, nan, nan, nan, nan, nan, nan, nan, nan, nan,\n",
       "        nan, nan, nan, nan, nan, nan, nan, nan, nan, nan, nan, nan, nan,\n",
       "        nan, nan, nan, nan, nan, nan, nan, nan, nan, nan, nan, nan, nan,\n",
       "        nan, nan, nan, nan, nan, nan, nan, nan, nan, nan, nan, nan, nan,\n",
       "        nan, nan, nan, nan, nan, nan, nan, nan, nan, nan, nan, nan, nan,\n",
       "        nan, nan, nan, nan, nan, nan, nan, nan, nan, nan, nan, nan, nan,\n",
       "        nan, nan, nan, nan, nan, nan, nan, nan, nan, nan, nan, nan, nan,\n",
       "        nan, nan, nan, nan, nan, nan, nan, nan, nan, nan, nan, nan, nan,\n",
       "        nan, nan, nan, nan, nan, nan, nan, nan, nan, nan, nan, nan, nan,\n",
       "        nan, nan, nan, nan, nan, nan, nan, nan, nan, nan, nan, nan, nan,\n",
       "        nan, nan, nan, nan, nan, nan, nan, nan, nan, nan, nan, nan, nan,\n",
       "        nan, nan, nan, nan, nan, nan, nan, nan, nan, nan, nan, nan, nan,\n",
       "        nan, nan, nan, nan, nan, nan, nan, nan, nan, nan, nan, nan, nan,\n",
       "        nan, nan, nan, nan, nan, nan, nan, nan, nan, nan, nan, nan, nan,\n",
       "        nan, nan, nan, nan, nan, nan, nan, nan, nan, nan, nan, nan, nan,\n",
       "        nan, nan, nan, nan, nan, nan, nan, nan, nan, nan, nan, nan, nan,\n",
       "        nan, nan, nan, nan, nan, nan, nan, nan, nan, nan, nan, nan, nan,\n",
       "        nan, nan, nan, nan, nan, nan, nan, nan, nan, nan, nan, nan, nan,\n",
       "        nan, nan, nan, nan, nan, nan, nan, nan, nan, nan, nan, nan, nan,\n",
       "        nan, nan, nan, nan, nan, nan, nan, nan, nan, nan, nan, nan, nan,\n",
       "        nan, nan, nan, nan, nan, nan, nan, nan, nan, nan, nan, nan, nan,\n",
       "        nan, nan, nan, nan, nan, nan, nan, nan, nan, nan, nan, nan, nan,\n",
       "        nan, nan, nan, nan, nan, nan, nan, nan, nan, nan, nan, nan, nan,\n",
       "        nan, nan, nan, nan, nan, nan, nan, nan, nan, nan, nan, nan, nan,\n",
       "        nan, nan, nan, nan, nan, nan, nan, nan, nan, nan, nan, nan, nan,\n",
       "        nan, nan, nan, nan, nan, nan, nan, nan, nan, nan, nan, nan, nan,\n",
       "        nan, nan, nan, nan, nan, nan, nan, nan, nan, nan, nan, nan, nan,\n",
       "        nan, nan, nan, nan, nan, nan, nan, nan, nan, nan, nan, nan, nan,\n",
       "        nan, nan, nan, nan, nan, nan, nan, nan, nan, nan, nan, nan, nan,\n",
       "        nan, nan, nan, nan, nan, nan, nan, nan, nan, nan, nan, nan, nan,\n",
       "        nan, nan, nan, nan, nan, nan, nan, nan, nan, nan, nan, nan, nan,\n",
       "        nan, nan, nan, nan, nan, nan, nan, nan, nan, nan, nan, nan, nan,\n",
       "        nan, nan, nan, nan, nan, nan, nan, nan, nan, nan, nan, nan, nan,\n",
       "        nan, nan, nan, nan, nan, nan, nan, nan, nan, nan, nan, nan, nan,\n",
       "        nan, nan, nan, nan, nan, nan, nan, nan, nan, nan, nan, nan, nan,\n",
       "        nan, nan, nan, nan, nan, nan, nan, nan, nan, nan, nan, nan, nan,\n",
       "        nan, nan, nan, nan, nan, nan, nan, nan, nan, nan, nan, nan, nan,\n",
       "        nan, nan, nan, nan, nan, nan, nan, nan, nan, nan, nan, nan, nan,\n",
       "        nan, nan, nan, nan, nan, nan, nan, nan, nan, nan, nan, nan, nan,\n",
       "        nan, nan, nan, nan, nan, nan, nan, nan, nan, nan, nan, nan, nan,\n",
       "        nan, nan, nan, nan, nan, nan, nan, nan, nan, nan, nan, nan, nan,\n",
       "        nan, nan, nan, nan, nan, nan, nan, nan, nan, nan, nan, nan, nan,\n",
       "        nan, nan, nan, nan, nan, nan, nan, nan, nan, nan, nan, nan, nan,\n",
       "        nan, nan, nan, nan, nan, nan, nan, nan, nan, nan, nan, nan, nan,\n",
       "        nan, nan, nan, nan, nan, nan, nan, nan, nan, nan, nan, nan, nan,\n",
       "        nan, nan, nan, nan, nan, nan, nan, nan, nan, nan, nan, nan, nan,\n",
       "        nan, nan, nan, nan, nan, nan, nan, nan, nan, nan, nan, nan, nan,\n",
       "        nan, nan, nan, nan, nan, nan, nan, nan, nan, nan, nan, nan, nan,\n",
       "        nan, nan, nan, nan, nan, nan, nan, nan, nan, nan, nan, nan, nan,\n",
       "        nan, nan, nan, nan, nan, nan, nan, nan, nan, nan, nan, nan, nan,\n",
       "        nan, nan, nan, nan, nan, nan, nan, nan, nan, nan, nan, nan, nan,\n",
       "        nan, nan, nan, nan, nan, nan, nan, nan, nan, nan, nan, nan, nan,\n",
       "        nan, nan, nan, nan, nan, nan, nan, nan, nan, nan, nan, nan, nan,\n",
       "        nan, nan, nan, nan, nan, nan, nan, nan, nan, nan, nan, nan, nan,\n",
       "        nan, nan, nan, nan, nan, nan, nan, nan, nan, nan, nan, nan, nan,\n",
       "        nan, nan, nan, nan, nan, nan, nan, nan, nan, nan, nan, nan, nan,\n",
       "        nan, nan, nan, nan, nan, nan, nan, nan, nan, nan, nan, nan, nan,\n",
       "        nan, nan, nan, nan, nan, nan, nan, nan, nan, nan, nan, nan, nan,\n",
       "        nan, nan, nan, nan, nan, nan, nan, nan, nan, nan, nan, nan, nan,\n",
       "        nan, nan, nan, nan, nan, nan, nan, nan, nan, nan, nan, nan, nan,\n",
       "        nan, nan, nan, nan, nan, nan, nan, nan, nan, nan, nan, nan, nan,\n",
       "        nan, nan, nan, nan, nan, nan, nan, nan, nan, nan, nan, nan, nan,\n",
       "        nan, nan, nan, nan, nan, nan, nan, nan, nan, nan, nan, nan, nan,\n",
       "        nan, nan, nan, nan, nan, nan, nan, nan, nan, nan, nan, nan, nan,\n",
       "        nan, nan, nan, nan, nan, nan, nan, nan, nan, nan, nan, nan, nan,\n",
       "        nan, nan, nan, nan, nan, nan, nan, nan, nan, nan, nan, nan, nan,\n",
       "        nan, nan, nan, nan, nan, nan, nan, nan, nan, nan, nan, nan, nan,\n",
       "        nan, nan, nan, nan, nan, nan, nan, nan, nan, nan, nan, nan]),\n",
       " array([nan, nan, nan, nan, nan, nan, nan, nan, nan, nan, nan, nan, nan,\n",
       "        nan, nan, nan, nan, nan, nan, nan, nan, nan, nan, nan, nan, nan,\n",
       "        nan, nan, nan, nan, nan, nan, nan, nan, nan, nan, nan, nan, nan,\n",
       "        nan, nan, nan, nan, nan, nan, nan, nan, nan, nan, nan, nan, nan,\n",
       "        nan, nan, nan, nan, nan, nan, nan, nan, nan, nan, nan, nan, nan,\n",
       "        nan, nan, nan, nan, nan, nan, nan, nan, nan, nan, nan, nan, nan,\n",
       "        nan, nan, nan, nan, nan, nan, nan, nan, nan, nan, nan, nan, nan,\n",
       "        nan, nan, nan, nan, nan, nan, nan, nan, nan, nan, nan, nan, nan,\n",
       "        nan, nan, nan, nan, nan, nan, nan, nan, nan, nan, nan, nan, nan,\n",
       "        nan, nan, nan, nan, nan, nan, nan, nan, nan, nan, nan, nan, nan,\n",
       "        nan, nan, nan, nan, nan, nan, nan, nan, nan, nan, nan, nan, nan,\n",
       "        nan, nan, nan, nan, nan, nan, nan, nan, nan, nan, nan, nan, nan,\n",
       "        nan, nan, nan, nan, nan, nan, nan, nan, nan, nan, nan, nan, nan,\n",
       "        nan, nan, nan, nan, nan, nan, nan, nan, nan, nan, nan, nan, nan,\n",
       "        nan, nan, nan, nan, nan, nan, nan, nan, nan, nan, nan, nan, nan,\n",
       "        nan, nan, nan, nan, nan, nan, nan, nan, nan, nan, nan, nan, nan,\n",
       "        nan, nan, nan, nan, nan, nan, nan, nan, nan, nan, nan, nan, nan,\n",
       "        nan, nan, nan, nan, nan, nan, nan, nan, nan, nan, nan, nan, nan,\n",
       "        nan, nan, nan, nan, nan, nan, nan, nan, nan, nan, nan, nan, nan,\n",
       "        nan, nan, nan, nan, nan, nan, nan, nan, nan, nan, nan, nan, nan,\n",
       "        nan, nan, nan, nan, nan, nan, nan, nan, nan, nan, nan, nan, nan,\n",
       "        nan, nan, nan, nan, nan, nan, nan, nan, nan, nan, nan, nan, nan,\n",
       "        nan, nan, nan, nan, nan, nan, nan, nan, nan, nan, nan, nan, nan,\n",
       "        nan, nan, nan, nan, nan, nan, nan, nan, nan, nan, nan, nan, nan,\n",
       "        nan, nan, nan, nan, nan, nan, nan, nan, nan, nan, nan, nan, nan,\n",
       "        nan, nan, nan, nan, nan, nan, nan, nan, nan, nan, nan, nan, nan,\n",
       "        nan, nan, nan, nan, nan, nan, nan, nan, nan, nan, nan, nan, nan,\n",
       "        nan, nan, nan, nan, nan, nan, nan, nan, nan, nan, nan, nan, nan,\n",
       "        nan, nan, nan, nan, nan, nan, nan, nan, nan, nan, nan, nan, nan,\n",
       "        nan, nan, nan, nan, nan, nan, nan, nan, nan, nan, nan, nan, nan,\n",
       "        nan, nan, nan, nan, nan, nan, nan, nan, nan, nan, nan, nan, nan,\n",
       "        nan, nan, nan, nan, nan, nan, nan, nan, nan, nan, nan, nan, nan,\n",
       "        nan, nan, nan, nan, nan, nan, nan, nan, nan, nan, nan, nan, nan,\n",
       "        nan, nan, nan, nan, nan, nan, nan, nan, nan, nan, nan, nan, nan,\n",
       "        nan, nan, nan, nan, nan, nan, nan, nan, nan, nan, nan, nan, nan,\n",
       "        nan, nan, nan, nan, nan, nan, nan, nan, nan, nan, nan, nan, nan,\n",
       "        nan, nan, nan, nan, nan, nan, nan, nan, nan, nan, nan, nan, nan,\n",
       "        nan, nan, nan, nan, nan, nan, nan, nan, nan, nan, nan, nan, nan,\n",
       "        nan, nan, nan, nan, nan, nan, nan, nan, nan, nan, nan, nan, nan,\n",
       "        nan, nan, nan, nan, nan, nan, nan, nan, nan, nan, nan, nan, nan,\n",
       "        nan, nan, nan, nan, nan, nan, nan, nan, nan, nan, nan, nan, nan,\n",
       "        nan, nan, nan, nan, nan, nan, nan, nan, nan, nan, nan, nan, nan,\n",
       "        nan, nan, nan, nan, nan, nan, nan, nan, nan, nan, nan, nan, nan,\n",
       "        nan, nan, nan, nan, nan, nan, nan, nan, nan, nan, nan, nan, nan,\n",
       "        nan, nan, nan, nan, nan, nan, nan, nan, nan, nan, nan, nan, nan,\n",
       "        nan, nan, nan, nan, nan, nan, nan, nan, nan, nan, nan, nan, nan,\n",
       "        nan, nan, nan, nan, nan, nan, nan, nan, nan, nan, nan, nan, nan,\n",
       "        nan, nan, nan, nan, nan, nan, nan, nan, nan, nan, nan, nan, nan,\n",
       "        nan, nan, nan, nan, nan, nan, nan, nan, nan, nan, nan, nan, nan,\n",
       "        nan, nan, nan, nan, nan, nan, nan, nan, nan, nan, nan, nan, nan,\n",
       "        nan, nan, nan, nan, nan, nan, nan, nan, nan, nan, nan, nan, nan,\n",
       "        nan, nan, nan, nan, nan, nan, nan, nan, nan, nan, nan, nan, nan,\n",
       "        nan, nan, nan, nan, nan, nan, nan, nan, nan, nan, nan, nan, nan,\n",
       "        nan, nan, nan, nan, nan, nan, nan, nan, nan, nan, nan, nan, nan,\n",
       "        nan, nan, nan, nan, nan, nan, nan, nan, nan, nan, nan, nan, nan,\n",
       "        nan, nan, nan, nan, nan, nan, nan, nan, nan, nan, nan, nan, nan,\n",
       "        nan, nan, nan, nan, nan, nan, nan, nan, nan, nan, nan, nan, nan,\n",
       "        nan, nan, nan, nan, nan, nan, nan, nan, nan, nan, nan, nan, nan,\n",
       "        nan, nan, nan, nan, nan, nan, nan, nan, nan, nan, nan, nan, nan,\n",
       "        nan, nan, nan, nan, nan, nan, nan, nan, nan, nan, nan, nan, nan,\n",
       "        nan, nan, nan, nan, nan, nan, nan, nan, nan, nan, nan, nan, nan,\n",
       "        nan, nan, nan, nan, nan, nan, nan, nan, nan, nan, nan, nan, nan,\n",
       "        nan, nan, nan, nan, nan, nan, nan, nan, nan, nan, nan, nan, nan,\n",
       "        nan, nan, nan, nan, nan, nan, nan, nan, nan, nan, nan, nan, nan,\n",
       "        nan, nan, nan, nan, nan, nan, nan, nan, nan, nan, nan, nan, nan,\n",
       "        nan, nan, nan, nan, nan, nan, nan, nan, nan, nan, nan, nan, nan,\n",
       "        nan, nan, nan, nan, nan, nan, nan, nan, nan, nan, nan, nan, nan,\n",
       "        nan, nan, nan, nan, nan, nan, nan, nan, nan, nan, nan, nan, nan,\n",
       "        nan, nan, nan, nan, nan, nan, nan, nan, nan, nan, nan, nan, nan,\n",
       "        nan, nan, nan, nan, nan, nan, nan, nan, nan, nan, nan, nan, nan,\n",
       "        nan, nan, nan, nan, nan, nan, nan, nan, nan, nan, nan, nan, nan,\n",
       "        nan, nan, nan, nan, nan, nan, nan, nan, nan, nan, nan, nan, nan,\n",
       "        nan, nan, nan, nan, nan, nan, nan, nan, nan, nan, nan, nan, nan,\n",
       "        nan, nan, nan, nan, nan, nan, nan, nan, nan, nan, nan, nan, nan,\n",
       "        nan, nan, nan, nan, nan, nan, nan, nan, nan, nan, nan, nan, nan,\n",
       "        nan, nan, nan, nan, nan, nan, nan, nan, nan, nan, nan, nan, nan,\n",
       "        nan, nan, nan, nan, nan, nan, nan, nan, nan, nan, nan, nan]))"
      ]
     },
     "execution_count": 107,
     "metadata": {},
     "output_type": "execute_result"
    }
   ],
   "source": [
    "features_chi2"
   ]
  },
  {
   "cell_type": "code",
   "execution_count": 61,
   "metadata": {},
   "outputs": [],
   "source": [
    "from sklearn.manifold import TSNE\n",
    "\n",
    "# Sampling a subset of our dataset because t-SNE is computationally expensive\n",
    "#SAMPLE_SIZE = features.shape[])\n",
    "#SAMPLE_SIZE = int(len(X_train) * 0.3)\n",
    "SAMPLE_SIZE = int(len(features) * 0.3)\n",
    "#SAMPLE_SIZE = int(len(features) * 0.3)\n",
    "#print(len(y_train))\n",
    "#SAMPLE_SIZE = 6000\n",
    "#print(SAMPLE_SIZE)\n",
    "np.random.seed(0)\n",
    "indices = np.random.choice(range(len(features)), size=SAMPLE_SIZE, replace=False)          # Randomly select 30 % of samples\n",
    "projected_features = TSNE(n_components=2, random_state=0).fit_transform(features[indices]) # Array of all projected features of 30% of Randomly chosen samples "
   ]
  },
  {
   "cell_type": "code",
   "execution_count": 62,
   "metadata": {},
   "outputs": [
    {
     "data": {
      "text/plain": [
       "numpy.ndarray"
      ]
     },
     "execution_count": 62,
     "metadata": {},
     "output_type": "execute_result"
    }
   ],
   "source": [
    "type(projected_features)"
   ]
  },
  {
   "cell_type": "code",
   "execution_count": 66,
   "metadata": {},
   "outputs": [
    {
     "name": "stderr",
     "output_type": "stream",
     "text": [
      "C:\\ProgramData\\Anaconda3\\lib\\site-packages\\pandas\\core\\series.py:696: FutureWarning: \n",
      "Passing list-likes to .loc or [] with any missing label will raise\n",
      "KeyError in the future, you can use .reindex() as an alternative.\n",
      "\n",
      "See the documentation here:\n",
      "http://pandas.pydata.org/pandas-docs/stable/indexing.html#deprecate-loc-reindex-listlike\n",
      "  return self.loc[key]\n"
     ]
    },
    {
     "data": {
      "text/plain": [
       "<matplotlib.legend.Legend at 0xfb75e30>"
      ]
     },
     "execution_count": 66,
     "metadata": {},
     "output_type": "execute_result"
    },
    {
     "data": {
      "image/png": "[encoded data removed]",
      "text/plain": [
       "<matplotlib.figure.Figure at 0xf614510>"
      ]
     },
     "metadata": {},
     "output_type": "display_data"
    }
   ],
   "source": [
    "colors = ['pink', 'green', 'midnightblue', 'orange',  'black','darkgrey']\n",
    "count=0\n",
    "# Find points belonging to each category and plot them\n",
    "for category, category_id in sorted(category_to_id.items()):\n",
    "    points = projected_features[(labels[indices] == category_id).values]\n",
    "    #print(points[:,0])\n",
    "    count=count+1\n",
    "    if count<=9:\n",
    "        plt.scatter(points[:, 0], points[:, 1], s=30, c=colors[category_id], label=category)\n",
    "        #break\n",
    "plt.title(\"tf-idf feature vector for each sentece, projected on 2 dimensions.\",\n",
    "          fontdict=dict(fontsize=8))\n",
    "\n",
    "plt.legend()"
   ]
  },
  {
   "cell_type": "code",
   "execution_count": null,
   "metadata": {},
   "outputs": [],
   "source": []
  }
 ],
 "metadata": {
  "kernelspec": {
   "display_name": "Python 3",
   "language": "python",
   "name": "python3"
  },
  "language_info": {
   "codemirror_mode": {
    "name": "ipython",
    "version": 3
   },
   "file_extension": ".py",
   "mimetype": "text/x-python",
   "name": "python",
   "nbconvert_exporter": "python",
   "pygments_lexer": "ipython3",
   "version": "3.6.4"
  }
 },
 "nbformat": 4,
 "nbformat_minor": 2
}
