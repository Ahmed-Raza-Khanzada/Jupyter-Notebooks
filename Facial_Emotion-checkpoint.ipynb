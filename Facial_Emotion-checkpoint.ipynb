{
 "cells": [
  {
   "cell_type": "code",
   "execution_count": 1,
   "metadata": {},
   "outputs": [],
   "source": [
    "import pandas as pd\n",
    "import numpy as np\n",
    "import cv2\n",
    "import os\n",
    "from sklearn.model_selection import train_test_split\n",
    "import matplotlib.pyplot as plt\n",
    "import glob\n",
    "from sklearn.preprocessing import LabelEncoder\n",
    "from tensorflow.keras.utils import to_categorical\n",
    "from tqdm import tqdm\n",
    "from tensorflow.keras.models import Sequential\n",
    "from tensorflow.keras import layers\n",
    "from tensorflow.keras.layers import Conv2D, MaxPooling2D\n",
    "from tensorflow.keras.layers import Conv2D, Dense, Dropout, Flatten\n",
    "from tensorflow.keras.layers import Flatten, Dense\n",
    "from tensorflow.keras.models import Sequential\n",
    "from tensorflow.keras.callbacks import EarlyStopping\n",
    "from tensorflow.keras.layers import Dense,Input\n",
    "from tensorflow.keras.models import Sequential\n",
    "from sklearn.model_selection import train_test_split\n",
    "from keras.layers import *\n",
    "from keras.models import *\n",
    "from keras.applications import *\n",
    "from keras.optimizers import *\n",
    "from keras.regularizers import *\n",
    "from tqdm import tqdm\n",
    "import csv\n",
    "from keras.applications.inception_v3 import preprocess_input"
   ]
  },
  {
   "cell_type": "code",
   "execution_count": 12,
   "metadata": {},
   "outputs": [],
   "source": [
    "img_dir = \"E:/facial_emotion_data/archive\""
   ]
  },
  {
   "cell_type": "code",
   "execution_count": 19,
   "metadata": {},
   "outputs": [],
   "source": [
    "def load_data(path):\n",
    "    train_x = []\n",
    "    train_label = []\n",
    "    test_label = []\n",
    "    test_x = []\n",
    "    print(\"Loading Dataset\")\n",
    "    for file in os.listdir(path):\n",
    "        if file==\"train\":\n",
    "            print(\"Loading Train\")\n",
    "            path1 = os.path.join(path,file)\n",
    "            for class1 in os.listdir(path1):\n",
    "                path2 = os.path.join(path1,class1)\n",
    "                img_path = os.path.join(path2.replace(\"\\\\\",\"/\"),'*g')\n",
    "                files = glob.glob(img_path)\n",
    "                for f1 in tqdm(files):\n",
    "                    img = cv2.imread(f1,cv2.IMREAD_GRAYSCALE)\n",
    "                    train_x.append(img)\n",
    "                    train_label.append(class1)\n",
    "        elif file==\"test\":\n",
    "            print(\"Loading Dataset Test\")\n",
    "            path1 = os.path.join(path,file)\n",
    "            for class1 in os.listdir(path1):\n",
    "                path2 = os.path.join(path1,class1)\n",
    "                img_path = os.path.join(path2.replace(\"\\\\\",\"/\"),'*g')\n",
    "                files = glob.glob(img_path)\n",
    "                for f1 in tqdm(files):\n",
    "                    img = cv2.imread(f1,cv2.IMREAD_GRAYSCALE)\n",
    "                    train_x.append(img)\n",
    "                    train_label.append(class1)\n",
    "            \n",
    "           \n",
    "    print(\"Completed\")\n",
    "    return train_x,test_x,train_label,test_label"
   ]
  },
  {
   "cell_type": "code",
   "execution_count": 20,
   "metadata": {},
   "outputs": [
    {
     "name": "stdout",
     "output_type": "stream",
     "text": [
      "Loading Dataset\n",
      "Loading Dataset Test Labels\n"
     ]
    },
    {
     "name": "stderr",
     "output_type": "stream",
     "text": [
      "100%|████████████████████████████████████████████████████████████████████████████████| 958/958 [00:11<00:00, 86.37it/s]\n",
      "100%|███████████████████████████████████████████████████████████████████████████████| 111/111 [00:00<00:00, 116.15it/s]\n",
      "100%|█████████████████████████████████████████████████████████████████████████████| 1024/1024 [00:08<00:00, 119.37it/s]\n",
      "100%|█████████████████████████████████████████████████████████████████████████████| 1774/1774 [00:13<00:00, 129.35it/s]\n",
      "100%|█████████████████████████████████████████████████████████████████████████████| 1233/1233 [00:09<00:00, 117.81it/s]\n",
      "100%|█████████████████████████████████████████████████████████████████████████████| 1247/1247 [00:10<00:00, 119.90it/s]\n",
      "100%|███████████████████████████████████████████████████████████████████████████████| 831/831 [00:07<00:00, 112.34it/s]\n"
     ]
    },
    {
     "name": "stdout",
     "output_type": "stream",
     "text": [
      "Loading Train Labels\n"
     ]
    },
    {
     "name": "stderr",
     "output_type": "stream",
     "text": [
      "100%|█████████████████████████████████████████████████████████████████████████████| 3995/3995 [00:32<00:00, 123.72it/s]\n",
      "100%|███████████████████████████████████████████████████████████████████████████████| 436/436 [00:03<00:00, 132.90it/s]\n",
      "100%|█████████████████████████████████████████████████████████████████████████████| 4097/4097 [00:35<00:00, 115.94it/s]\n",
      "100%|█████████████████████████████████████████████████████████████████████████████| 7215/7215 [01:00<00:00, 119.65it/s]\n",
      "100%|█████████████████████████████████████████████████████████████████████████████| 4965/4965 [00:37<00:00, 133.10it/s]\n",
      "100%|█████████████████████████████████████████████████████████████████████████████| 4830/4830 [00:35<00:00, 134.79it/s]\n",
      "100%|█████████████████████████████████████████████████████████████████████████████| 3171/3171 [00:22<00:00, 141.20it/s]\n"
     ]
    },
    {
     "name": "stdout",
     "output_type": "stream",
     "text": [
      "Completed\n"
     ]
    }
   ],
   "source": [
    "train_x,test_x,train_label,test_label = load_data(img_dir)"
   ]
  },
  {
   "cell_type": "code",
   "execution_count": 28,
   "metadata": {},
   "outputs": [],
   "source": [
    "df = pd.DataFrame(train_label,columns=[\"train_label\"])"
   ]
  },
  {
   "cell_type": "code",
   "execution_count": 23,
   "metadata": {},
   "outputs": [
    {
     "data": {
      "text/plain": [
       "array([[ 46,  34,  26, ...,  10,  13,  22],\n",
       "       [ 50,  28,  21, ...,  11,  10,  21],\n",
       "       [ 50,  27,  15, ...,  22,  24,  22],\n",
       "       ...,\n",
       "       [208, 179, 108, ..., 191, 205, 204],\n",
       "       [212, 198, 149, ..., 181, 200, 204],\n",
       "       [208, 201, 171, ..., 165, 180, 189]], dtype=uint8)"
      ]
     },
     "execution_count": 23,
     "metadata": {},
     "output_type": "execute_result"
    }
   ],
   "source": [
    "train_x[0]"
   ]
  },
  {
   "cell_type": "code",
   "execution_count": 32,
   "metadata": {},
   "outputs": [],
   "source": [
    "df2 = pd.DataFrame(test_label,columns=[\"test_label\"])"
   ]
  },
  {
   "cell_type": "code",
   "execution_count": null,
   "metadata": {},
   "outputs": [],
   "source": []
  }
 ],
 "metadata": {
  "kernelspec": {
   "display_name": "Python 3",
   "language": "python",
   "name": "python3"
  },
  "language_info": {
   "codemirror_mode": {
    "name": "ipython",
    "version": 3
   },
   "file_extension": ".py",
   "mimetype": "text/x-python",
   "name": "python",
   "nbconvert_exporter": "python",
   "pygments_lexer": "ipython3",
   "version": "3.7.3"
  }
 },
 "nbformat": 4,
 "nbformat_minor": 2
}
