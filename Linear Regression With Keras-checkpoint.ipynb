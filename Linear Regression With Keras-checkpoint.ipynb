{
 "cells": [
  {
   "cell_type": "code",
   "execution_count": 1,
   "metadata": {},
   "outputs": [
    {
     "name": "stderr",
     "output_type": "stream",
     "text": [
      "Using TensorFlow backend.\n"
     ]
    }
   ],
   "source": [
    "from keras.models import Sequential\n",
    "from keras.layers import Dense \n",
    "from keras.optimizers import Adam, SGD\n",
    "\n",
    "%matplotlib inline\n",
    "import matplotlib.pyplot as plt\n",
    "import numpy as np\n",
    "import pandas as pd"
   ]
  },
  {
   "cell_type": "code",
   "execution_count": 2,
   "metadata": {
    "collapsed": true
   },
   "outputs": [],
   "source": [
    "df=pd.read_csv('weight-height.csv')"
   ]
  },
  {
   "cell_type": "code",
   "execution_count": 3,
   "metadata": {
    "collapsed": true
   },
   "outputs": [],
   "source": [
    "X=df[['Height']].values\n",
    "y_true=df[['Weight']].values"
   ]
  },
  {
   "cell_type": "code",
   "execution_count": 4,
   "metadata": {},
   "outputs": [
    {
     "data": {
      "text/plain": [
       "array([[73.84701702],\n",
       "       [68.78190405],\n",
       "       [74.11010539],\n",
       "       ...,\n",
       "       [63.86799221],\n",
       "       [69.03424313],\n",
       "       [61.94424588]])"
      ]
     },
     "execution_count": 4,
     "metadata": {},
     "output_type": "execute_result"
    }
   ],
   "source": [
    "X"
   ]
  },
  {
   "cell_type": "code",
   "execution_count": 5,
   "metadata": {
    "collapsed": true
   },
   "outputs": [],
   "source": [
    "model = Sequential()\n",
    "model.add(Dense(1, input_shape=(1,)))"
   ]
  },
  {
   "cell_type": "code",
   "execution_count": 6,
   "metadata": {},
   "outputs": [
    {
     "name": "stdout",
     "output_type": "stream",
     "text": [
      "_________________________________________________________________\n",
      "Layer (type)                 Output Shape              Param #   \n",
      "=================================================================\n",
      "dense_1 (Dense)              (None, 1)                 2         \n",
      "=================================================================\n",
      "Total params: 2\n",
      "Trainable params: 2\n",
      "Non-trainable params: 0\n",
      "_________________________________________________________________\n"
     ]
    }
   ],
   "source": [
    "model.summary()"
   ]
  },
  {
   "cell_type": "code",
   "execution_count": 8,
   "metadata": {
    "collapsed": true
   },
   "outputs": [],
   "source": [
    "model.compile(Adam(lr=0.8), 'mean_squared_error')"
   ]
  },
  {
   "cell_type": "code",
   "execution_count": 13,
   "metadata": {},
   "outputs": [
    {
     "name": "stdout",
     "output_type": "stream",
     "text": [
      "Epoch 1/100\n",
      "10000/10000 [==============================] - 0s 24us/step - loss: 181.3921\n",
      "Epoch 2/100\n",
      "10000/10000 [==============================] - 0s 19us/step - loss: 180.1191\n",
      "Epoch 3/100\n",
      "10000/10000 [==============================] - 0s 20us/step - loss: 178.1879\n",
      "Epoch 4/100\n",
      "10000/10000 [==============================] - 0s 20us/step - loss: 168.0745\n",
      "Epoch 5/100\n",
      "10000/10000 [==============================] - 0s 30us/step - loss: 177.0766\n",
      "Epoch 6/100\n",
      "10000/10000 [==============================] - 0s 24us/step - loss: 189.3489\n",
      "Epoch 7/100\n",
      "10000/10000 [==============================] - 0s 18us/step - loss: 192.3620\n",
      "Epoch 8/100\n",
      "10000/10000 [==============================] - 0s 27us/step - loss: 171.0113\n",
      "Epoch 9/100\n",
      "10000/10000 [==============================] - 0s 24us/step - loss: 178.9050\n",
      "Epoch 10/100\n",
      "10000/10000 [==============================] - 0s 16us/step - loss: 175.0790\n",
      "Epoch 11/100\n",
      "10000/10000 [==============================] - 0s 17us/step - loss: 176.1627\n",
      "Epoch 12/100\n",
      "10000/10000 [==============================] - 0s 17us/step - loss: 184.7434\n",
      "Epoch 13/100\n",
      "10000/10000 [==============================] - 0s 17us/step - loss: 180.9575\n",
      "Epoch 14/100\n",
      "10000/10000 [==============================] - 0s 17us/step - loss: 180.2413\n",
      "Epoch 15/100\n",
      "10000/10000 [==============================] - 0s 17us/step - loss: 187.3983\n",
      "Epoch 16/100\n",
      "10000/10000 [==============================] - 0s 17us/step - loss: 183.0300\n",
      "Epoch 17/100\n",
      "10000/10000 [==============================] - 0s 17us/step - loss: 174.3547\n",
      "Epoch 18/100\n",
      "10000/10000 [==============================] - 0s 17us/step - loss: 176.8179\n",
      "Epoch 19/100\n",
      "10000/10000 [==============================] - 0s 17us/step - loss: 177.0193\n",
      "Epoch 20/100\n",
      "10000/10000 [==============================] - 0s 30us/step - loss: 183.9395\n",
      "Epoch 21/100\n",
      "10000/10000 [==============================] - 0s 21us/step - loss: 195.2083\n",
      "Epoch 22/100\n",
      "10000/10000 [==============================] - 0s 18us/step - loss: 178.8857\n",
      "Epoch 23/100\n",
      "10000/10000 [==============================] - 0s 17us/step - loss: 186.6132\n",
      "Epoch 24/100\n",
      "10000/10000 [==============================] - 0s 33us/step - loss: 182.4901\n",
      "Epoch 25/100\n",
      "10000/10000 [==============================] - 0s 25us/step - loss: 166.2793\n",
      "Epoch 26/100\n",
      "10000/10000 [==============================] - 0s 20us/step - loss: 183.8370\n",
      "Epoch 27/100\n",
      "10000/10000 [==============================] - 0s 19us/step - loss: 174.5863\n",
      "Epoch 28/100\n",
      "10000/10000 [==============================] - 0s 18us/step - loss: 170.6903\n",
      "Epoch 29/100\n",
      "10000/10000 [==============================] - 0s 18us/step - loss: 179.4737\n",
      "Epoch 30/100\n",
      "10000/10000 [==============================] - 0s 17us/step - loss: 175.9277\n",
      "Epoch 31/100\n",
      "10000/10000 [==============================] - 0s 23us/step - loss: 173.4077\n",
      "Epoch 32/100\n",
      "10000/10000 [==============================] - 0s 27us/step - loss: 184.1998\n",
      "Epoch 33/100\n",
      "10000/10000 [==============================] - 0s 22us/step - loss: 169.3783\n",
      "Epoch 34/100\n",
      "10000/10000 [==============================] - 0s 29us/step - loss: 171.4502\n",
      "Epoch 35/100\n",
      "10000/10000 [==============================] - 0s 23us/step - loss: 189.0910\n",
      "Epoch 36/100\n",
      "10000/10000 [==============================] - 0s 18us/step - loss: 168.6993\n",
      "Epoch 37/100\n",
      "10000/10000 [==============================] - 0s 17us/step - loss: 170.8558\n",
      "Epoch 38/100\n",
      "10000/10000 [==============================] - 0s 18us/step - loss: 173.0933\n",
      "Epoch 39/100\n",
      "10000/10000 [==============================] - 0s 33us/step - loss: 181.3735\n",
      "Epoch 40/100\n",
      "10000/10000 [==============================] - 0s 25us/step - loss: 179.9733\n",
      "Epoch 41/100\n",
      "10000/10000 [==============================] - 0s 19us/step - loss: 173.7413\n",
      "Epoch 42/100\n",
      "10000/10000 [==============================] - 0s 18us/step - loss: 179.0973\n",
      "Epoch 43/100\n",
      "10000/10000 [==============================] - 0s 25us/step - loss: 176.2287\n",
      "Epoch 44/100\n",
      "10000/10000 [==============================] - 0s 27us/step - loss: 179.7742\n",
      "Epoch 45/100\n",
      "10000/10000 [==============================] - 0s 19us/step - loss: 170.4689\n",
      "Epoch 46/100\n",
      "10000/10000 [==============================] - 0s 18us/step - loss: 180.7973\n",
      "Epoch 47/100\n",
      "10000/10000 [==============================] - 0s 29us/step - loss: 172.2627\n",
      "Epoch 48/100\n",
      "10000/10000 [==============================] - 0s 26us/step - loss: 177.3197\n",
      "Epoch 49/100\n",
      "10000/10000 [==============================] - 0s 29us/step - loss: 179.8711\n",
      "Epoch 50/100\n",
      "10000/10000 [==============================] - 0s 25us/step - loss: 169.8181\n",
      "Epoch 51/100\n",
      "10000/10000 [==============================] - 0s 22us/step - loss: 176.4527\n",
      "Epoch 52/100\n",
      "10000/10000 [==============================] - 0s 18us/step - loss: 166.4237\n",
      "Epoch 53/100\n",
      "10000/10000 [==============================] - 0s 25us/step - loss: 184.9216\n",
      "Epoch 54/100\n",
      "10000/10000 [==============================] - 0s 24us/step - loss: 180.8944\n",
      "Epoch 55/100\n",
      "10000/10000 [==============================] - 0s 18us/step - loss: 183.3944\n",
      "Epoch 56/100\n",
      "10000/10000 [==============================] - 0s 17us/step - loss: 173.1713\n",
      "Epoch 57/100\n",
      "10000/10000 [==============================] - 0s 25us/step - loss: 180.1497\n",
      "Epoch 58/100\n",
      "10000/10000 [==============================] - 0s 24us/step - loss: 192.2210\n",
      "Epoch 59/100\n",
      "10000/10000 [==============================] - 0s 18us/step - loss: 184.3672\n",
      "Epoch 60/100\n",
      "10000/10000 [==============================] - 0s 18us/step - loss: 176.1139\n",
      "Epoch 61/100\n",
      "10000/10000 [==============================] - 0s 23us/step - loss: 176.4510\n",
      "Epoch 62/100\n",
      "10000/10000 [==============================] - 0s 22us/step - loss: 183.0706\n",
      "Epoch 63/100\n",
      "10000/10000 [==============================] - 0s 19us/step - loss: 183.0724\n",
      "Epoch 64/100\n",
      "10000/10000 [==============================] - 0s 18us/step - loss: 176.2785\n",
      "Epoch 65/100\n",
      "10000/10000 [==============================] - 0s 22us/step - loss: 170.3076\n",
      "Epoch 66/100\n",
      "10000/10000 [==============================] - 0s 22us/step - loss: 181.2456\n",
      "Epoch 67/100\n",
      "10000/10000 [==============================] - 0s 18us/step - loss: 174.9773\n",
      "Epoch 68/100\n",
      "10000/10000 [==============================] - 0s 18us/step - loss: 170.7870\n",
      "Epoch 69/100\n",
      "10000/10000 [==============================] - 0s 26us/step - loss: 178.5766\n",
      "Epoch 70/100\n",
      "10000/10000 [==============================] - 0s 22us/step - loss: 181.4631\n",
      "Epoch 71/100\n",
      "10000/10000 [==============================] - 0s 18us/step - loss: 184.7158\n",
      "Epoch 72/100\n",
      "10000/10000 [==============================] - 0s 23us/step - loss: 176.2763\n",
      "Epoch 73/100\n",
      "10000/10000 [==============================] - 0s 24us/step - loss: 176.1139\n",
      "Epoch 74/100\n",
      "10000/10000 [==============================] - 0s 18us/step - loss: 176.7433\n",
      "Epoch 75/100\n",
      "10000/10000 [==============================] - 0s 18us/step - loss: 177.0907\n",
      "Epoch 76/100\n",
      "10000/10000 [==============================] - 0s 24us/step - loss: 178.1660\n",
      "Epoch 77/100\n",
      "10000/10000 [==============================] - 0s 24us/step - loss: 173.1229\n",
      "Epoch 78/100\n",
      "10000/10000 [==============================] - 0s 20us/step - loss: 187.1323\n",
      "Epoch 79/100\n",
      "10000/10000 [==============================] - 0s 24us/step - loss: 178.8901\n",
      "Epoch 80/100\n",
      "10000/10000 [==============================] - 0s 22us/step - loss: 169.6493\n",
      "Epoch 81/100\n",
      "10000/10000 [==============================] - 0s 18us/step - loss: 177.2764\n",
      "Epoch 82/100\n",
      "10000/10000 [==============================] - 0s 22us/step - loss: 176.6462\n",
      "Epoch 83/100\n",
      "10000/10000 [==============================] - 0s 21us/step - loss: 177.7926\n",
      "Epoch 84/100\n",
      "10000/10000 [==============================] - 0s 18us/step - loss: 180.4068\n",
      "Epoch 85/100\n",
      "10000/10000 [==============================] - 0s 23us/step - loss: 176.5998\n",
      "Epoch 86/100\n",
      "10000/10000 [==============================] - 0s 19us/step - loss: 176.5687\n",
      "Epoch 87/100\n",
      "10000/10000 [==============================] - 0s 23us/step - loss: 183.9890\n",
      "Epoch 88/100\n",
      "10000/10000 [==============================] - 0s 21us/step - loss: 191.2745\n",
      "Epoch 89/100\n",
      "10000/10000 [==============================] - 0s 18us/step - loss: 169.3082\n",
      "Epoch 90/100\n",
      "10000/10000 [==============================] - 0s 17us/step - loss: 178.3929\n",
      "Epoch 91/100\n",
      "10000/10000 [==============================] - 0s 18us/step - loss: 170.3381\n",
      "Epoch 92/100\n",
      "10000/10000 [==============================] - 0s 19us/step - loss: 181.2401\n",
      "Epoch 93/100\n",
      "10000/10000 [==============================] - 0s 18us/step - loss: 176.0948\n",
      "Epoch 94/100\n",
      "10000/10000 [==============================] - 0s 19us/step - loss: 186.7752\n",
      "Epoch 95/100\n",
      "10000/10000 [==============================] - 0s 18us/step - loss: 178.5751\n",
      "Epoch 96/100\n",
      "10000/10000 [==============================] - 0s 18us/step - loss: 185.1097\n",
      "Epoch 97/100\n",
      "10000/10000 [==============================] - 0s 24us/step - loss: 168.9768\n",
      "Epoch 98/100\n",
      "10000/10000 [==============================] - 0s 22us/step - loss: 183.6277\n",
      "Epoch 99/100\n",
      "10000/10000 [==============================] - 0s 21us/step - loss: 174.5792\n",
      "Epoch 100/100\n",
      "10000/10000 [==============================] - 0s 18us/step - loss: 190.1248\n"
     ]
    },
    {
     "data": {
      "text/plain": [
       "<keras.callbacks.History at 0x7f20f4030eb8>"
      ]
     },
     "execution_count": 13,
     "metadata": {},
     "output_type": "execute_result"
    }
   ],
   "source": [
    "model.fit(X,y_true, epochs=100)"
   ]
  },
  {
   "cell_type": "code",
   "execution_count": 10,
   "metadata": {
    "collapsed": true
   },
   "outputs": [],
   "source": [
    "y_pred=model.predict(X)"
   ]
  },
  {
   "cell_type": "code",
   "execution_count": 12,
   "metadata": {},
   "outputs": [
    {
     "data": {
      "text/plain": [
       "[<matplotlib.lines.Line2D at 0x7f20f4030be0>]"
      ]
     },
     "execution_count": 12,
     "metadata": {},
     "output_type": "execute_result"
    },
    {
     "data": {
      "image/png": "[encoded data removed]",
      "text/plain": [
       "<Figure size 432x288 with 1 Axes>"
      ]
     },
     "metadata": {
      "needs_background": "light"
     },
     "output_type": "display_data"
    }
   ],
   "source": [
    "df.plot(kind='scatter',\n",
    "       x='Height',\n",
    "       y='Weight', title='Weight and Height in adults')\n",
    "plt.plot(X, y_pred, color='red', linewidth=3)"
   ]
  },
  {
   "cell_type": "code",
   "execution_count": 14,
   "metadata": {
    "collapsed": true
   },
   "outputs": [],
   "source": [
    "w,b=model.get_weights()"
   ]
  },
  {
   "cell_type": "code",
   "execution_count": 15,
   "metadata": {},
   "outputs": [
    {
     "data": {
      "text/plain": [
       "array([[7.6040206]], dtype=float32)"
      ]
     },
     "execution_count": 15,
     "metadata": {},
     "output_type": "execute_result"
    }
   ],
   "source": [
    "w"
   ]
  },
  {
   "cell_type": "code",
   "execution_count": 16,
   "metadata": {},
   "outputs": [
    {
     "data": {
      "text/plain": [
       "array([-350.8138], dtype=float32)"
      ]
     },
     "execution_count": 16,
     "metadata": {},
     "output_type": "execute_result"
    }
   ],
   "source": [
    "b"
   ]
  },
  {
   "cell_type": "code",
   "execution_count": null,
   "metadata": {
    "collapsed": true
   },
   "outputs": [],
   "source": []
  }
 ],
 "metadata": {
  "kernelspec": {
   "display_name": "Python 3",
   "language": "python",
   "name": "python3"
  },
  "language_info": {
   "codemirror_mode": {
    "name": "ipython",
    "version": 3
   },
   "file_extension": ".py",
   "mimetype": "text/x-python",
   "name": "python",
   "nbconvert_exporter": "python",
   "pygments_lexer": "ipython3",
   "version": "3.6.7"
  }
 },
 "nbformat": 4,
 "nbformat_minor": 2
}
