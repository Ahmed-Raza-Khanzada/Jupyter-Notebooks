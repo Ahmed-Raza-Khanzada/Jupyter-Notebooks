{
 "cells": [
  {
   "cell_type": "code",
   "execution_count": 19,
   "metadata": {
    "scrolled": false
   },
   "outputs": [
    {
     "name": "stdout",
     "output_type": "stream",
     "text": [
      "{'ticker': {'base': 'BTC', 'target': 'USD', 'price': '7588.95737840', 'volume': '111423.08388552', 'change': '19.56415307', 'markets': [{'market': 'Binance', 'price': '7588.08000000', 'volume': 56346.668219}, {'market': 'BitFinex', 'price': '7582.10000000', 'volume': 12640.23783726}, {'market': 'Bitstamp', 'price': '7592.80000000', 'volume': 9204.72309393}, {'market': 'Bittrex', 'price': '7596.13900000', 'volume': 968.71373004}, {'market': 'Bleutrade', 'price': '7574.07540900', 'volume': 0.29230844}, {'market': 'C-Cex', 'price': '8025.00000100', 'volume': 0.29235275}, {'market': 'Cex.io', 'price': '7666.50000000', 'volume': 310.99709995}, {'market': 'Coinbase Pro', 'price': '7590.43000000', 'volume': 19354.73337015}, {'market': 'Exmo', 'price': '7586.50400008', 'volume': 967.08617299}, {'market': 'Hitbtc', 'price': '7594.67998000', 'volume': 17.94412}, {'market': 'IncoreX', 'price': '7952.28000000', 'volume': 77.56940184}, {'market': 'Kraken', 'price': '7585.40000000', 'volume': 9377.86841748}, {'market': 'Livecoin', 'price': '7620.00000000', 'volume': 1489.33822443}, {'market': 'Poloniex', 'price': '7589.86972461', 'volume': 639.09792935}, {'market': 'YoBit', 'price': '7650.00000001', 'volume': 27.52160791}]}, 'timestamp': 1558615083, 'success': True, 'error': ''}\n"
     ]
    },
    {
     "data": {
      "text/html": [
       "<div>\n",
       "<style scoped>\n",
       "    .dataframe tbody tr th:only-of-type {\n",
       "        vertical-align: middle;\n",
       "    }\n",
       "\n",
       "    .dataframe tbody tr th {\n",
       "        vertical-align: top;\n",
       "    }\n",
       "\n",
       "    .dataframe thead th {\n",
       "        text-align: right;\n",
       "    }\n",
       "</style>\n",
       "<table border=\"1\" class=\"dataframe\">\n",
       "  <thead>\n",
       "    <tr style=\"text-align: right;\">\n",
       "      <th></th>\n",
       "      <th>ticker</th>\n",
       "      <th>timestamp</th>\n",
       "      <th>success</th>\n",
       "      <th>error</th>\n",
       "    </tr>\n",
       "  </thead>\n",
       "  <tbody>\n",
       "    <tr>\n",
       "      <th>base</th>\n",
       "      <td>BTC</td>\n",
       "      <td>1558615083</td>\n",
       "      <td>True</td>\n",
       "      <td></td>\n",
       "    </tr>\n",
       "    <tr>\n",
       "      <th>change</th>\n",
       "      <td>19.56415307</td>\n",
       "      <td>1558615083</td>\n",
       "      <td>True</td>\n",
       "      <td></td>\n",
       "    </tr>\n",
       "    <tr>\n",
       "      <th>markets</th>\n",
       "      <td>[{'market': 'Binance', 'price': '7588.08000000...</td>\n",
       "      <td>1558615083</td>\n",
       "      <td>True</td>\n",
       "      <td></td>\n",
       "    </tr>\n",
       "    <tr>\n",
       "      <th>price</th>\n",
       "      <td>7588.95737840</td>\n",
       "      <td>1558615083</td>\n",
       "      <td>True</td>\n",
       "      <td></td>\n",
       "    </tr>\n",
       "    <tr>\n",
       "      <th>target</th>\n",
       "      <td>USD</td>\n",
       "      <td>1558615083</td>\n",
       "      <td>True</td>\n",
       "      <td></td>\n",
       "    </tr>\n",
       "    <tr>\n",
       "      <th>volume</th>\n",
       "      <td>111423.08388552</td>\n",
       "      <td>1558615083</td>\n",
       "      <td>True</td>\n",
       "      <td></td>\n",
       "    </tr>\n",
       "  </tbody>\n",
       "</table>\n",
       "</div>"
      ],
      "text/plain": [
       "                                                    ticker   timestamp  \\\n",
       "base                                                   BTC  1558615083   \n",
       "change                                         19.56415307  1558615083   \n",
       "markets  [{'market': 'Binance', 'price': '7588.08000000...  1558615083   \n",
       "price                                        7588.95737840  1558615083   \n",
       "target                                                 USD  1558615083   \n",
       "volume                                     111423.08388552  1558615083   \n",
       "\n",
       "         success error  \n",
       "base        True        \n",
       "change      True        \n",
       "markets     True        \n",
       "price       True        \n",
       "target      True        \n",
       "volume      True        "
      ]
     },
     "execution_count": 19,
     "metadata": {},
     "output_type": "execute_result"
    }
   ],
   "source": [
    "import numpy as np\n",
    "import pandas as pd\n",
    "import requests\n",
    "import matplotlib.pyplot as plt\n",
    "getURL = requests.get('https://api.cryptonator.com/api/full/btc-usd').json()\n",
    "print(getURL)\n",
    "df1  = pd.DataFrame(getURL)\n",
    "df1"
   ]
  },
  {
   "cell_type": "code",
   "execution_count": 14,
   "metadata": {},
   "outputs": [
    {
     "name": "stdout",
     "output_type": "stream",
     "text": [
      "          market          price        volume\n",
      "0        Binance  7603.75000000  55203.397613\n",
      "1       BitFinex  7603.00000000  12506.131798\n",
      "2       Bitstamp  7612.77000000   9148.938129\n",
      "3        Bittrex  7615.47500000    933.732394\n",
      "4      Bleutrade  7856.07667531      1.000000\n",
      "5          C-Cex  9899.99999990      0.292384\n",
      "6         Cex.io  7695.10000000    277.675806\n",
      "7   Coinbase Pro  7608.85000000  19279.580832\n",
      "8           Exmo  7643.00000000    965.470178\n",
      "9         Hitbtc  7598.26000000  26632.959250\n",
      "10       IncoreX  7988.82000000     78.870614\n",
      "11        Kraken  7615.90000000   9605.673449\n",
      "12      Livecoin  4301.00001000      0.133274\n",
      "13      Poloniex  7592.02182039    618.642690\n",
      "14         YoBit  7696.93793521     27.204881\n",
      "<class 'pandas.core.frame.DataFrame'>\n"
     ]
    }
   ],
   "source": [
    "df_ticker = pd.DataFrame(df1['ticker']['markets'])\n",
    "print(df_ticker)\n",
    "print(type(df_ticker))\n"
   ]
  },
  {
   "cell_type": "code",
   "execution_count": 3,
   "metadata": {},
   "outputs": [],
   "source": [
    "price = df_ticker['price'].astype('float')\n",
    "mar = list(df_ticker['market'])\n",
    "price = list(price)\n",
    "vol = list(df_ticker['volume'])\n",
    "def plot_txt(text , x_val , y_val):\n",
    "    for t , x , y in zip(text[:] , x_val[:] , y_val[:]):\n",
    "        plt.annotate(t , xy = (x , y))\n",
    "    plt.grid(True)\n",
    "    plt.scatter(x_val , y_val)\n",
    "    plt.title('Arbitrage Finder')\n",
    "    plt.show()"
   ]
  },
  {
   "cell_type": "code",
   "execution_count": 5,
   "metadata": {},
   "outputs": [
    {
     "data": {
      "image/png": "[encoded data removed]",
      "text/plain": [
       "<matplotlib.figure.Figure at 0x41605a5cc0>"
      ]
     },
     "metadata": {},
     "output_type": "display_data"
    }
   ],
   "source": [
    "plot_txt(mar , price , vol)"
   ]
  }
 ],
 "metadata": {
  "kernelspec": {
   "display_name": "Python 3",
   "language": "python",
   "name": "python3"
  },
  "language_info": {
   "codemirror_mode": {
    "name": "ipython",
    "version": 3
   },
   "file_extension": ".py",
   "mimetype": "text/x-python",
   "name": "python",
   "nbconvert_exporter": "python",
   "pygments_lexer": "ipython3",
   "version": "3.6.7"
  }
 },
 "nbformat": 4,
 "nbformat_minor": 2
}
