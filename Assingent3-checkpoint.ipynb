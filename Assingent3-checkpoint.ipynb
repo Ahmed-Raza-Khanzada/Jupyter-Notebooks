{
 "cells": [
  {
   "cell_type": "code",
   "execution_count": 1,
   "metadata": {},
   "outputs": [],
   "source": [
    "def a():\n",
    "    import numpy as np   \n",
    "    while True:\n",
    "        user = input(\"Enter numbers in integer or float u want to enter in array comma seprated: \").split(\",\")\n",
    "        if user[0]!=\"\":\n",
    "            break\n",
    "        else:\n",
    "            print(\"please enter something\")\n",
    "            continue\n",
    "    if len(user)>1:    \n",
    "        user1 = []\n",
    "        for i in user:\n",
    "            try:\n",
    "                user1.append(int(i))\n",
    "            except:\n",
    "                user1.append(float(i))\n",
    "        user2 = []\n",
    "        for i in user1:\n",
    "            user2.append(int(i))\n",
    "        array1 = np.array(user2)\n",
    "    else:\n",
    "        user1 = []\n",
    "        for i in user:\n",
    "            for j in i:\n",
    "                user1.append(int(j))\n",
    "        array1 = np.array(user1)\n",
    "    print(\"Enter number of which operation you want to perform\")\n",
    "    print(\"detail of array==1 \\ninsert in array==2\\ndelete in an array==3\")\n",
    "    while True:\n",
    "        op =input()\n",
    "        if op!=\"\" and op in (\"1\",\"2\",\"3\"):\n",
    "            break\n",
    "        else:\n",
    "            continue\n",
    "    if op==\"1\":\n",
    "        max1=array1.max()\n",
    "        min1=array1.min()\n",
    "        avg1= array1.sum()/len(array1)\n",
    "        len1 = len(array1)\n",
    "        print(\"***************Maximum value of array***************\")\n",
    "        print(max1)\n",
    "        print(\"***************Minimum value of array***************\")\n",
    "        print(min1)\n",
    "        print(\"***************Average of array***************\")\n",
    "        print(avg1)\n",
    "        print(\"***************length of array***************\")\n",
    "        print(len1)\n",
    "    elif op==\"2\":\n",
    "        while True:\n",
    "            try:\n",
    "                pos= int(input(\"enter position in integer u want to insert the item \"))\n",
    "            except ValueError:\n",
    "                print(\"Sorry, I didn't understand that. pls input give in no\")\n",
    "                continue\n",
    "            if pos <= len(array1):\n",
    "                break\n",
    "            else:\n",
    "                continue\n",
    "        while True:\n",
    "            insert_value = input(\"enter value u want to insert in string\")\n",
    "            if insert_value!=\"\":\n",
    "                break\n",
    "            else:\n",
    "                print(\"please enter something\")\n",
    "                continue\n",
    "        list1 = list(array1)\n",
    "        list1.insert(pos-1,insert_value)\n",
    "        array2 = np.array(list1)\n",
    "        print(\"***************isnsert value in list then converted into array***************\")\n",
    "        return array2\n",
    "    elif op==\"3\":\n",
    "        while True:\n",
    "            try:\n",
    "                pos= int(input(\"enter position in integer u want to insert the item \"))\n",
    "            except ValueError:\n",
    "                print(\"Sorry, I didn't understand that. pls input give in no\")\n",
    "                continue\n",
    "            if pos <= len(array1):\n",
    "                break\n",
    "            else:\n",
    "                continue\n",
    "        list1 = list(array1)\n",
    "        list1.pop(pos-1)\n",
    "        array2 = np.array(list1)\n",
    "        print(\"***************after deleting value in list then converted into array***************\")\n",
    "        return array2\n",
    "    else:\n",
    "        a()\n",
    "    "
   ]
  },
  {
   "cell_type": "code",
   "execution_count": 2,
   "metadata": {},
   "outputs": [
    {
     "name": "stdout",
     "output_type": "stream",
     "text": [
      "Enter numbers in integer or float u want to enter in array comma seprated: 1,2,3,4,5\n",
      "Enter number of which operation you want to perform\n",
      "detail of array==1 \n",
      "insert in array==2\n",
      "delete in an array==3\n",
      "2\n",
      "enter position in integer u want to insert the item 25\n",
      "enter position in integer u want to insert the item 3\n",
      "enter value u want to insert in stringabc\n",
      "***************isnsert value in list then converted into array***************\n"
     ]
    },
    {
     "data": {
      "text/plain": [
       "array(['1', '2', 'abc', '3', '4', '5'], dtype='<U11')"
      ]
     },
     "execution_count": 2,
     "metadata": {},
     "output_type": "execute_result"
    }
   ],
   "source": [
    "a()"
   ]
  },
  {
   "cell_type": "code",
   "execution_count": 21,
   "metadata": {},
   "outputs": [
    {
     "name": "stdout",
     "output_type": "stream",
     "text": [
      "5.0\n",
      "5.0\n"
     ]
    }
   ],
   "source": [
    "user = eval(input())\n",
    "print(user"
   ]
  },
  {
   "cell_type": "code",
   "execution_count": 53,
   "metadata": {},
   "outputs": [
    {
     "name": "stdout",
     "output_type": "stream",
     "text": [
      "[1345]\n"
     ]
    }
   ],
   "source": [
    "a =[\"1345\"]\n",
    "b = []\n",
    "for i in a:\n",
    "    b.append(int(i))\n",
    "    print(b)"
   ]
  },
  {
   "cell_type": "code",
   "execution_count": 65,
   "metadata": {},
   "outputs": [
    {
     "name": "stdout",
     "output_type": "stream",
     "text": [
      "[1, 3, 4]\n"
     ]
    }
   ],
   "source": [
    "a= [1,2,3,4]\n",
    "a.pop(1)\n",
    "print(a)\n"
   ]
  },
  {
   "cell_type": "code",
   "execution_count": null,
   "metadata": {},
   "outputs": [],
   "source": [
    "a= []\n",
    "if a:\n",
    "    print(\"bfvb\")"
   ]
  },
  {
   "cell_type": "code",
   "execution_count": null,
   "metadata": {},
   "outputs": [
    {
     "name": "stdout",
     "output_type": "stream",
     "text": [
      "Enter numbers in integer or float u want to enter in array comma seprated: \n",
      "please enter something\n",
      "Enter numbers in integer or float u want to enter in array comma seprated: \n",
      "please enter something\n"
     ]
    }
   ],
   "source": [
    "import numpy as np   \n",
    "while True:\n",
    "    user = input(\"Enter numbers in integer or float u want to enter in array comma seprated: \").split(\",\")\n",
    "    if user[0]!=\"\":\n",
    "        print(type(user))\n",
    "        print(user)\n",
    "        break\n",
    "    else:\n",
    "        print(\"please enter something\")\n",
    "        continue"
   ]
  },
  {
   "cell_type": "code",
   "execution_count": null,
   "metadata": {},
   "outputs": [],
   "source": []
  }
 ],
 "metadata": {
  "kernelspec": {
   "display_name": "Python 3",
   "language": "python",
   "name": "python3"
  },
  "language_info": {
   "codemirror_mode": {
    "name": "ipython",
    "version": 3
   },
   "file_extension": ".py",
   "mimetype": "text/x-python",
   "name": "python",
   "nbconvert_exporter": "python",
   "pygments_lexer": "ipython3",
   "version": "3.7.3"
  }
 },
 "nbformat": 4,
 "nbformat_minor": 2
}
