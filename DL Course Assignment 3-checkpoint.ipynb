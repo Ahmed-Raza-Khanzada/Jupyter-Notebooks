{
 "cells": [
  {
   "cell_type": "code",
   "execution_count": 1,
   "metadata": {
    "colab": {},
    "colab_type": "code",
    "id": "QkiEkMBU3xZ0"
   },
   "outputs": [],
   "source": [
    "import pandas as pd\n",
    "import numpy as np\n",
    "import matplotlib.pyplot as plt\n",
    "import numpy as np\n",
    "import pandas as pd\n",
    "import tensorflow\n",
    "from tensorflow.keras.datasets import fashion_mnist\n",
    "from tensorflow.keras import layers\n",
    "from tensorflow.keras.models import Sequential\n",
    "from tensorflow.keras.layers import Dense,Input,Conv2D,MaxPool2D,Dropout,Flatten\n",
    "from tensorflow.keras.models import Model\n"
   ]
  },
  {
   "cell_type": "code",
   "execution_count": 2,
   "metadata": {
    "colab": {},
    "colab_type": "code",
    "id": "xZBLAWr94RqS"
   },
   "outputs": [],
   "source": [
    "from tensorflow.keras.datasets import fashion_mnist\n",
    "(x_train, y_train), (x_test, y_test) = fashion_mnist.load_data()\n",
    "x_train = x_train / 255.0\n",
    "x_test = x_test / 255.0\n",
    "class_names = ['T-shirt/top', 'Trouser', 'Pullover', 'Dress', 'Coat', 'Sandal', 'Shirt', 'Sneaker', 'Bag', 'Ankle boot']"
   ]
  },
  {
   "cell_type": "markdown",
   "metadata": {
    "colab_type": "text",
    "id": "hAmK8uSU4xZ6"
   },
   "source": [
    "**Q1**\n",
    "\n",
    "Fashion MNIST dataset is already loaded for you to experiment with it. In the first question you have to explroe the dataset and show what is contianed inside it. What is the size of dataset the number of classes etc. Can you show some of the samples of classes using matplotlib or not?"
   ]
  },
  {
   "cell_type": "code",
   "execution_count": 3,
   "metadata": {
    "colab": {},
    "colab_type": "code",
    "id": "km6JX9Tf4vAv"
   },
   "outputs": [
    {
     "name": "stdout",
     "output_type": "stream",
     "text": [
      "60000\n",
      "10000\n",
      "60000\n",
      "10000\n"
     ]
    },
    {
     "data": {
      "image/png": "[encoded data removed]",
      "text/plain": [
       "<Figure size 432x288 with 1 Axes>"
      ]
     },
     "metadata": {
      "needs_background": "light"
     },
     "output_type": "display_data"
    }
   ],
   "source": [
    "print(len(x_train))\n",
    "print(len(x_test))\n",
    "print(len(y_train))\n",
    "print(len(y_test))\n",
    "#plot the first image in the dataset\n",
    "plt.imshow(x_train[10])\n",
    "print(x_train.shape)\n",
    "print(x_test.shape)"
   ]
  },
  {
   "cell_type": "code",
   "execution_count": 4,
   "metadata": {},
   "outputs": [
    {
     "data": {
      "text/plain": [
       "array([0., 0., 0., 0., 0., 0., 0., 0., 0., 1.], dtype=float32)"
      ]
     },
     "execution_count": 4,
     "metadata": {},
     "output_type": "execute_result"
    }
   ],
   "source": [
    "from tensorflow.keras.utils import to_categorical\n",
    "from sklearn.preprocessing import LabelEncoder\n",
    "x_train = x_train.reshape(x_train.shape[0],28,28,1)\n",
    "x_test = x_test.reshape(x_test.shape[0],28,28,1)\n",
    "encoder = LabelEncoder()\n",
    "y_train = encoder.fit_transform(y_train)\n",
    "y_test = encoder.fit_transform(y_test)\n",
    "y_train = to_categorical(y_train)\n",
    "y_test = to_categorical(y_test)\n",
    "y_test[0]"
   ]
  },
  {
   "cell_type": "code",
   "execution_count": 5,
   "metadata": {},
   "outputs": [
    {
     "data": {
      "text/plain": [
       "(60000, 10)"
      ]
     },
     "execution_count": 5,
     "metadata": {},
     "output_type": "execute_result"
    }
   ],
   "source": [
    "y_train.shape"
   ]
  },
  {
   "cell_type": "markdown",
   "metadata": {
    "colab_type": "text",
    "id": "H9_um_HL5wSr"
   },
   "source": [
    "**Q2**\n",
    "\n",
    "Create a plain CNN model which should have conv2d, maxpool and dense layers in it to predict the classes. Train and test the network.\n",
    "\n"
   ]
  },
  {
   "cell_type": "code",
   "execution_count": 6,
   "metadata": {
    "colab": {},
    "colab_type": "code",
    "id": "0aiZiUSb5wrO"
   },
   "outputs": [],
   "source": [
    "def plain_cnn_model():\n",
    "    inpx = (28,28,1)\n",
    "    inpx = Input(shape=inpx)\n",
    "    layer1= Conv2D(100,kernel_size=(3,3),activation=\"relu\")(inpx)\n",
    "    layer2= MaxPool2D(pool_size= (3,3))(layer1)\n",
    "    layer3= Flatten()(layer2)\n",
    "    layer4= Dense(250,activation=\"sigmoid\")(layer3) \n",
    "    layer5= Dense(10,activation=\"softmax\")(layer4)\n",
    "    model = Model([inpx],layer5)\n",
    "    model.compile(optimizer = \"adam\",loss = tensorflow.keras.losses.categorical_crossentropy,metrics= [\"accuracy\"],lr=0.01)\n",
    "    return model\n"
   ]
  },
  {
   "cell_type": "markdown",
   "metadata": {
    "colab_type": "text",
    "id": "2PpGrj_b68nl"
   },
   "source": [
    "**Q3**\n",
    "\n",
    "Modify the above classes with dropout and batchnorm in it and train it."
   ]
  },
  {
   "cell_type": "code",
   "execution_count": 7,
   "metadata": {
    "colab": {},
    "colab_type": "code",
    "id": "JN-vlddJ69AA"
   },
   "outputs": [],
   "source": [
    "def regularized_cnn_model():\n",
    "    inpx = (28,28,1)\n",
    "    inpx = Input(shape=inpx)\n",
    "    layer1= Conv2D(100,kernel_size=(3,3),activation=\"relu\")(inpx)\n",
    "    layer2= Dropout(0.2)(layer1)\n",
    "    layer3= MaxPool2D(pool_size= (3,3))(layer2)\n",
    "    layer4= Flatten()(layer3)\n",
    "    layer5= Dense(250,activation=\"sigmoid\")(layer4)\n",
    "    layer6 = Dropout(0.2)(layer5)\n",
    "    layer7= Dense(10,activation=\"softmax\")(layer6)\n",
    "    model = Model([inpx],layer7)\n",
    "    model.compile(optimizer = \"adam\",loss = tensorflow.keras.losses.categorical_crossentropy,metrics= [\"accuracy\"],lr=0.01)\n",
    "    return model"
   ]
  },
  {
   "cell_type": "code",
   "execution_count": 8,
   "metadata": {
    "colab": {},
    "colab_type": "code",
    "id": "0NMh25Snosm-"
   },
   "outputs": [
    {
     "name": "stdout",
     "output_type": "stream",
     "text": [
      "       With Plain CNN\n",
      "Train on 60000 samples\n",
      "Epoch 1/5\n",
      "60000/60000 [==============================] - 40s 673us/sample - loss: 0.9481 - accuracy: 0.6886\n",
      "Epoch 2/5\n",
      "60000/60000 [==============================] - 41s 682us/sample - loss: 0.4957 - accuracy: 0.8208\n",
      "Epoch 3/5\n",
      "60000/60000 [==============================] - 41s 681us/sample - loss: 0.4118 - accuracy: 0.8569\n",
      "Epoch 4/5\n",
      "60000/60000 [==============================] - 40s 672us/sample - loss: 0.3689 - accuracy: 0.8703\n",
      "Epoch 5/5\n",
      "60000/60000 [==============================] - 40s 674us/sample - loss: 0.3400 - accuracy: 0.8804\n",
      "       With Regularized CNN\n",
      "Train on 60000 samples\n",
      "Epoch 1/5\n",
      "60000/60000 [==============================] - 91s 2ms/sample - loss: 0.9366 - accuracy: 0.6727\n",
      "Epoch 2/5\n",
      "60000/60000 [==============================] - 89s 1ms/sample - loss: 0.5012 - accuracy: 0.8182\n",
      "Epoch 3/5\n",
      "60000/60000 [==============================] - 100s 2ms/sample - loss: 0.4232 - accuracy: 0.8497\n",
      "Epoch 4/5\n",
      "60000/60000 [==============================] - 89s 1ms/sample - loss: 0.3811 - accuracy: 0.8656\n",
      "Epoch 5/5\n",
      "60000/60000 [==============================] - 89s 1ms/sample - loss: 0.3579 - accuracy: 0.8727\n"
     ]
    }
   ],
   "source": [
    "plain_cnn  = plain_cnn_model()\n",
    "regularized_cnn  = regularized_cnn_model()\n",
    "print(\"       With Plain CNN\")\n",
    "history1=plain_cnn.fit(x_train,y_train,batch_size = 1000,epochs = 5)\n",
    "print(\"       With Regularized CNN\")\n",
    "history2=regularized_cnn.fit(x_train,y_train,batch_size = 1000,epochs = 5)"
   ]
  },
  {
   "cell_type": "markdown",
   "metadata": {
    "colab_type": "text",
    "id": "OC9Z_Rtyotxz"
   },
   "source": [
    "**Q4**\n",
    "\n",
    "Test and plot the network and compare the performance of the networks."
   ]
  },
  {
   "cell_type": "code",
   "execution_count": 10,
   "metadata": {},
   "outputs": [],
   "source": [
    "#Note we can get more accuracy with more epoochs and our model can further train but due to shortage of time i just ran 5\n",
    "score1=plain_cnn.evaluate(x_test,y_test,verbose=0)\n",
    "score2=regularized_cnn.evaluate(x_test,y_test,verbose=0)"
   ]
  },
  {
   "cell_type": "code",
   "execution_count": null,
   "metadata": {},
   "outputs": [],
   "source": []
  },
  {
   "cell_type": "code",
   "execution_count": null,
   "metadata": {},
   "outputs": [],
   "source": [
    "plt.rcParams[\"figure.figsize\"]=(16,8)\n",
    "plt.plot(history.history['accuracy'])\n",
    "plt.plot(history.history['val_accuracy'])\n",
    "plt.title('model accuracy')\n",
    "plt.ylabel('accuracy')\n",
    "plt.xlabel('epoch')\n",
    "plt.legend(['train', 'val'], loc='upper left')\n",
    "plt.show()"
   ]
  }
 ],
 "metadata": {
  "colab": {
   "authorship_tag": "ABX9TyNOnbdJPepTe6m6hbJj61s/",
   "collapsed_sections": [],
   "name": "DL Course Assignment 3.ipynb",
   "provenance": []
  },
  "kernelspec": {
   "display_name": "Python 3",
   "language": "python",
   "name": "python3"
  },
  "language_info": {
   "codemirror_mode": {
    "name": "ipython",
    "version": 3
   },
   "file_extension": ".py",
   "mimetype": "text/x-python",
   "name": "python",
   "nbconvert_exporter": "python",
   "pygments_lexer": "ipython3",
   "version": "3.7.3"
  }
 },
 "nbformat": 4,
 "nbformat_minor": 1
}
